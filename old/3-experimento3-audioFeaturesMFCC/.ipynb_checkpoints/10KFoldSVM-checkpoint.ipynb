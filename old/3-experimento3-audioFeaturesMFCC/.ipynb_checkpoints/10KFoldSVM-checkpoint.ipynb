{
 "cells": [
  {
   "cell_type": "code",
   "execution_count": null,
   "id": "51b359d5",
   "metadata": {},
   "outputs": [],
   "source": [
    "import pandas as pd\n",
    "import numpy as np\n",
    "import copy as cp\n",
    "import matplotlib.pyplot as plt\n",
    "import seaborn as sns\n",
    "\n",
    "from typing import Tuple\n",
    "from sklearn.metrics import confusion_matrix\n",
    "from sklearn.model_selection import StratifiedKFold\n",
    "from sklearn import svm\n",
    "from sklearn.metrics import accuracy_score\n",
    "from sklearn import decomposition"
   ]
  },
  {
   "cell_type": "code",
   "execution_count": null,
   "id": "d03d902b",
   "metadata": {},
   "outputs": [],
   "source": [
    "def cross_val_predict(model, k, X, y) -> Tuple[np.array, np.array, np.array]:\n",
    "\n",
    "    kfold = StratifiedKFold(n_splits=k)\n",
    "    model_ = cp.deepcopy(model)\n",
    "    acc_score = []\n",
    "    \n",
    "    no_classes = len(np.unique(y))\n",
    "    \n",
    "    actual_classes = np.empty([0], dtype=int)\n",
    "    predicted_classes = np.empty([0], dtype=int)\n",
    "    predicted_proba = np.empty([0, no_classes]) \n",
    "\n",
    "    for train_ndx, test_ndx in kfold.split(X,y):\n",
    "\n",
    "        train_X, train_y, test_X, test_y = X[train_ndx], y[train_ndx], X[test_ndx], y[test_ndx]\n",
    "\n",
    "        actual_classes = np.append(actual_classes, test_y)\n",
    "\n",
    "        model_.fit(train_X, train_y)\n",
    "        pred_values = model_.predict(test_X)\n",
    "        acc = accuracy_score(pred_values , test_y)\n",
    "        acc_score.append(acc)\n",
    "        predicted_classes = np.append(predicted_classes, pred_values)\n",
    "        avg_acc_score = sum(acc_score)/k\n",
    "\n",
    "        try:\n",
    "            predicted_proba = np.append(predicted_proba, model_.predict_proba(test_X), axis=0)\n",
    "        except:\n",
    "            predicted_proba = np.append(predicted_proba, np.zeros((len(test_X), no_classes), dtype=float), axis=0)\n",
    "\n",
    "    print('accuracy of each fold - {}'.format(acc_score))\n",
    "    print('Avg accuracy : {}'.format(avg_acc_score))\n",
    "\n",
    "    return actual_classes, predicted_classes, predicted_proba"
   ]
  },
  {
   "cell_type": "code",
   "execution_count": null,
   "id": "9e2c2762",
   "metadata": {},
   "outputs": [],
   "source": [
    "def plot_confusion_matrix(actual_classes : np.array, predicted_classes : np.array, sorted_labels : list):\n",
    "\n",
    "    matrix = confusion_matrix(actual_classes, predicted_classes, labels=sorted_labels)\n",
    "    \n",
    "    plt.figure(figsize=(12.8,6))\n",
    "    sns.heatmap(matrix, annot=True, xticklabels=sorted_labels, yticklabels=sorted_labels, cmap=\"Blues\", fmt=\"g\")\n",
    "    plt.xlabel('Predicted'); plt.ylabel('Actual'); plt.title('Confusion Matrix')\n",
    "    plt.show()\n",
    "    plt.savefig('health-confusion-matrix.png')"
   ]
  },
  {
   "cell_type": "code",
   "execution_count": null,
   "id": "686a8130",
   "metadata": {},
   "outputs": [],
   "source": [
    "X = pd.read_csv('/mfcc/X.csv')\n",
    "y = pd.read_csv('/mfcc/y.csv')\n",
    "y = dataset.iloc[:, 1].values\n",
    "\n",
    "model = svm.SVC(gamma='scale')\n",
    "k=10\n",
    "\n",
    "actual_classes, predicted_classes, _ = cross_val_predict(model, k, X, y)\n",
    "plot_confusion_matrix(actual_classes, predicted_classes, [0, 1])"
   ]
  }
 ],
 "metadata": {
  "kernelspec": {
   "display_name": "Python 3",
   "language": "python",
   "name": "python3"
  },
  "language_info": {
   "codemirror_mode": {
    "name": "ipython",
    "version": 3
   },
   "file_extension": ".py",
   "mimetype": "text/x-python",
   "name": "python",
   "nbconvert_exporter": "python",
   "pygments_lexer": "ipython3",
   "version": "3.6.13"
  }
 },
 "nbformat": 4,
 "nbformat_minor": 5
}
