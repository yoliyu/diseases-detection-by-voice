{
 "cells": [
  {
   "cell_type": "code",
   "execution_count": 1,
   "id": "d9856ef0",
   "metadata": {},
   "outputs": [],
   "source": [
    "import parselmouth\n",
    "import glob\n",
    "import numpy as np\n",
    "import matplotlib.pyplot as plt\n",
    "import matplotlib.image as img\n",
    "import pandas as pd\n",
    "import seaborn as sns\n",
    "from tensorflow import keras\n",
    "from tensorflow.keras.preprocessing.image import ImageDataGenerator\n",
    "\n",
    "sns.set() # Use seaborn's default style to make attractive graphs"
   ]
  },
  {
   "cell_type": "code",
   "execution_count": null,
   "id": "fa32ec64",
   "metadata": {},
   "outputs": [],
   "source": [
    "def create_spectrogram(path,id):\n",
    "    dynamic_range=50\n",
    "    sound = parselmouth.Sound(path)\n",
    "    sound.pre_emphasize()\n",
    "    spectrogram = sound.to_spectrogram(window_length=0.05, \n",
    "                                   maximum_frequency=5500)\n",
    "    X, Y = spectrogram.x_grid(), spectrogram.y_grid()\n",
    "    sg_db = 10 * np.log10(spectrogram.values)\n",
    "    \n",
    "    fig = plt.figure(figsize=(16,12))\n",
    "    plt.pcolormesh(X, Y, sg_db, vmin=sg_db.max() - dynamic_range, cmap='afmhot')\n",
    "    plt.ylim([spectrogram.ymin, spectrogram.ymax])\n",
    "    plt.gca().set_axis_off()\n",
    "    plt.subplots_adjust(top = 1, bottom = 0, right = 1, left = 0,\n",
    "            hspace = 0, wspace = 0)\n",
    "    plt.margins(0,0)\n",
    "    fig.canvas.draw()\n",
    "    #numpy = np.frombuffer(fig.canvas.tostring_rgb(), dtype='uint8')\n",
    "    \n",
    "    \n",
    "    return plt"
   ]
  },
  {
   "cell_type": "code",
   "execution_count": null,
   "id": "390e9a09",
   "metadata": {},
   "outputs": [],
   "source": [
    "sex_list = []\n",
    "healthy_list = []\n",
    "\n",
    "\n",
    "meta = pd.read_excel('../bd/SVD/META/SVD.xls', sheet_name='SVD')\n",
    "ids = meta['ID'].tolist()\n",
    "healthy = meta['Healthy'].tolist()\n",
    "sex = meta['Sex'].tolist()"
   ]
  },
  {
   "cell_type": "code",
   "execution_count": null,
   "id": "c30717a3",
   "metadata": {},
   "outputs": [],
   "source": [
    "for wave_file in glob.glob(\"../bd/SVD/BD/PHRASE/*.wav\"):\n",
    "    x = wave_file.replace(\"../bd/SVD/BD/PHRASE\", \"\")\n",
    "    id = x.replace(\"-phrase.wav\", \"\")\n",
    "    id = id.replace(\"\\\\\", \"\")\n",
    "    placeId = ids.index(int(id))\n",
    "    print(id)\n",
    "    plt = create_spectrogram(wave_file,id)\n",
    "    plt.savefig(\"SVD/spectrograms_PHRASE/women/\"+id+\".jpg\") if sex[placeId]==\"m\" else plt.savefig(\"SVD/spectrograms_PHRASE/men/\"+id+\".jpg\")\n",
    "    plt.close()"
   ]
  },
  {
   "cell_type": "code",
   "execution_count": 2,
   "id": "ca7f1233",
   "metadata": {},
   "outputs": [
    {
     "name": "stdout",
     "output_type": "stream",
     "text": [
      "WARNING:tensorflow:From C:\\Users\\yolan\\anaconda3\\envs\\directml\\lib\\site-packages\\tensorflow_core\\python\\ops\\resource_variable_ops.py:1630: calling BaseResourceVariable.__init__ (from tensorflow.python.ops.resource_variable_ops) with constraint is deprecated and will be removed in a future version.\n",
      "Instructions for updating:\n",
      "If using Keras pass *_constraint arguments to layers.\n",
      "WARNING:tensorflow:From C:\\Users\\yolan\\anaconda3\\envs\\directml\\lib\\site-packages\\tensorflow_core\\python\\ops\\nn_impl.py:183: where (from tensorflow.python.ops.array_ops) is deprecated and will be removed in a future version.\n",
      "Instructions for updating:\n",
      "Use tf.where in 2.0, which has the same broadcast rule as np.where\n",
      "Found 837 images belonging to 2 classes.\n",
      "Found 200 images belonging to 2 classes.\n",
      "Epoch 1/10\n",
      "11/12 [==========================>...] - ETA: 1s - loss: 0.9496 - binary_accuracy: 0.3636Epoch 1/10\n",
      "12/12 [==============================] - 30s 3s/step - loss: 0.9799 - binary_accuracy: 0.3333 - val_loss: 0.8133 - val_binary_accuracy: 0.5000\n",
      "Epoch 2/10\n",
      "11/12 [==========================>...] - ETA: 2s - loss: 0.8587 - binary_accuracy: 0.4545Epoch 1/10\n",
      "12/12 [==============================] - 35s 3s/step - loss: 0.8133 - binary_accuracy: 0.5000 - val_loss: 0.8133 - val_binary_accuracy: 0.5000\n",
      "Epoch 3/10\n",
      "11/12 [==========================>...] - ETA: 2s - loss: 0.7678 - binary_accuracy: 0.5455Epoch 1/10\n",
      "12/12 [==============================] - 35s 3s/step - loss: 0.8133 - binary_accuracy: 0.5000 - val_loss: 0.8133 - val_binary_accuracy: 0.5000\n",
      "Epoch 4/10\n",
      "11/12 [==========================>...] - ETA: 2s - loss: 0.7678 - binary_accuracy: 0.5455Epoch 1/10\n",
      "12/12 [==============================] - 34s 3s/step - loss: 0.8133 - binary_accuracy: 0.5000 - val_loss: 0.8133 - val_binary_accuracy: 0.5000\n",
      "Epoch 5/10\n",
      "11/12 [==========================>...] - ETA: 2s - loss: 0.9496 - binary_accuracy: 0.3636Epoch 1/10\n",
      "12/12 [==============================] - 36s 3s/step - loss: 0.9799 - binary_accuracy: 0.3333 - val_loss: 0.8133 - val_binary_accuracy: 0.5000\n",
      "Epoch 6/10\n",
      "11/12 [==========================>...] - ETA: 2s - loss: 0.9496 - binary_accuracy: 0.3636Epoch 1/10\n",
      "12/12 [==============================] - 33s 3s/step - loss: 0.8966 - binary_accuracy: 0.4167 - val_loss: 0.8133 - val_binary_accuracy: 0.5000\n",
      "Epoch 7/10\n",
      "11/12 [==========================>...] - ETA: 2s - loss: 0.9496 - binary_accuracy: 0.3636Epoch 1/10\n",
      "12/12 [==============================] - 34s 3s/step - loss: 0.9799 - binary_accuracy: 0.3333 - val_loss: 0.8133 - val_binary_accuracy: 0.5000\n",
      "Epoch 8/10\n",
      "11/12 [==========================>...] - ETA: 2s - loss: 0.9496 - binary_accuracy: 0.3636Epoch 1/10\n",
      "12/12 [==============================] - 38s 3s/step - loss: 0.9799 - binary_accuracy: 0.3333 - val_loss: 0.8133 - val_binary_accuracy: 0.5000\n",
      "Epoch 9/10\n",
      "11/12 [==========================>...] - ETA: 2s - loss: 0.7678 - binary_accuracy: 0.5455Epoch 1/10\n",
      "12/12 [==============================] - 34s 3s/step - loss: 0.8133 - binary_accuracy: 0.5000 - val_loss: 0.8133 - val_binary_accuracy: 0.5000\n",
      "Epoch 10/10\n",
      "11/12 [==========================>...] - ETA: 2s - loss: 0.7678 - binary_accuracy: 0.5455Epoch 1/10\n",
      "12/12 [==============================] - 33s 3s/step - loss: 0.7299 - binary_accuracy: 0.5833 - val_loss: 0.8133 - val_binary_accuracy: 0.5000\n"
     ]
    },
    {
     "data": {
      "text/plain": [
       "<tensorflow.python.keras.callbacks.History at 0x2538f805cc0>"
      ]
     },
     "execution_count": 2,
     "metadata": {},
     "output_type": "execute_result"
    }
   ],
   "source": [
    "base_model = keras.applications.VGG16(\n",
    "    weights='imagenet',\n",
    "    input_shape=(1152, 864, 3),\n",
    "    include_top=False)\n",
    "\n",
    "# Freeze base model\n",
    "base_model.trainable = False\n",
    "\n",
    "# Create inputs with correct shape\n",
    "inputs = keras.Input(shape=(1152, 864, 3))\n",
    "\n",
    "x = base_model(inputs, training=False)\n",
    "\n",
    "# Add pooling layer or flatten layer\n",
    "x =  keras.layers.GlobalAveragePooling2D()(x)\n",
    "\n",
    "# Add final dense layer\n",
    "outputs = keras.layers.Dense(1, activation = 'softmax')(x)\n",
    "\n",
    "# Combine inputs and outputs to create model\n",
    "model = keras.Model(inputs, outputs)\n",
    "\n",
    "# Important to use binary crossentropy and binary accuracy as we now have a binary classification problem\n",
    "model.compile(loss=keras.losses.BinaryCrossentropy(from_logits=True), metrics=[keras.metrics.BinaryAccuracy()])\n",
    "\n",
    "# Create a data generator\n",
    "datagen_train = ImageDataGenerator(\n",
    "#    samplewise_center=True,  # set each sample mean to 0\n",
    "#    rotation_range=10,  # randomly rotate images in the range (degrees, 0 to 180)\n",
    "#    zoom_range=0.1,  # Randomly zoom image\n",
    "#    width_shift_range=0.1,  # randomly shift images horizontally (fraction of total width)\n",
    "#    height_shift_range=0.1,  # randomly shift images vertically (fraction of total height)\n",
    "#    horizontal_flip=True,  # randomly flip images\n",
    "#    vertical_flip=False,\n",
    ")  # we don't expect Bo to be upside-down so we will not flip vertically\n",
    "\n",
    "# No need to augment validation data\n",
    "datagen_valid = ImageDataGenerator(samplewise_center=True)\n",
    "\n",
    "# load and iterate training dataset\n",
    "train_it = datagen_train.flow_from_directory(\n",
    "    \"SVD/spectrograms_PHRASE/train/\",\n",
    "    target_size=(1152, 864),\n",
    "    color_mode=\"rgb\",\n",
    "    class_mode=\"binary\",\n",
    "    batch_size=1,\n",
    ")\n",
    "\n",
    "# load and iterate validation dataset\n",
    "valid_it = datagen_valid.flow_from_directory(\n",
    "    \"SVD/spectrograms_PHRASE/valid/\",\n",
    "    target_size=(1152, 864),\n",
    "    color_mode=\"rgb\",\n",
    "    class_mode=\"binary\",\n",
    "    batch_size=1,\n",
    ")\n",
    "\n",
    "model.fit(train_it, steps_per_epoch=12, validation_data=valid_it, validation_steps=4, epochs=10)"
   ]
  },
  {
   "cell_type": "code",
   "execution_count": 5,
   "id": "40ee2eeb",
   "metadata": {},
   "outputs": [
    {
     "name": "stdout",
     "output_type": "stream",
     "text": [
      "Epoch 1/10\n",
      "11/12 [==========================>...] - ETA: 12s - loss: 0.7678 - binary_accuracy: 0.5455Epoch 1/10\n",
      "12/12 [==============================] - 159s 13s/step - loss: 0.8133 - binary_accuracy: 0.5000 - val_loss: 0.8133 - val_binary_accuracy: 0.5000\n",
      "Epoch 2/10\n",
      "11/12 [==========================>...] - ETA: 12s - loss: 0.8587 - binary_accuracy: 0.4545Epoch 1/10\n",
      "12/12 [==============================] - 161s 13s/step - loss: 0.8966 - binary_accuracy: 0.4167 - val_loss: 0.8133 - val_binary_accuracy: 0.5000\n",
      "Epoch 3/10\n",
      "11/12 [==========================>...] - ETA: 12s - loss: 1.0405 - binary_accuracy: 0.2727Epoch 1/10\n",
      "12/12 [==============================] - 162s 14s/step - loss: 0.9799 - binary_accuracy: 0.3333 - val_loss: 0.8133 - val_binary_accuracy: 0.5000\n",
      "Epoch 4/10\n",
      "11/12 [==========================>...] - ETA: 13s - loss: 0.9496 - binary_accuracy: 0.3636Epoch 1/10\n",
      "12/12 [==============================] - 178s 15s/step - loss: 0.9799 - binary_accuracy: 0.3333 - val_loss: 0.8133 - val_binary_accuracy: 0.5000\n",
      "Epoch 5/10\n",
      "11/12 [==========================>...] - ETA: 13s - loss: 0.9496 - binary_accuracy: 0.3636Epoch 1/10\n",
      "12/12 [==============================] - 167s 14s/step - loss: 0.9799 - binary_accuracy: 0.3333 - val_loss: 0.8133 - val_binary_accuracy: 0.5000\n",
      "Epoch 6/10\n",
      "11/12 [==========================>...] - ETA: 12s - loss: 0.8587 - binary_accuracy: 0.4545Epoch 1/10\n",
      "12/12 [==============================] - 162s 14s/step - loss: 0.8966 - binary_accuracy: 0.4167 - val_loss: 0.8133 - val_binary_accuracy: 0.5000\n",
      "Epoch 7/10\n",
      "11/12 [==========================>...] - ETA: 12s - loss: 1.1314 - binary_accuracy: 0.1818Epoch 1/10\n",
      "12/12 [==============================] - 162s 13s/step - loss: 1.1466 - binary_accuracy: 0.1667 - val_loss: 0.8133 - val_binary_accuracy: 0.5000\n",
      "Epoch 8/10\n",
      "11/12 [==========================>...] - ETA: 17s - loss: 0.9496 - binary_accuracy: 0.3636Epoch 1/10\n",
      "12/12 [==============================] - 208s 17s/step - loss: 0.8966 - binary_accuracy: 0.4167 - val_loss: 0.8133 - val_binary_accuracy: 0.5000\n",
      "Epoch 9/10\n",
      "11/12 [==========================>...] - ETA: 12s - loss: 0.6769 - binary_accuracy: 0.6364Epoch 1/10\n",
      "12/12 [==============================] - 157s 13s/step - loss: 0.6466 - binary_accuracy: 0.6667 - val_loss: 0.8133 - val_binary_accuracy: 0.5000\n",
      "Epoch 10/10\n",
      "11/12 [==========================>...] - ETA: 12s - loss: 0.7678 - binary_accuracy: 0.5455Epoch 1/10\n",
      "12/12 [==============================] - 163s 14s/step - loss: 0.7299 - binary_accuracy: 0.5833 - val_loss: 0.8133 - val_binary_accuracy: 0.5000\n"
     ]
    },
    {
     "data": {
      "text/plain": [
       "<tensorflow.python.keras.callbacks.History at 0x253904b4ef0>"
      ]
     },
     "execution_count": 5,
     "metadata": {},
     "output_type": "execute_result"
    }
   ],
   "source": [
    "# Unfreeze the base model\n",
    "base_model.trainable = True\n",
    "\n",
    "# It's important to recompile your model after you make any changes\n",
    "# to the `trainable` attribute of any inner layer, so that your changes\n",
    "# are taken into account\n",
    "model.compile(optimizer=keras.optimizers.RMSprop(learning_rate = .00001),  # Very low learning rate\n",
    "              loss=keras.losses.BinaryCrossentropy(from_logits=True),\n",
    "              metrics=[keras.metrics.BinaryAccuracy()])\n",
    "\n",
    "model.fit(train_it, steps_per_epoch=12, validation_data=valid_it, validation_steps=4, epochs=10)\n",
    "\n",
    "\n",
    "\n"
   ]
  },
  {
   "cell_type": "code",
   "execution_count": 6,
   "id": "09fd6720",
   "metadata": {},
   "outputs": [
    {
     "ename": "NameError",
     "evalue": "name 'X_test' is not defined",
     "output_type": "error",
     "traceback": [
      "\u001b[1;31m---------------------------------------------------------------------------\u001b[0m",
      "\u001b[1;31mNameError\u001b[0m                                 Traceback (most recent call last)",
      "\u001b[1;32m<ipython-input-6-a47fbc6f3577>\u001b[0m in \u001b[0;36m<module>\u001b[1;34m\u001b[0m\n\u001b[1;32m----> 1\u001b[1;33m \u001b[0mscore\u001b[0m \u001b[1;33m=\u001b[0m \u001b[0mmodel\u001b[0m\u001b[1;33m.\u001b[0m\u001b[0mevaluate\u001b[0m\u001b[1;33m(\u001b[0m\u001b[0mX_test\u001b[0m\u001b[1;33m,\u001b[0m \u001b[0my_test\u001b[0m\u001b[1;33m,\u001b[0m \u001b[0mverbose\u001b[0m\u001b[1;33m=\u001b[0m\u001b[1;36m0\u001b[0m\u001b[1;33m)\u001b[0m\u001b[1;33m\u001b[0m\u001b[1;33m\u001b[0m\u001b[0m\n\u001b[0m\u001b[0;32m      2\u001b[0m \u001b[0mprint\u001b[0m\u001b[1;33m(\u001b[0m\u001b[1;34m'Test loss:'\u001b[0m\u001b[1;33m,\u001b[0m \u001b[0mscore\u001b[0m\u001b[1;33m[\u001b[0m\u001b[1;36m0\u001b[0m\u001b[1;33m]\u001b[0m\u001b[1;33m)\u001b[0m\u001b[1;33m\u001b[0m\u001b[1;33m\u001b[0m\u001b[0m\n\u001b[0;32m      3\u001b[0m \u001b[0mprint\u001b[0m\u001b[1;33m(\u001b[0m\u001b[1;34m'Test accuracy:'\u001b[0m\u001b[1;33m,\u001b[0m \u001b[0mscore\u001b[0m\u001b[1;33m[\u001b[0m\u001b[1;36m1\u001b[0m\u001b[1;33m]\u001b[0m\u001b[1;33m)\u001b[0m\u001b[1;33m\u001b[0m\u001b[1;33m\u001b[0m\u001b[0m\n",
      "\u001b[1;31mNameError\u001b[0m: name 'X_test' is not defined"
     ]
    }
   ],
   "source": []
  },
  {
   "cell_type": "code",
   "execution_count": null,
   "id": "47741f2f",
   "metadata": {},
   "outputs": [],
   "source": []
  }
 ],
 "metadata": {
  "kernelspec": {
   "display_name": "Python 3",
   "language": "python",
   "name": "python3"
  },
  "language_info": {
   "codemirror_mode": {
    "name": "ipython",
    "version": 3
   },
   "file_extension": ".py",
   "mimetype": "text/x-python",
   "name": "python",
   "nbconvert_exporter": "python",
   "pygments_lexer": "ipython3",
   "version": "3.6.13"
  }
 },
 "nbformat": 4,
 "nbformat_minor": 5
}
