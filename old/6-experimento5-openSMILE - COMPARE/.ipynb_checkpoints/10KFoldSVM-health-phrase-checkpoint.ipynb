{
 "cells": [
  {
   "cell_type": "code",
   "execution_count": 1,
   "id": "7ef796d3",
   "metadata": {},
   "outputs": [],
   "source": [
    "import pandas as pd\n",
    "import numpy as np\n",
    "import copy as cp\n",
    "import matplotlib.pyplot as plt\n",
    "\n",
    "import seaborn as sns\n",
    "from typing import Tuple\n",
    "from sklearn.metrics import classification_report, confusion_matrix \n",
    "from sklearn.model_selection import StratifiedKFold\n",
    "from sklearn import svm\n",
    "from sklearn.metrics import accuracy_score\n",
    "from sklearn.metrics import precision_score\n",
    "from sklearn import decomposition\n",
    "from sklearn.model_selection import GridSearchCV\n",
    "from sklearn.model_selection import train_test_split\n",
    "from sklearn.linear_model import LogisticRegression\n",
    "from sklearn.naive_bayes import GaussianNB\n",
    "from sklearn.ensemble import RandomForestClassifier\n",
    "from sklearn.ensemble import AdaBoostClassifier\n",
    "from sklearn.neural_network import MLPClassifier\n",
    "from sklearn import preprocessing"
   ]
  },
  {
   "cell_type": "code",
   "execution_count": 2,
   "id": "c34a4198",
   "metadata": {},
   "outputs": [],
   "source": [
    "def cross_val_predict(model, k, X, y) -> Tuple[np.array, np.array, np.array]:\n",
    "\n",
    "    kfold = StratifiedKFold(n_splits=k)\n",
    "    model_ = cp.deepcopy(model)\n",
    "    acc_score = []\n",
    "    pre_score = []\n",
    "    \n",
    "    no_classes = len(np.unique(y))\n",
    "    scaler = preprocessing.StandardScaler()\n",
    "    \n",
    "    actual_classes = np.empty([0], dtype=int)\n",
    "    predicted_classes = np.empty([0], dtype=int)\n",
    "    predicted_proba = np.empty([0, no_classes]) \n",
    "\n",
    "    for train_ndx, test_ndx in kfold.split(X,y):\n",
    "\n",
    "        train_X, train_y, test_X, test_y = X[train_ndx], y[train_ndx], X[test_ndx], y[test_ndx]\n",
    "       \n",
    "        actual_classes = np.append(actual_classes, test_y)\n",
    "\n",
    "        model_.fit(train_X, train_y)\n",
    "        pred_values = model_.predict(test_X)\n",
    "        acc = accuracy_score(pred_values , test_y)\n",
    "        pre = precision_score(pred_values , test_y)\n",
    "        acc_score.append(acc)\n",
    "        pre_score.append(pre)\n",
    "        predicted_classes = np.append(predicted_classes, pred_values)\n",
    "        avg_acc_score = sum(acc_score)/k\n",
    "        avg_pre_score = sum (pre_score)/k\n",
    "        #plt.plot(model_.loss_curve_)\n",
    "        #plt.show()\n",
    "\n",
    "        try:\n",
    "            predicted_proba = np.append(predicted_proba, model_.predict_proba(test_X), axis=0)\n",
    "        except:\n",
    "            predicted_proba = np.append(predicted_proba, np.zeros((len(test_X), no_classes), dtype=float), axis=0)\n",
    "\n",
    "    print('accuracy of each fold - {}'.format(acc_score))\n",
    "    print('Avg accuracy : {}'.format(avg_acc_score))\n",
    "    print('precission of each fold - {}'.format(pre_score))\n",
    "    print('Avg precission : {}'.format(avg_pre_score))\n",
    "\n",
    "    return actual_classes, predicted_classes, predicted_proba"
   ]
  },
  {
   "cell_type": "code",
   "execution_count": 3,
   "id": "70a1fe5a",
   "metadata": {},
   "outputs": [],
   "source": [
    "def plot_confusion_matrix(actual_classes : np.array, predicted_classes : np.array, sorted_labels : list):\n",
    "\n",
    "    matrix = confusion_matrix(actual_classes, predicted_classes, labels=sorted_labels)\n",
    "    \n",
    "    plt.figure(figsize=(12.8,6))\n",
    "    sns.heatmap(matrix, annot=True, xticklabels=sorted_labels, yticklabels=sorted_labels, cmap=\"Blues\", fmt=\"g\")\n",
    "    plt.xlabel('Predicted'); plt.ylabel('Actual'); plt.title('Confusion Matrix')\n",
    "    plt.show()\n",
    "  "
   ]
  },
  {
   "cell_type": "code",
   "execution_count": 4,
   "id": "31834b9e",
   "metadata": {},
   "outputs": [],
   "source": [
    "dataframe = pd.read_csv('X_phrase.csv')\n",
    "\n",
    "X = dataframe.iloc[:, 3:-1].values\n",
    "y = dataframe.iloc [:, 6374]\n",
    "\n",
    "k=10"
   ]
  },
  {
   "cell_type": "code",
   "execution_count": null,
   "id": "32f82fc2",
   "metadata": {},
   "outputs": [],
   "source": [
    "param_grid = [\n",
    "        {\n",
    "            'kernel' : ['linear', 'poly', 'rbf', 'sigmoid'],\n",
    "            'degree' : [0,1,2,3,4,5,6,7,8,9],\n",
    "            'gamma' : ['scale', 'auto'],\n",
    "            'C': [1, 10, 100, 1000]\n",
    "        }\n",
    "       ]\n",
    "clf = GridSearchCV(svm.SVC(), param_grid,\n",
    "                           scoring='accuracy')\n",
    "clf.fit(X,y)\n",
    "\n",
    "\n",
    "print(\"Best parameters set found on development set:\")\n",
    "print(clf.best_params_)"
   ]
  },
  {
   "cell_type": "code",
   "execution_count": 6,
   "id": "2218054d",
   "metadata": {},
   "outputs": [
    {
     "name": "stdout",
     "output_type": "stream",
     "text": [
      "accuracy of each fold - [0.6767676767676768, 0.6767676767676768, 0.6767676767676768, 0.6767676767676768, 0.6818181818181818, 0.6818181818181818, 0.6818181818181818, 0.6818181818181818, 0.6818181818181818, 0.6802030456852792]\n",
      "Avg accuracy : 0.6796364661846895\n",
      "precission of each fold - [1.0, 1.0, 1.0, 1.0, 1.0, 1.0, 1.0, 1.0, 1.0, 1.0]\n",
      "Avg precission : 1.0\n"
     ]
    },
    {
     "data": {
      "image/png": "[encoded data removed]",
      "text/plain": [
       "<Figure size 921.6x432 with 2 Axes>"
      ]
     },
     "metadata": {
      "needs_background": "light"
     },
     "output_type": "display_data"
    }
   ],
   "source": [
    "model =  svm.SVC(kernel='rbf', C=100, gamma = 'auto')\n",
    "actual_classes, predicted_classes, _ = cross_val_predict(model, k, X, y)\n",
    "plot_confusion_matrix(actual_classes, predicted_classes, [0, 1])"
   ]
  },
  {
   "cell_type": "code",
   "execution_count": null,
   "id": "436eb62d",
   "metadata": {},
   "outputs": [],
   "source": [
    "param_grid = [\n",
    "        {\n",
    "            'penalty' : ['l1', 'l2', 'elasticnet'],\n",
    "            'solver' : ['newton-cg', 'lbfgs', 'liblinear', 'sag', 'saga', 'newton-cholesky'],\n",
    "            'C': [1, 10, 100, 1000]\n",
    "        }\n",
    "       ]\n",
    "clf = GridSearchCV(LogisticRegression(), param_grid,\n",
    "                           scoring='accuracy')\n",
    "clf.fit(X_scaled,y)\n",
    "\n",
    "\n",
    "print(\"Best parameters set found on development set:\")\n",
    "print(clf.best_params_)"
   ]
  },
  {
   "cell_type": "code",
   "execution_count": null,
   "id": "0e0746fe",
   "metadata": {},
   "outputs": [],
   "source": [
    "model = LogisticRegression(random_state=16)\n",
    "actual_classes, predicted_classes, _ = cross_val_predict(model, k, X, y)\n",
    "plot_confusion_matrix(actual_classes, predicted_classes, [0, 1])"
   ]
  },
  {
   "cell_type": "code",
   "execution_count": null,
   "id": "4749bd42",
   "metadata": {},
   "outputs": [],
   "source": [
    "model = GaussianNB()\n",
    "actual_classes, predicted_classes, _ = cross_val_predict(model, k, X, y)\n",
    "plot_confusion_matrix(actual_classes, predicted_classes, [0, 1])"
   ]
  },
  {
   "cell_type": "code",
   "execution_count": null,
   "id": "bc19a198",
   "metadata": {},
   "outputs": [],
   "source": [
    "param_grid = [\n",
    "        {\n",
    "            'n_estimators': [200, 500,700],\n",
    "            'max_features': ['auto', 'sqrt', 'log2'],\n",
    "            'max_depth' : [4,5,6,7,8],\n",
    "            'criterion' :['gini', 'entropy']\n",
    "        }\n",
    "       ]\n",
    "clf = GridSearchCV(RandomForestClassifier(), param_grid,\n",
    "                           scoring='accuracy')\n",
    "clf.fit(X_scaled,y)\n",
    "\n",
    "\n",
    "print(\"Best parameters set found on development set:\")\n",
    "print(clf.best_params_)"
   ]
  },
  {
   "cell_type": "code",
   "execution_count": null,
   "id": "61e21b0a",
   "metadata": {},
   "outputs": [],
   "source": [
    "model = RandomForestClassifier(max_depth=20, random_state=0)\n",
    "actual_classes, predicted_classes, _ = cross_val_predict(model, k, X, y)\n",
    "plot_confusion_matrix(actual_classes, predicted_classes, [0, 1])"
   ]
  },
  {
   "cell_type": "code",
   "execution_count": null,
   "id": "a7f79484",
   "metadata": {},
   "outputs": [],
   "source": [
    "param_grid = {\"base_estimator__criterion\" : [\"gini\", \"entropy\"],\n",
    "              \"base_estimator__splitter\" :   [\"best\", \"random\"],\n",
    "              \"n_estimators\": [1, 2]\n",
    "             }\n",
    "\n",
    "\n",
    "DTC = DecisionTreeClassifier(random_state = 11, max_features = \"auto\", class_weight = \"auto\",max_depth = None)\n",
    "\n",
    "ABC = AdaBoostClassifier(base_estimator = DTC)\n",
    "clf = GridSearchCV(ABC, param_grid, \n",
    "                           scoring='accuracy')\n",
    "clf.fit(X_scaled,y)\n",
    "\n",
    "\n",
    "print(\"Best parameters set found on development set:\")\n",
    "print(clf.best_params_)"
   ]
  },
  {
   "cell_type": "code",
   "execution_count": null,
   "id": "a4116db5",
   "metadata": {},
   "outputs": [],
   "source": [
    "model = AdaBoostClassifier(n_estimators=100, random_state=0)\n",
    "actual_classes, predicted_classes, _ = cross_val_predict(model, k, X, y)\n",
    "plot_confusion_matrix(actual_classes, predicted_classes, [0, 1])"
   ]
  },
  {
   "cell_type": "code",
   "execution_count": null,
   "id": "54650ccb",
   "metadata": {},
   "outputs": [],
   "source": [
    "param_grid = [\n",
    "        {\n",
    "            'hidden_layer_sizes': [(50,50,50), (50,100,50), (100,)],\n",
    "            'activation': ['identity', 'logistic', 'tanh', 'relu'],\n",
    "            'solver':  ['lbfgs', 'sgd', 'adam'],\n",
    "            'alpha': [0.0001, 0.05]\n",
    "            'learning_rate': ['constant','adaptive'],\n",
    "        }\n",
    "       ]\n",
    "clf = GridSearchCV(MLPClassifier(), param_grid, scoring='accuracy')\n",
    "scaler = preprocessing.StandardScaler()\n",
    "scaler.fit(X)  \n",
    "train_X = scaler.transform(X) \n",
    "clf.fit(train_X,y)\n",
    "\n",
    "\n",
    "print(\"Best parameters set found on development set:\")\n",
    "print(clf.best_params_)"
   ]
  },
  {
   "cell_type": "code",
   "execution_count": null,
   "id": "c0891b90",
   "metadata": {},
   "outputs": [],
   "source": [
    "model = MLPClassifier(activation='logistic', alpha= 0.0001,hidden_layer_sizes=(100,), learning_rate='adaptive', solver='sgd',  max_iter=1500)\n",
    "actual_classes, predicted_classes, _ = cross_val_predict(model, k, X, y)\n",
    "plot_confusion_matrix(actual_classes, predicted_classes, [0, 1])\n",
    "print(f\"Number of inputs:  {model.n_features_in_}\")\n",
    "print(f\"Number of outputs: {model.n_outputs_}\")\n",
    "print(f\"Number of layers:  {model.n_layers_}\")\n",
    "print(f\"Layer sizes: {[l.shape for l in model.coefs_]}\")"
   ]
  },
  {
   "cell_type": "code",
   "execution_count": null,
   "id": "71ee3f6c",
   "metadata": {},
   "outputs": [],
   "source": [
    "\n",
    "print(f\"Number of outputs: {model.n_outputs_}\")\n",
    "print(f\"Number of layers:  {model.n_layers_}\")"
   ]
  },
  {
   "cell_type": "code",
   "execution_count": null,
   "id": "af882424",
   "metadata": {},
   "outputs": [],
   "source": [
    "from sklearn.model_selection import train_test_split\n",
    "from sklearn.datasets import make_regression\n",
    "from sklearn.preprocessing import StandardScaler\n",
    "from sklearn.preprocessing import MinMaxScaler\n",
    "from keras.layers import Dense\n",
    "from keras.models import Sequential\n",
    "from keras.optimizers import SGD\n",
    "from matplotlib import pyplot\n",
    "from numpy import mean\n",
    "from numpy import std\n",
    "\n",
    "# prepare dataset with input and output scalers, can be none\n",
    "def get_dataset(input_scaler, output_scaler):\n",
    "    # split into train and test\n",
    "    trainX, testX, trainy, testy = train_test_split(X, y, test_size=0.33, random_state=42)\n",
    "    # scale inputs\n",
    "    if input_scaler is not None:\n",
    "        # fit scaler\n",
    "        input_scaler.fit(trainX)\n",
    "        # transform training dataset\n",
    "        trainX = input_scaler.transform(trainX)\n",
    "        # transform test dataset\n",
    "        testX = input_scaler.transform(testX)\n",
    "    if output_scaler is not None:\n",
    "        # reshape 1d arrays to 2d arrays\n",
    "        trainy = trainy.values.reshape(-1,1)\n",
    "        testy = testy.values.reshape(-1,1)\n",
    "        # fit scaler on training dataset\n",
    "        output_scaler.fit(trainy)\n",
    "        # transform training dataset\n",
    "        trainy = output_scaler.transform(trainy)\n",
    "        # transform test dataset\n",
    "        testy = output_scaler.transform(testy)\n",
    "    return trainX, trainy, testX, testy\n",
    "\n",
    "# fit and evaluate mse of model on test set\n",
    "def evaluate_model(trainX, trainy, testX, testy):\n",
    "    # define model\n",
    "    model = Sequential()\n",
    "    model.add(Dense(1000, input_dim=6371, activation='relu', kernel_initializer='he_uniform'))\n",
    "    model.add(Dense(1, activation='sigmoid'))\n",
    "    # compile model\n",
    "    model.compile(loss='mean_squared_error', optimizer=SGD(lr=0.01, momentum=0.9))\n",
    "    # fit model\n",
    "    model.fit(trainX, trainy, epochs=100, verbose=0)\n",
    "    # evaluate the model\n",
    "    test_mse = model.evaluate(testX, testy, verbose=0)\n",
    "    return test_mse\n",
    "\n",
    "# evaluate model multiple times with given input and output scalers\n",
    "def repeated_evaluation(input_scaler, output_scaler, n_repeats=30):\n",
    "    # get dataset\n",
    "    trainX, trainy, testX, testy = get_dataset(input_scaler, output_scaler)\n",
    "    # repeated evaluation of model\n",
    "    results = list()\n",
    "    for _ in range(n_repeats):\n",
    "        test_mse = evaluate_model(trainX, trainy, testX, testy)\n",
    "        print('>%.3f' % test_mse)\n",
    "        results.append(test_mse)\n",
    "    return results\n",
    "\n",
    "# unscaled inputs\n",
    "results_unscaled_inputs = repeated_evaluation(None, StandardScaler())\n",
    "# normalized inputs\n",
    "results_normalized_inputs = repeated_evaluation(MinMaxScaler(), StandardScaler())\n",
    "# standardized inputs\n",
    "results_standardized_inputs = repeated_evaluation(StandardScaler(), StandardScaler())\n",
    "# summarize results\n",
    "print('Unscaled: %.3f (%.3f)' % (mean(results_unscaled_inputs), std(results_unscaled_inputs)))\n",
    "print('Normalized: %.3f (%.3f)' % (mean(results_normalized_inputs), std(results_normalized_inputs)))\n",
    "print('Standardized: %.3f (%.3f)' % (mean(results_standardized_inputs), std(results_standardized_inputs)))\n",
    "# plot results\n",
    "results = [results_unscaled_inputs, results_normalized_inputs, results_standardized_inputs]\n",
    "labels = ['unscaled', 'normalized', 'standardized']\n",
    "pyplot.boxplot(results, labels=labels)\n",
    "pyplot.show()"
   ]
  },
  {
   "cell_type": "code",
   "execution_count": null,
   "id": "1c26ad16",
   "metadata": {},
   "outputs": [],
   "source": []
  }
 ],
 "metadata": {
  "kernelspec": {
   "display_name": "Python 3",
   "language": "python",
   "name": "python3"
  },
  "language_info": {
   "codemirror_mode": {
    "name": "ipython",
    "version": 3
   },
   "file_extension": ".py",
   "mimetype": "text/x-python",
   "name": "python",
   "nbconvert_exporter": "python",
   "pygments_lexer": "ipython3",
   "version": "3.6.13"
  }
 },
 "nbformat": 4,
 "nbformat_minor": 5
}
