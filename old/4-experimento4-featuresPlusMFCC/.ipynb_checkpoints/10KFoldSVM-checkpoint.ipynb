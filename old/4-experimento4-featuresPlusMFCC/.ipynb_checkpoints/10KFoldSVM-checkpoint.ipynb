{
 "cells": [
  {
   "cell_type": "code",
   "execution_count": 1,
   "id": "a6b3f7a1",
   "metadata": {},
   "outputs": [],
   "source": [
    "import pandas as pd\n",
    "import numpy as np\n",
    "import copy as cp\n",
    "import matplotlib.pyplot as plt\n",
    "import seaborn as sns\n",
    "\n",
    "from typing import Tuple\n",
    "from sklearn.metrics import confusion_matrix\n",
    "from sklearn.model_selection import StratifiedKFold\n",
    "from sklearn import svm\n",
    "from sklearn.metrics import accuracy_score\n",
    "from sklearn import decomposition\n",
    "\n",
    "from sklearn.impute import KNNImputer"
   ]
  },
  {
   "cell_type": "code",
   "execution_count": 2,
   "id": "93a9c266",
   "metadata": {},
   "outputs": [],
   "source": [
    "def cross_val_predict(model, k, X, y) -> Tuple[np.array, np.array, np.array]:\n",
    "\n",
    "    kfold = StratifiedKFold(n_splits=k)\n",
    "    model_ = cp.deepcopy(model)\n",
    "    acc_score = []\n",
    "    \n",
    "    no_classes = len(np.unique(y))\n",
    "    \n",
    "    actual_classes = np.empty([0], dtype=int)\n",
    "    predicted_classes = np.empty([0], dtype=int)\n",
    "    predicted_proba = np.empty([0, no_classes]) \n",
    "\n",
    "    for train_ndx, test_ndx in kfold.split(X,y):\n",
    "\n",
    "        train_X, train_y, test_X, test_y = X[train_ndx], y[train_ndx], X[test_ndx], y[test_ndx]\n",
    "\n",
    "        actual_classes = np.append(actual_classes, test_y)\n",
    "\n",
    "        model_.fit(train_X, train_y)\n",
    "        pred_values = model_.predict(test_X)\n",
    "        acc = accuracy_score(pred_values , test_y)\n",
    "        acc_score.append(acc)\n",
    "        predicted_classes = np.append(predicted_classes, pred_values)\n",
    "        avg_acc_score = sum(acc_score)/k\n",
    "\n",
    "        try:\n",
    "            predicted_proba = np.append(predicted_proba, model_.predict_proba(test_X), axis=0)\n",
    "        except:\n",
    "            predicted_proba = np.append(predicted_proba, np.zeros((len(test_X), no_classes), dtype=float), axis=0)\n",
    "\n",
    "    print('accuracy of each fold - {}'.format(acc_score))\n",
    "    print('Avg accuracy : {}'.format(avg_acc_score))\n",
    "\n",
    "    return actual_classes, predicted_classes, predicted_proba"
   ]
  },
  {
   "cell_type": "code",
   "execution_count": 3,
   "id": "62466a24",
   "metadata": {},
   "outputs": [],
   "source": [
    "def plot_confusion_matrix(actual_classes : np.array, predicted_classes : np.array, sorted_labels : list):\n",
    "\n",
    "    matrix = confusion_matrix(actual_classes, predicted_classes, labels=sorted_labels)\n",
    "    \n",
    "    plt.figure(figsize=(12.8,6))\n",
    "    sns.heatmap(matrix, annot=True, xticklabels=sorted_labels, yticklabels=sorted_labels, cmap=\"Blues\", fmt=\"g\")\n",
    "    plt.xlabel('Predicted'); plt.ylabel('Actual'); plt.title('Confusion Matrix')\n",
    "    plt.show()\n",
    "    plt.savefig('health-confusion-matrix.png')"
   ]
  },
  {
   "cell_type": "code",
   "execution_count": 21,
   "id": "4c900c70",
   "metadata": {},
   "outputs": [
    {
     "name": "stdout",
     "output_type": "stream",
     "text": [
      "(2032, 2450)\n",
      "(2032,)\n",
      "accuracy of each fold - [0.7058823529411765, 0.7156862745098039, 0.7241379310344828, 0.7438423645320197, 0.6995073891625616, 0.7044334975369458, 0.7192118226600985, 0.6699507389162561, 0.6945812807881774, 0.6157635467980296]\n",
      "Avg accuracy : 0.6992997198879551\n"
     ]
    },
    {
     "data": {
      "image/png": "[encoded data removed]",
      "text/plain": [
       "<Figure size 921.6x432 with 2 Axes>"
      ]
     },
     "metadata": {
      "needs_background": "light"
     },
     "output_type": "display_data"
    },
    {
     "data": {
      "text/plain": [
       "<Figure size 432x288 with 0 Axes>"
      ]
     },
     "metadata": {},
     "output_type": "display_data"
    }
   ],
   "source": [
    "X = pd.read_csv('mfcc/X.csv')\n",
    "X = X.transpose()\n",
    "y = pd.read_csv('mfcc/y_sex.csv')\n",
    "\n",
    "X=X.iloc[:].values\n",
    "y=y.iloc[:].values.ravel()\n",
    "\n",
    "imputer = KNNImputer(n_neighbors=4, weights=\"uniform\")\n",
    "X=imputer.fit_transform(X)\n",
    "\n",
    "print(X.shape)\n",
    "print(y.shape)\n",
    "\n",
    "\n",
    "model = svm.SVC(gamma='scale')\n",
    "k=10\n",
    "\n",
    "actual_classes, predicted_classes, _ = cross_val_predict(model, k, X, y)\n",
    "plot_confusion_matrix(actual_classes, predicted_classes, [0, 1])"
   ]
  },
  {
   "cell_type": "code",
   "execution_count": null,
   "id": "12cbb09f",
   "metadata": {},
   "outputs": [],
   "source": []
  },
  {
   "cell_type": "code",
   "execution_count": null,
   "id": "2a35bae1",
   "metadata": {},
   "outputs": [],
   "source": []
  }
 ],
 "metadata": {
  "kernelspec": {
   "display_name": "Python 3",
   "language": "python",
   "name": "python3"
  },
  "language_info": {
   "codemirror_mode": {
    "name": "ipython",
    "version": 3
   },
   "file_extension": ".py",
   "mimetype": "text/x-python",
   "name": "python",
   "nbconvert_exporter": "python",
   "pygments_lexer": "ipython3",
   "version": "3.6.13"
  }
 },
 "nbformat": 4,
 "nbformat_minor": 5
}
