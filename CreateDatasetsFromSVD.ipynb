{
 "cells": [
  {
   "cell_type": "markdown",
   "id": "77509de6",
   "metadata": {},
   "source": [
    "1. Normalización de amplitud y resampling"
   ]
  },
  {
   "cell_type": "code",
   "execution_count": null,
   "id": "fb83c73f",
   "metadata": {},
   "outputs": [],
   "source": [
    "import SoundManipulation\n",
    "\n",
    "SoundManipulation._NormalizeAmplitudeAndResampling('./0-bd/SVD/BD/','./0-bd/SVD/BD','./0-bd/SVD/BD/NORMALIZE_RESAMPLE/PHRASE/',60,4500)\n",
    "SoundManipulation._NormalizeAmplitudeAndResampling('./0-bd/SVD/BD/','./0-bd/SVD/BD','./0-bd/SVD/BD/NORMALIZE_RESAMPLE/A_NEUTRAL/',60,4500)\n",
    "SoundManipulation._NormalizeAmplitudeAndResampling('./0-bd/SVD/BD/','./0-bd/SVD/BD','./0-bd/SVD/BD/NORMALIZE_RESAMPLE/I_NEUTRAL/',60,4500)\n",
    "SoundManipulation._NormalizeAmplitudeAndResampling('./0-bd/SVD/BD/','./0-bd/SVD/BD','./0-bd/SVD/BD/NORMALIZE_RESAMPLE/U_NEUTRAL/',60,4500)"
   ]
  },
  {
   "attachments": {},
   "cell_type": "markdown",
   "id": "891aaea9",
   "metadata": {},
   "source": [
    "2. Creación de datasets de la base de datos SVD"
   ]
  },
  {
   "attachments": {},
   "cell_type": "markdown",
   "id": "c5305ffb",
   "metadata": {},
   "source": [
    "Creación de datasets de phrase y con todos, sólo hombres y sólo mujeres sin dicriminar edad"
   ]
  },
  {
   "cell_type": "code",
   "execution_count": null,
   "id": "7021b437",
   "metadata": {},
   "outputs": [],
   "source": [
    "import featureExtractionFromSVD\n",
    "import featureExtraction\n",
    "\n",
    "featureExtractionFromSVD._opensmileExtractionFeature(1,'./0-bd/AVFAD_SVD/NORMALIZE_RESAMPLE/PHRASE/','./0-bd/SVD/META/SVD.xls','phrase','all',0,120)\n",
    "featureExtractionFromSVD._opensmileExtractionFeature(1,'./0-bd/AVFAD_SVD/NORMALIZE_RESAMPLE/A_NEUTRAL/','./0-bd/SVD/META/SVD.xls','a_n','all',0,120)\n",
    "featureExtractionFromSVD._opensmileExtractionFeature(1,'./0-bd/AVFAD_SVD/NORMALIZE_RESAMPLE/U_NEUTRAL/','./0-bd/SVD/META/SVD.xls','u_n','all',0,120)\n",
    "featureExtractionFromSVD._opensmileExtractionFeature(1,'./0-bd/AVFAD_SVD/NORMALIZE_RESAMPLE/I_NEUTRAL/','./0-bd/SVD/META/SVD.xls','i_n','all',0,120)\n",
    "featureExtractionFromSVD._opensmileExtractionFeature(1,'./0-bd/AVFAD_SVD/NORMALIZE_RESAMPLE/PHRASE/','./0-bd/SVD/META/SVD.xls','phrase','m',0,120)\n",
    "featureExtractionFromSVD._opensmileExtractionFeature(1,'./0-bd/AVFAD_SVD/NORMALIZE_RESAMPLE/A_NEUTRAL/','./0-bd/SVD/META/SVD.xls','a_n','m',0,120)\n",
    "featureExtractionFromSVD._opensmileExtractionFeature(1,'./0-bd/AVFAD_SVD/NORMALIZE_RESAMPLE/U_NEUTRAL/','./0-bd/SVD/META/SVD.xls','u_n','m',0,120)\n",
    "featureExtractionFromSVD._opensmileExtractionFeature(1,'./0-bd/AVFAD_SVD/NORMALIZE_RESAMPLE/I_NEUTRAL/','./0-bd/SVD/META/SVD.xls','i_n','m',0,120)\n",
    "featureExtractionFromSVD._opensmileExtractionFeature(1,'./0-bd/AVFAD_SVD/NORMALIZE_RESAMPLE/PHRASE/','./0-bd/SVD/META/SVD.xls','phrase','w',0,120)\n",
    "featureExtractionFromSVD._opensmileExtractionFeature(1,'./0-bd/AVFAD_SVD/NORMALIZE_RESAMPLE/A_NEUTRAL/','./0-bd/SVD/META/SVD.xls','a_n','w',0,120)\n",
    "featureExtractionFromSVD._opensmileExtractionFeature(1,'./0-bd/AVFAD_SVD/NORMALIZE_RESAMPLE/U_NEUTRAL/','./0-bd/SVD/META/SVD.xls','u_n','w',0,120)\n",
    "featureExtractionFromSVD._opensmileExtractionFeature(1,'./0-bd/AVFAD_SVD/NORMALIZE_RESAMPLE/I_NEUTRAL/','./0-bd/SVD/META/SVD.xls','i_n','w',0,120)"
   ]
  },
  {
   "attachments": {},
   "cell_type": "markdown",
   "id": "0465952c",
   "metadata": {},
   "source": [
    "Creación de datasets de phrase y con todos, sólo hombres y sólo mujeres discriminando edad"
   ]
  },
  {
   "cell_type": "code",
   "execution_count": null,
   "id": "58ebf9bf",
   "metadata": {},
   "outputs": [],
   "source": [
    "featureExtractionFromSVD._opensmileExtractionFeature(1,'./0-bd/SVD/BD/PHRASE/','./0-bd/SVD/META/SVD.xls','phrase','all',0,18)\n",
    "featureExtractionFromSVD._opensmileExtractionFeature(1,'./0-bd/SVD/BD/A_NEUTRAL/','./0-bd/SVD/META/SVD.xls','a_n','all',0,18)\n",
    "featureExtractionFromSVD._opensmileExtractionFeature(1,'./0-bd/SVD/BD/U_NEUTRAL/','./0-bd/SVD/META/SVD.xls','u_n','all',0,18)\n",
    "featureExtractionFromSVD._opensmileExtractionFeature(1,'./0-bd/SVD/BD/I_NEUTRAL/','./0-bd/SVD/META/SVD.xls','i_n','all',0,18)\n",
    "featureExtractionFromSVD._opensmileExtractionFeature(1,'./0-bd/SVD/BD/PHRASE/','./0-bd/SVD/META/SVD.xls','phrase','all',19,59)\n",
    "featureExtractionFromSVD._opensmileExtractionFeature(1,'./0-bd/SVD/BD/A_NEUTRAL/','./0-bd/SVD/META/SVD.xls','a_n','all',19,59)\n",
    "featureExtractionFromSVD._opensmileExtractionFeature(1,'./0-bd/SVD/BD/U_NEUTRAL/','./0-bd/SVD/META/SVD.xls','u_n','all',19,59)\n",
    "featureExtractionFromSVD._opensmileExtractionFeature(1,'./0-bd/SVD/BD/I_NEUTRAL/','./0-bd/SVD/META/SVD.xls','i_n','all',19,59)\n",
    "featureExtractionFromSVD._opensmileExtractionFeature(1,'./0-bd/SVD/BD/PHRASE/','./0-bd/SVD/META/SVD.xls','phrase','all',19,59)\n",
    "featureExtractionFromSVD._opensmileExtractionFeature(1,'./0-bd/SVD/BD/A_NEUTRAL/','./0-bd/SVD/META/SVD.xls','a_n','all',19,59)\n",
    "featureExtractionFromSVD._opensmileExtractionFeature(1,'./0-bd/SVD/BD/U_NEUTRAL/','./0-bd/SVD/META/SVD.xls','u_n','all',19,59)\n",
    "featureExtractionFromSVD._opensmileExtractionFeature(1,'./0-bd/SVD/BD/I_NEUTRAL/','./0-bd/SVD/META/SVD.xls','i_n','all',19,59)\n",
    "featureExtractionFromSVD._opensmileExtractionFeature(1,'./0-bd/SVD/BD/PHRASE/','./0-bd/SVD/META/SVD.xls','phrase','all',60,120)\n",
    "featureExtractionFromSVD._opensmileExtractionFeature(1,'./0-bd/SVD/BD/A_NEUTRAL/','./0-bd/SVD/META/SVD.xls','a_n','all',60,120)\n",
    "featureExtractionFromSVD._opensmileExtractionFeature(1,'./0-bd/SVD/BD/U_NEUTRAL/','./0-bd/SVD/META/SVD.xls','u_n','all',60,120)\n",
    "featureExtractionFromSVD._opensmileExtractionFeature(1,'./0-bd/SVD/BD/I_NEUTRAL/','./0-bd/SVD/META/SVD.xls','i_n','all',60,120)"
   ]
  },
  {
   "attachments": {},
   "cell_type": "markdown",
   "id": "e10f09fa",
   "metadata": {},
   "source": [
    "Creación de informe con datos relevantes de todos los datasets creados número de individuos, mujeres/hombres, sanos/patológicos"
   ]
  },
  {
   "cell_type": "code",
   "execution_count": null,
   "id": "389bf59d",
   "metadata": {},
   "outputs": [],
   "source": [
    "featureExtraction._printDatasetReport(\"./\")\n"
   ]
  },
  {
   "cell_type": "code",
   "execution_count": null,
   "id": "245cf060",
   "metadata": {},
   "outputs": [],
   "source": [
    "featureExtraction._plotDatasetReport(405,255,450,546,'')"
   ]
  }
 ],
 "metadata": {
  "kernelspec": {
   "display_name": "Python 3",
   "language": "python",
   "name": "python3"
  },
  "language_info": {
   "codemirror_mode": {
    "name": "ipython",
    "version": 3
   },
   "file_extension": ".py",
   "mimetype": "text/x-python",
   "name": "python",
   "nbconvert_exporter": "python",
   "pygments_lexer": "ipython3",
   "version": "3.6.13"
  }
 },
 "nbformat": 4,
 "nbformat_minor": 5
}
