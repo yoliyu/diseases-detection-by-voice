{
 "cells": [
  {
   "cell_type": "code",
   "execution_count": 1,
   "metadata": {},
   "outputs": [],
   "source": [
    "import machineLearning\n",
    "from sklearn.naive_bayes import BernoulliNB\n",
    "from sklearn.naive_bayes import CategoricalNB\n",
    "from sklearn.naive_bayes import ComplementNB\n",
    "from sklearn.naive_bayes import MultinomialNB\n",
    "from sklearn.gaussian_process.kernels import RBF\n",
    "from sklearn.linear_model import LogisticRegression\n",
    "from sklearn.naive_bayes import GaussianNB\n",
    "from sklearn.ensemble import RandomForestClassifier\n",
    "from sklearn.ensemble import AdaBoostClassifier\n",
    "from sklearn.neural_network import MLPClassifier\n",
    "from sklearn.linear_model import RidgeClassifier\n",
    "from sklearn.linear_model import Lasso\n",
    "from sklearn.linear_model import MultiTaskLasso\n",
    "from sklearn.linear_model import ElasticNet\n",
    "from sklearn.linear_model import MultiTaskElasticNet\n",
    "from sklearn.linear_model import LassoLars\n",
    "from sklearn.linear_model import OrthogonalMatchingPursuit \n",
    "from sklearn.linear_model import BayesianRidge\n",
    "from sklearn.linear_model import TweedieRegressor\n",
    "from sklearn.model_selection import StratifiedKFold\n",
    "from sklearn.linear_model import SGDClassifier\n",
    "from sklearn.linear_model import Perceptron\n",
    "from sklearn.linear_model import PassiveAggressiveClassifier\n",
    "from sklearn.discriminant_analysis import LinearDiscriminantAnalysis\n",
    "from sklearn.discriminant_analysis import QuadraticDiscriminantAnalysis\n",
    "from sklearn.kernel_ridge import KernelRidge\n",
    "from sklearn.svm import OneClassSVM\n",
    "from sklearn.gaussian_process import GaussianProcessClassifier\n",
    "from sklearnex import svm\n",
    "from sklearn.svm import SVC\n",
    "from sklearn.ensemble import BaggingClassifier\n",
    "from sklearn.ensemble import GradientBoostingClassifier\n",
    "import numpy as np\n",
    "from lightgbm import LGBMClassifier\n",
    "from xgboost.sklearn import XGBClassifier\n",
    "from sklearn.model_selection import GridSearchCV\n",
    "import pandas as pd\n",
    "from sklearn.decomposition import PCA\n",
    "from sklearn.tree import DecisionTreeClassifier\n",
    "import os\n",
    "from PIL import Image\n",
    "import glob\n",
    "from imblearn.under_sampling import NearMiss\n",
    "from imblearn.combine import SMOTETomek"
   ]
  },
  {
   "cell_type": "code",
   "execution_count": 3,
   "metadata": {},
   "outputs": [],
   "source": [
    "datasetPath = \"datasets/Data_phrase-all-0-120.csv\"\n",
    "dimensionReductionComponents = 8\n",
    "\n",
    "def trainModel(datasetPath,dimensionReduction,dimensionReductionComponents):\n",
    "\n",
    "    model_list = []\n",
    "    acc_list = []\n",
    "    pre_list = []\n",
    "    f1_list = []\n",
    "    recall_list = []\n",
    "    plot_list = []\n",
    "    foldsNumber = 5\n",
    "    standarized = True\n",
    "    dimensionReduction = dimensionReduction\n",
    "    target = \"healthy\"\n",
    "\n",
    "    dataframe = pd.read_csv(datasetPath)\n",
    "    y = dataframe[target]\n",
    "    X = dataframe.drop([target],axis=1)\n",
    "\n",
    "    overUnder = NearMiss()\n",
    "    X,y = overUnder.fit_resample(X,y)\n",
    "\n",
    "    pca = PCA(n_components=dimensionReductionComponents)\n",
    "    pca.fit(X)\n",
    "    mostImportantFeaturesOfComponents = machineLearning._printMostImportantFeatureOfComponent(pca,list(X.columns))\n",
    "\n",
    "    #LINEAR MODELS\n",
    "    ##RIDGE CLASSIFIER\n",
    "    name = \"RIDGE_CLASSIFIER\"\n",
    "    print(name)\n",
    "    model = RidgeClassifier()\n",
    "    avg,pre,f1,recall,plot = machineLearning._trainModel(X,y,foldsNumber,model,standarized,dimensionReduction,dimensionReductionComponents)\n",
    "    model_list.append(name)\n",
    "    acc_list.append(avg)\n",
    "    pre_list.append(pre)\n",
    "    f1_list.append(f1)\n",
    "    recall_list.append(recall)\n",
    "    plot_list.append(plot)\n",
    "\n",
    "    ##LASSO\n",
    "    #print(\"LASSO\")\n",
    "    #model = Lasso(alpha=0.1)\n",
    "    #machineLearning._trainModel(X,y,foldsNumber,model,standarized,dimensionReduction,dimensionReductionComponents)\n",
    "\n",
    "    ##MULTITASKLASSO\n",
    "    #print(\"MULTITASKLASSO\")\n",
    "    #model = MultiTaskLasso(alpha=0.1)\n",
    "    #machineLearning._trainModel(X,y,foldsNumber,model,standarized,dimensionReduction,dimensionReductionComponents)\n",
    "\n",
    "    #print(\"ELASTICNET\")\n",
    "    #model = ElasticNet()\n",
    "    #machineLearning._trainModel(X,y,foldsNumber,model,standarized,dimensionReduction,dimensionReductionComponents)\n",
    "\n",
    "    ##MULTITASKELASTICNET\n",
    "    #print(\"MULTITASKELASTICNET\")\n",
    "    #model = MultiTaskElasticNet(random_state=0)\n",
    "    #machineLearning._trainModel(X,y,foldsNumber,model,standarized,dimensionReduction,dimensionReductionComponents)\n",
    "\n",
    "    ##LARSLASSO\n",
    "    #print(\"LARSLASSO\")\n",
    "    #model = LassoLars(alpha=0.01)\n",
    "    #machineLearning._trainModel(X,y,foldsNumber,model,standarized,dimensionReduction,dimensionReductionComponents)\n",
    "\n",
    "    ##ORTOGONAL MATCHING PURSUIT\n",
    "    #print(\"ORTOGONAL MATCHING PURSUIT\")\n",
    "    #model = OrthogonalMatchingPursuit()\n",
    "    #machineLearning._trainModel(X,y,foldsNumber,model,standarized,dimensionReduction,dimensionReductionComponents)\n",
    "\n",
    "    ##BAYESIAN RIDGE\n",
    "    #print(\"BAYESIAN RIDGE\")\n",
    "    #model = BayesianRidge()\n",
    "    #machineLearning._trainModel(X,y,foldsNumber,model,standarized,dimensionReduction,dimensionReductionComponents)\n",
    "\n",
    "    ##LOGISTIC REGRESSION\n",
    "    name = \"LOGISTIC_REGRESSION\"\n",
    "    print(name)\n",
    "    model = LogisticRegression(max_iter=2000)\n",
    "    avg,pre,f1,recall,plot = machineLearning._trainModel(X,y,foldsNumber,model,standarized,dimensionReduction,dimensionReductionComponents)\n",
    "    model_list.append(name)\n",
    "    acc_list.append(avg)\n",
    "    pre_list.append(pre)\n",
    "    f1_list.append(f1)\n",
    "    recall_list.append(recall)\n",
    "    plot_list.append(plot)\n",
    "\n",
    "    ##TWEEDIE REGRESSOR\n",
    "    #print(\"TWEEDIE REGRESSOR - NORMAL DISTRIBUTION\")\n",
    "    #model = TweedieRegressor(power = 0)\n",
    "    #machineLearning._trainModel(X,y,foldsNumber,model,standarized,dimensionReduction,dimensionReductionComponents)\n",
    "\n",
    "    #print(\"TWEEDIE REGRESSOR - POISSON DISTRIBUTION\")\n",
    "    #model = TweedieRegressor(power = 1, link='log')\n",
    "    #machineLearning._trainModel(X,y,foldsNumber,model,standarized,dimensionReduction,dimensionReductionComponents)\n",
    "\n",
    "    #print(\"TWEEDIE REGRESSOR - GAMMA DISTRIBUTION\")\n",
    "    #model = TweedieRegressor(power = 2, link='log')\n",
    "    #machineLearning._trainModel(X,y,foldsNumber,model,standarized,dimensionReduction,dimensionReductionComponents)\n",
    "\n",
    "    #print(\"TWEEDIE REGRESSOR - INVERSE GAUSSIAN DISTRIBUTION\")\n",
    "    #model = TweedieRegressor(power = 3)\n",
    "    #machineLearning._trainModel(X,y,foldsNumber,model,standarized,dimensionReduction,dimensionReductionComponents)\n",
    "\n",
    "\n",
    "    ##PERCEPTRON\n",
    "    name = \"PERCEPTRON\"\n",
    "    print(name)\n",
    "    model = Perceptron()\n",
    "    avg,pre,f1,recall,plot = machineLearning._trainModel(X,y,foldsNumber,model,standarized,dimensionReduction,dimensionReductionComponents)\n",
    "    model_list.append(\"PERCEPTRON\")\n",
    "    acc_list.append(avg)\n",
    "    pre_list.append(pre)\n",
    "    f1_list.append(f1)\n",
    "    recall_list.append(recall)\n",
    "    plot_list.append(plot)\n",
    "\n",
    "    ##PASSIVE AGRESSIVE\n",
    "    name = \"PASSIVE_AGRESSIVE\"\n",
    "    print(name)\n",
    "    model = PassiveAggressiveClassifier(max_iter=2000)\n",
    "    avg,pre,f1,recall,plot = machineLearning._trainModel(X,y,foldsNumber,model,standarized,dimensionReduction,dimensionReductionComponents)\n",
    "    model_list.append(name)\n",
    "    acc_list.append(avg)\n",
    "    pre_list.append(pre)\n",
    "    f1_list.append(f1)\n",
    "    recall_list.append(recall)\n",
    "    plot_list.append(plot)\n",
    "\n",
    "    #LINEAR AND QUADRATIC DISCRIMINANT ANALYSIS\n",
    "    ##LDA\n",
    "    name = \"LDA\"\n",
    "    print(name)\n",
    "    model = LinearDiscriminantAnalysis()\n",
    "    avg,pre,f1,recall,plot = machineLearning._trainModel(X,y,foldsNumber,model,standarized,dimensionReduction,dimensionReductionComponents)\n",
    "    model_list.append(name)\n",
    "    acc_list.append(avg)\n",
    "    pre_list.append(pre)\n",
    "    f1_list.append(f1)\n",
    "    recall_list.append(recall)\n",
    "    plot_list.append(plot)\n",
    "\n",
    "    ##QDA\n",
    "    #print(\"QDA\")\n",
    "    #model = QuadraticDiscriminantAnalysis()\n",
    "    #machineLearning._trainModel(X,y,foldsNumber,model,standarized,dimensionReduction,dimensionReductionComponents)\n",
    "\n",
    "    #KERNEL RIDGE\n",
    "    #print(\"KERNEL RIDGE\")\n",
    "    #model = KernelRidge(alpha=1.0)\n",
    "    #machineLearning._trainModel(X,y,foldsNumber,model,standarized,dimensionReduction,dimensionReductionComponents)\n",
    "\n",
    "    #SUPPORT VECTOR MACHINE\n",
    "    name = \"SUPPORT_VECTOR_MACHINE\"\n",
    "    print(name)\n",
    "    model = svm.SVC()\n",
    "    avg,pre,f1,recall,plot = machineLearning._trainModel(X,y,foldsNumber,model,standarized,dimensionReduction,dimensionReductionComponents)\n",
    "    model_list.append(name)\n",
    "    acc_list.append(avg)\n",
    "    pre_list.append(pre)\n",
    "    f1_list.append(f1)\n",
    "    recall_list.append(recall)\n",
    "    plot_list.append(plot)\n",
    "\n",
    "\n",
    "    #STOCHASTIC GRADIENT DESCENT\n",
    "    name = \"STOCHASTIC_GRADIENT_DESCENT\"\n",
    "    print(name)\n",
    "    model = SGDClassifier(max_iter=2000)\n",
    "    avg,pre,f1,recall,plot = machineLearning._trainModel(X,y,foldsNumber,model,standarized,dimensionReduction,dimensionReductionComponents)\n",
    "    model_list.append(name)\n",
    "    acc_list.append(avg)\n",
    "    pre_list.append(pre)\n",
    "    f1_list.append(f1)\n",
    "    recall_list.append(recall)\n",
    "    plot_list.append(plot)\n",
    "\n",
    "    #GAUSSIAN PROCESSES - TODO\n",
    "    #print(\"GAUSSIAN PROCESS\")\n",
    "    #kernel = 1.0 * RBF(1.0)\n",
    "    #model = GaussianProcessClassifier(kernel=kernel, random_state=0)\n",
    "    #avg,pre,f1,recall,plot = machineLearning._trainModel(X,y,foldsNumber,model,standarized,dimensionReduction,dimensionReductionComponents)\n",
    "    #model_list.append(\"GAUSSIAN PROCESS\")\n",
    "    #acc_list.append(avg)\n",
    "    #pre_list.append(pre)\n",
    "    #f1_list.append(f1) plot_list.append(plot)\n",
    "\n",
    "    #NAIVE BAYES\n",
    "    ##NAIVE BAYES\n",
    "    name = \"NAIVE_BAYES\"\n",
    "    print(name)\n",
    "    model =  GaussianNB()\n",
    "    avg,pre,f1,recall,plot = machineLearning._trainModel(X,y,foldsNumber,model,standarized,dimensionReduction,dimensionReductionComponents)\n",
    "    model_list.append(name)\n",
    "    acc_list.append(avg)\n",
    "    pre_list.append(pre)\n",
    "    f1_list.append(f1)\n",
    "    recall_list.append(recall)\n",
    "    plot_list.append(plot)\n",
    "\n",
    "    ##MULTINOMIAL BAYES\n",
    "    #print(\"MULTINOMIAL NAIVE BAYES\")\n",
    "    #model =  MultinomialNB()\n",
    "    #machineLearning._trainModel(X,y,foldsNumber,model,standarized,dimensionReduction,dimensionReductionComponents)\n",
    "\n",
    "    ##COMPLEMENT BAYES\n",
    "    #print(\"COMPLEMENT NAIVE BAYES\")\n",
    "    #model =  ComplementNB()\n",
    "    #machineLearning._trainModel(X,y,foldsNumber,model,standarized,dimensionReduction,dimensionReductionComponents)\n",
    "\n",
    "    ##BERNOULLI BAYES\n",
    "    #print(\"BERNOULLINAIVE BAYES\")\n",
    "    #model =  BernoulliNB()\n",
    "    #machineLearning._trainModel(X,y,foldsNumber,model,standarized,dimensionReduction,dimensionReductionComponents)\n",
    "\n",
    "    ##CATEGORICAL BAYES\n",
    "    #print(\"CATEGORICAL NAIVE BAYES\")\n",
    "    #model =  CategoricalNB()\n",
    "    #machineLearning._trainModel(X,y,foldsNumber,model,standarized,dimensionReduction,dimensionReductionComponents)\n",
    "\n",
    "    #ENSEMBLE METHODS\n",
    "    ##BAGGING -TODO \n",
    "    name = \"BAGGING\"\n",
    "    print(name)\n",
    "    model = BaggingClassifier()\n",
    "    avg,pre,f1,recall,plot = machineLearning._trainModel(X,y,foldsNumber,model,standarized,dimensionReduction,dimensionReductionComponents)\n",
    "    model_list.append(name)\n",
    "    acc_list.append(avg)\n",
    "    pre_list.append(pre)\n",
    "    f1_list.append(f1)\n",
    "    recall_list.append(recall)\n",
    "    plot_list.append(plot)\n",
    "\n",
    "\n",
    "    \n",
    "\n",
    "    ##RANDOM FOREST\n",
    "    name = \"RANDOM_FOREST\"\n",
    "    \n",
    "    print(name)\n",
    "    model = RandomForestClassifier()\n",
    "    avg,pre,f1,recall,plot = machineLearning._trainModel(X,y,foldsNumber,model,standarized,dimensionReduction,dimensionReductionComponents)\n",
    "    model_list.append(name)\n",
    "    acc_list.append(avg)\n",
    "    pre_list.append(pre)\n",
    "    f1_list.append(f1)\n",
    "    recall_list.append(recall)\n",
    "    plot_list.append(plot)\n",
    "\n",
    "    \n",
    "    \n",
    "\n",
    "    ##ADA BOOST\n",
    "    name = \"ADA_BOOST\"\n",
    "    \n",
    "    print(name)\n",
    "    model = AdaBoostClassifier()\n",
    "    avg,pre,f1,recall,plot = machineLearning._trainModel(X,y,foldsNumber,model,standarized,dimensionReduction,dimensionReductionComponents)\n",
    "    model_list.append(name)\n",
    "    acc_list.append(avg)\n",
    "    pre_list.append(pre)\n",
    "    f1_list.append(f1)\n",
    "    recall_list.append(recall)\n",
    "    plot_list.append(plot)\n",
    "\n",
    "\n",
    "    ##GRADIENT BOOST\n",
    "    name = \"GRADIENT_BOOST\"\n",
    "    \n",
    "    print(name)\n",
    "    model = GradientBoostingClassifier()\n",
    "    avg,pre,f1,recall,plot = machineLearning._trainModel(X,y,foldsNumber,model,standarized,dimensionReduction,dimensionReductionComponents)\n",
    "    model_list.append(name)\n",
    "    acc_list.append(avg)\n",
    "    pre_list.append(pre)\n",
    "    f1_list.append(f1)\n",
    "    recall_list.append(recall)\n",
    "    plot_list.append(plot)\n",
    "\n",
    "   \n",
    "\n",
    "    ##XBOOST\n",
    "    name = \"XBOOST\"\n",
    "    \n",
    "    print(name)\n",
    "    model = XGBClassifier(use_label_encoder=False)\n",
    "    avg,pre,f1,recall,plot = machineLearning._trainModel(X,y,foldsNumber,model,standarized,dimensionReduction,dimensionReductionComponents)\n",
    "    model_list.append(name)\n",
    "    acc_list.append(avg)\n",
    "    pre_list.append(pre)\n",
    "    f1_list.append(f1)\n",
    "    recall_list.append(recall)\n",
    "    plot_list.append(plot)\n",
    "\n",
    "\n",
    "    \n",
    "\n",
    "    ##LGBM CLASSIFIER\n",
    "    name = \"LGBM_CLASSIFIER\"\n",
    "    \n",
    "    print(name)\n",
    "    model = LGBMClassifier()\n",
    "    avg,pre,f1,recall,plot = machineLearning._trainModel(X,y,foldsNumber,model,standarized,dimensionReduction,dimensionReductionComponents)\n",
    "    model_list.append(name)\n",
    "    acc_list.append(avg)\n",
    "    pre_list.append(pre)\n",
    "    f1_list.append(f1)\n",
    "    recall_list.append(recall)\n",
    "    plot_list.append(plot)\n",
    "   \n",
    "    \n",
    "    \n",
    "\n",
    "    #MULTILAYER PERCEPTRON\n",
    "    name = \"MULTILAYER_PERCEPTRON\"\n",
    "    print(name)\n",
    "    model = MLPClassifier(max_iter=2000)\n",
    "    avg,pre,f1,recall,plot = machineLearning._trainModel(X,y,foldsNumber,model,standarized,dimensionReduction,dimensionReductionComponents)\n",
    "    model_list.append(name)\n",
    "    acc_list.append(avg)\n",
    "    pre_list.append(pre)\n",
    "    f1_list.append(f1)\n",
    "    recall_list.append(recall)\n",
    "    plot_list.append(plot)\n",
    "\n",
    "\n",
    "    report = pd.DataFrame(np.column_stack([model_list, acc_list,pre_list,f1_list,recall_list]),\n",
    "                                                columns=['model', 'accuracy', 'precission','f1','recall'])\n",
    "    datasetPath2 = datasetPath.replace(\"datasets/\",\"\")\n",
    "    name = datasetPath2.replace(\".csv\",\"\")\n",
    "    stand=\"\"\n",
    "    if standarized == True:\n",
    "        stand = \"standarized\"\n",
    "    else:\n",
    "        stand = \"notstandarized\"\n",
    "    selection = \"\"\n",
    "    if dimensionReduction == 'pca':\n",
    "        selection = 'pca'+\"_\"+ str(dimensionReductionComponents)\n",
    "    else:\n",
    "        selection = 'noselection'\n",
    "    folder = \"./\"+name+\"_\"+str(foldsNumber)+\"cv\"+\"_\"+stand+\"_\"+selection\n",
    "    os.makedirs(folder)\n",
    "    report.to_csv(folder+\"/report.csv\")\n",
    "    mostImportantFeaturesOfComponents.to_csv(folder+\"/features.csv\")\n",
    "    i = 0\n",
    "    for p in plot_list:\n",
    "        im = Image.open(p)\n",
    "        im.save(folder+\"/\"+model_list[i]+\".png\")\n",
    "        p.close()\n",
    "        i += 1\n",
    " "
   ]
  },
  {
   "cell_type": "code",
   "execution_count": 4,
   "metadata": {},
   "outputs": [
    {
     "name": "stdout",
     "output_type": "stream",
     "text": [
      "RIDGE_CLASSIFIER\n",
      "Avg accuracy : 0.6440690112806902\n",
      "Avg precission : 0.6433513170422088\n",
      "Avg recall : 0.6454103254960909\n",
      "Avg f1 : 0.6435466553745117\n",
      "LOGISTIC_REGRESSION\n",
      "Avg accuracy : 0.6498845388188454\n",
      "Avg precission : 0.644821749709087\n",
      "Avg recall : 0.6524330900876743\n",
      "Avg f1 : 0.6483298890057684\n",
      "PERCEPTRON\n",
      "Avg accuracy : 0.6404326476443265\n",
      "Avg precission : 0.6331852322014175\n",
      "Avg recall : 0.6438810034976411\n",
      "Avg f1 : 0.6376247291945888\n",
      "PASSIVE_AGRESSIVE\n",
      "Avg accuracy : 0.6353311214333113\n",
      "Avg precission : 0.6273775520998625\n",
      "Avg recall : 0.6387788108667296\n",
      "Avg f1 : 0.6326154371132977\n",
      "LDA\n",
      "Avg accuracy : 0.611315195753152\n",
      "Avg precission : 0.6142600232730351\n",
      "Avg recall : 0.6122262761393197\n",
      "Avg f1 : 0.6125821809784959\n",
      "SUPPORT_VECTOR_MACHINE\n",
      "Avg accuracy : 0.6440663570006635\n",
      "Avg precission : 0.6332910187242146\n",
      "Avg recall : 0.6553629146723892\n",
      "Avg f1 : 0.6413547595282738\n",
      "STOCHASTIC_GRADIENT_DESCENT\n",
      "Avg accuracy : 0.6331519575315196\n",
      "Avg precission : 0.6637786945943087\n",
      "Avg recall : 0.6263617122718506\n",
      "Avg f1 : 0.6441861451985571\n",
      "NAIVE_BAYES\n",
      "Avg accuracy : 0.6280875912408759\n",
      "Avg precission : 0.48179413942663707\n",
      "Avg recall : 0.6975345925109344\n",
      "Avg f1 : 0.5636250428919938\n",
      "BAGGING\n",
      "Avg accuracy : 0.7561114797611148\n",
      "Avg precission : 0.7453506823230721\n",
      "Avg recall : 0.7764045058888198\n",
      "Avg f1 : 0.7560345965731184\n",
      "RANDOM_FOREST\n",
      "Avg accuracy : 0.6564007962840079\n",
      "Avg precission : 0.6405162382312493\n",
      "Avg recall : 0.6670732525284301\n",
      "Avg f1 : 0.652150122711813\n",
      "ADA_BOOST\n",
      "Avg accuracy : 0.7299137358991372\n",
      "Avg precission : 0.7278006981910504\n",
      "Avg recall : 0.7385249289117422\n",
      "Avg f1 : 0.7313090432502544\n",
      "GRADIENT_BOOST\n",
      "Avg accuracy : 0.7961327140013272\n",
      "Avg precission : 0.818100074050566\n",
      "Avg recall : 0.799149583839753\n",
      "Avg f1 : 0.8038726690738234\n",
      "XBOOST\n",
      "[17:16:39] WARNING: C:/Users/Administrator/workspace/xgboost-win64_release_1.5.1/src/learner.cc:1115: Starting in XGBoost 1.3.0, the default evaluation metric used with the objective 'binary:logistic' was changed from 'error' to 'logloss'. Explicitly set eval_metric if you'd like to restore the old behavior.\n",
      "[17:17:15] WARNING: C:/Users/Administrator/workspace/xgboost-win64_release_1.5.1/src/learner.cc:1115: Starting in XGBoost 1.3.0, the default evaluation metric used with the objective 'binary:logistic' was changed from 'error' to 'logloss'. Explicitly set eval_metric if you'd like to restore the old behavior.\n",
      "[17:17:54] WARNING: C:/Users/Administrator/workspace/xgboost-win64_release_1.5.1/src/learner.cc:1115: Starting in XGBoost 1.3.0, the default evaluation metric used with the objective 'binary:logistic' was changed from 'error' to 'logloss'. Explicitly set eval_metric if you'd like to restore the old behavior.\n",
      "[17:18:33] WARNING: C:/Users/Administrator/workspace/xgboost-win64_release_1.5.1/src/learner.cc:1115: Starting in XGBoost 1.3.0, the default evaluation metric used with the objective 'binary:logistic' was changed from 'error' to 'logloss'. Explicitly set eval_metric if you'd like to restore the old behavior.\n",
      "[17:19:09] WARNING: C:/Users/Administrator/workspace/xgboost-win64_release_1.5.1/src/learner.cc:1115: Starting in XGBoost 1.3.0, the default evaluation metric used with the objective 'binary:logistic' was changed from 'error' to 'logloss'. Explicitly set eval_metric if you'd like to restore the old behavior.\n",
      "Avg accuracy : 0.793236894492369\n",
      "Avg precission : 0.8151909446736486\n",
      "Avg recall : 0.7984737085127269\n",
      "Avg f1 : 0.8002276591172143\n",
      "LGBM_CLASSIFIER\n",
      "Avg accuracy : 0.8005175846051757\n",
      "Avg precission : 0.8224479001375224\n",
      "Avg recall : 0.8031124729748115\n",
      "Avg f1 : 0.8077060031592989\n",
      "MULTILAYER_PERCEPTRON\n",
      "Avg accuracy : 0.6448042468480425\n",
      "Avg precission : 0.6491378398392044\n",
      "Avg recall : 0.6462094375457808\n",
      "Avg f1 : 0.6468927772792663\n",
      "RIDGE_CLASSIFIER\n",
      "Avg accuracy : 0.6127272727272727\n",
      "Avg precission : 0.7066666666666667\n",
      "Avg recall : 0.6083333333333333\n",
      "Avg f1 : 0.6438894438894438\n",
      "LOGISTIC_REGRESSION\n",
      "Avg accuracy : 0.6309090909090909\n",
      "Avg precission : 0.74\n",
      "Avg recall : 0.6178571428571429\n",
      "Avg f1 : 0.6644022644022644\n",
      "PERCEPTRON\n",
      "Avg accuracy : 0.5181818181818182\n",
      "Avg precission : 0.5933333333333334\n",
      "Avg recall : 0.5142857142857142\n",
      "Avg f1 : 0.5458008658008657\n",
      "PASSIVE_AGRESSIVE\n",
      "Avg accuracy : 0.5927272727272727\n",
      "Avg precission : 0.7\n",
      "Avg recall : 0.5771428571428572\n",
      "Avg f1 : 0.6305561105561106\n",
      "LDA\n",
      "Avg accuracy : 0.5345454545454544\n",
      "Avg precission : 0.52\n",
      "Avg recall : 0.5333333333333333\n",
      "Avg f1 : 0.5224242424242423\n",
      "SUPPORT_VECTOR_MACHINE\n",
      "Avg accuracy : 0.6309090909090909\n",
      "Avg precission : 0.6866666666666668\n",
      "Avg recall : 0.6555555555555556\n",
      "Avg f1 : 0.6279365079365079\n"
     ]
    },
    {
     "name": "stderr",
     "output_type": "stream",
     "text": [
      "c:\\Users\\yolan\\Desktop\\Notebooks\\machineLearning.py:134: RuntimeWarning: More than 20 figures have been opened. Figures created through the pyplot interface (`matplotlib.pyplot.figure`) are retained until explicitly closed and may consume too much memory. (To control this warning, see the rcParam `figure.max_open_warning`).\n",
      "  plt.figure(figsize=(12.8,6))\n"
     ]
    },
    {
     "name": "stdout",
     "output_type": "stream",
     "text": [
      "STOCHASTIC_GRADIENT_DESCENT\n",
      "Avg accuracy : 0.5763636363636364\n",
      "Avg precission : 0.6333333333333333\n",
      "Avg recall : 0.5833333333333333\n",
      "Avg f1 : 0.6021645021645021\n",
      "NAIVE_BAYES\n",
      "Avg accuracy : 0.5181818181818182\n",
      "Avg precission : 0.5866666666666667\n",
      "Avg recall : 0.5190476190476191\n",
      "Avg f1 : 0.5455988455988456\n",
      "BAGGING\n",
      "Avg accuracy : 0.4818181818181818\n",
      "Avg precission : 0.3333333333333333\n",
      "Avg recall : 0.48\n",
      "Avg f1 : 0.38603174603174606\n",
      "RANDOM_FOREST\n",
      "Avg accuracy : 0.5\n",
      "Avg precission : 0.5266666666666666\n",
      "Avg recall : 0.5\n",
      "Avg f1 : 0.501056721056721\n",
      "ADA_BOOST\n",
      "Avg accuracy : 0.5727272727272726\n",
      "Avg precission : 0.5933333333333333\n",
      "Avg recall : 0.5685714285714285\n",
      "Avg f1 : 0.5743900543900544\n",
      "GRADIENT_BOOST\n",
      "Avg accuracy : 0.5018181818181817\n",
      "Avg precission : 0.5866666666666667\n",
      "Avg recall : 0.4753968253968254\n",
      "Avg f1 : 0.5202020202020202\n",
      "XBOOST\n",
      "[17:23:30] WARNING: C:/Users/Administrator/workspace/xgboost-win64_release_1.5.1/src/learner.cc:1115: Starting in XGBoost 1.3.0, the default evaluation metric used with the objective 'binary:logistic' was changed from 'error' to 'logloss'. Explicitly set eval_metric if you'd like to restore the old behavior.\n",
      "[17:23:31] WARNING: C:/Users/Administrator/workspace/xgboost-win64_release_1.5.1/src/learner.cc:1115: Starting in XGBoost 1.3.0, the default evaluation metric used with the objective 'binary:logistic' was changed from 'error' to 'logloss'. Explicitly set eval_metric if you'd like to restore the old behavior.\n",
      "[17:23:32] WARNING: C:/Users/Administrator/workspace/xgboost-win64_release_1.5.1/src/learner.cc:1115: Starting in XGBoost 1.3.0, the default evaluation metric used with the objective 'binary:logistic' was changed from 'error' to 'logloss'. Explicitly set eval_metric if you'd like to restore the old behavior.\n",
      "[17:23:32] WARNING: C:/Users/Administrator/workspace/xgboost-win64_release_1.5.1/src/learner.cc:1115: Starting in XGBoost 1.3.0, the default evaluation metric used with the objective 'binary:logistic' was changed from 'error' to 'logloss'. Explicitly set eval_metric if you'd like to restore the old behavior.\n",
      "[17:23:33] WARNING: C:/Users/Administrator/workspace/xgboost-win64_release_1.5.1/src/learner.cc:1115: Starting in XGBoost 1.3.0, the default evaluation metric used with the objective 'binary:logistic' was changed from 'error' to 'logloss'. Explicitly set eval_metric if you'd like to restore the old behavior.\n",
      "Avg accuracy : 0.5345454545454544\n",
      "Avg precission : 0.5533333333333333\n",
      "Avg recall : 0.549047619047619\n",
      "Avg f1 : 0.5424242424242425\n",
      "LGBM_CLASSIFIER\n",
      "Avg accuracy : 0.5745454545454545\n",
      "Avg precission : 0.6266666666666667\n",
      "Avg recall : 0.5676190476190477\n",
      "Avg f1 : 0.5945920745920745\n",
      "MULTILAYER_PERCEPTRON\n",
      "Avg accuracy : 0.5345454545454544\n",
      "Avg precission : 0.6333333333333333\n",
      "Avg recall : 0.5333333333333333\n",
      "Avg f1 : 0.5776223776223776\n",
      "RIDGE_CLASSIFIER\n",
      "Avg accuracy : 0.615789641434263\n",
      "Avg precission : 0.6197587301587302\n",
      "Avg recall : 0.6152757637896394\n",
      "Avg f1 : 0.6172008710034614\n",
      "LOGISTIC_REGRESSION\n",
      "Avg accuracy : 0.6245768924302789\n",
      "Avg precission : 0.6309587301587303\n",
      "Avg recall : 0.6231743572135973\n",
      "Avg f1 : 0.6265249462548436\n",
      "PERCEPTRON\n",
      "Avg accuracy : 0.6309673306772908\n",
      "Avg precission : 0.6372952380952381\n",
      "Avg recall : 0.6292485915315152\n",
      "Avg f1 : 0.6330483946845569\n",
      "PASSIVE_AGRESSIVE\n",
      "Avg accuracy : 0.6205737051792829\n",
      "Avg precission : 0.6229587301587303\n",
      "Avg recall : 0.6206153160816961\n",
      "Avg f1 : 0.6212673572288622\n",
      "LDA\n",
      "Avg accuracy : 0.5750725099601594\n",
      "Avg precission : 0.5815238095238094\n",
      "Avg recall : 0.573805154190994\n",
      "Avg f1 : 0.5765909395542916\n",
      "SUPPORT_VECTOR_MACHINE\n",
      "Avg accuracy : 0.624580079681275\n",
      "Avg precission : 0.6070222222222224\n",
      "Avg recall : 0.6343314465408805\n",
      "Avg f1 : 0.6182800978773754\n",
      "STOCHASTIC_GRADIENT_DESCENT\n",
      "Avg accuracy : 0.598989641434263\n",
      "Avg precission : 0.6292825396825397\n",
      "Avg recall : 0.5946038411865184\n",
      "Avg f1 : 0.610025792430295\n",
      "NAIVE_BAYES\n",
      "Avg accuracy : 0.6006788844621515\n",
      "Avg precission : 0.45549206349206345\n",
      "Avg recall : 0.6557106053760468\n",
      "Avg f1 : 0.528083737566588\n",
      "BAGGING\n",
      "Avg accuracy : 0.7555760956175299\n",
      "Avg precission : 0.7412825396825398\n",
      "Avg recall : 0.7796782424141828\n",
      "Avg f1 : 0.7540821008840479\n",
      "RANDOM_FOREST\n",
      "Avg accuracy : 0.6333641434262949\n",
      "Avg precission : 0.5941714285714286\n",
      "Avg recall : 0.6507821492610454\n",
      "Avg f1 : 0.6198436991414215\n",
      "ADA_BOOST\n",
      "Avg accuracy : 0.7299633466135459\n",
      "Avg precission : 0.7236063492063493\n",
      "Avg recall : 0.7400627424308617\n",
      "Avg f1 : 0.7290376291926046\n",
      "GRADIENT_BOOST\n",
      "Avg accuracy : 0.7723282868525897\n",
      "Avg precission : 0.7859555555555555\n",
      "Avg recall : 0.7828401879478714\n",
      "Avg f1 : 0.7781549305554737\n",
      "XBOOST\n",
      "[17:41:37] WARNING: C:/Users/Administrator/workspace/xgboost-win64_release_1.5.1/src/learner.cc:1115: Starting in XGBoost 1.3.0, the default evaluation metric used with the objective 'binary:logistic' was changed from 'error' to 'logloss'. Explicitly set eval_metric if you'd like to restore the old behavior.\n",
      "[17:42:07] WARNING: C:/Users/Administrator/workspace/xgboost-win64_release_1.5.1/src/learner.cc:1115: Starting in XGBoost 1.3.0, the default evaluation metric used with the objective 'binary:logistic' was changed from 'error' to 'logloss'. Explicitly set eval_metric if you'd like to restore the old behavior.\n",
      "[17:42:40] WARNING: C:/Users/Administrator/workspace/xgboost-win64_release_1.5.1/src/learner.cc:1115: Starting in XGBoost 1.3.0, the default evaluation metric used with the objective 'binary:logistic' was changed from 'error' to 'logloss'. Explicitly set eval_metric if you'd like to restore the old behavior.\n",
      "[17:43:13] WARNING: C:/Users/Administrator/workspace/xgboost-win64_release_1.5.1/src/learner.cc:1115: Starting in XGBoost 1.3.0, the default evaluation metric used with the objective 'binary:logistic' was changed from 'error' to 'logloss'. Explicitly set eval_metric if you'd like to restore the old behavior.\n",
      "[17:43:49] WARNING: C:/Users/Administrator/workspace/xgboost-win64_release_1.5.1/src/learner.cc:1115: Starting in XGBoost 1.3.0, the default evaluation metric used with the objective 'binary:logistic' was changed from 'error' to 'logloss'. Explicitly set eval_metric if you'd like to restore the old behavior.\n",
      "Avg accuracy : 0.7771442231075697\n",
      "Avg precission : 0.8068190476190475\n",
      "Avg recall : 0.7828112202978076\n",
      "Avg f1 : 0.7859031292434591\n",
      "LGBM_CLASSIFIER\n",
      "Avg accuracy : 0.7859123505976096\n",
      "Avg precission : 0.8147047619047619\n",
      "Avg recall : 0.7853326175079667\n",
      "Avg f1 : 0.7941365674231646\n",
      "MULTILAYER_PERCEPTRON\n",
      "Avg accuracy : 0.612602390438247\n",
      "Avg precission : 0.6325714285714287\n",
      "Avg recall : 0.6092348459863884\n",
      "Avg f1 : 0.6195882681988115\n",
      "RIDGE_CLASSIFIER\n",
      "Avg accuracy : 0.5599999999999999\n",
      "Avg precission : 0.52\n",
      "Avg recall : 0.5416666666666666\n",
      "Avg f1 : 0.5008880008880008\n",
      "LOGISTIC_REGRESSION\n",
      "Avg accuracy : 0.58\n",
      "Avg precission : 0.56\n",
      "Avg recall : 0.5716666666666667\n",
      "Avg f1 : 0.5364435564435565\n",
      "PERCEPTRON\n",
      "Avg accuracy : 0.5199999999999999\n",
      "Avg precission : 0.56\n",
      "Avg recall : 0.5026190476190476\n",
      "Avg f1 : 0.5116239316239317\n",
      "PASSIVE_AGRESSIVE\n",
      "Avg accuracy : 0.5399999999999999\n",
      "Avg precission : 0.56\n",
      "Avg recall : 0.5192857142857144\n",
      "Avg f1 : 0.5171794871794873\n",
      "LDA\n",
      "Avg accuracy : 0.58\n",
      "Avg precission : 0.4800000000000001\n",
      "Avg recall : 0.6342857142857143\n",
      "Avg f1 : 0.5136507936507937\n",
      "SUPPORT_VECTOR_MACHINE\n"
     ]
    },
    {
     "name": "stderr",
     "output_type": "stream",
     "text": [
      "c:\\Users\\yolan\\anaconda3\\envs\\directml\\lib\\site-packages\\sklearn\\metrics\\_classification.py:1248: UndefinedMetricWarning: Recall is ill-defined and being set to 0.0 due to no true samples. Use `zero_division` parameter to control this behavior.\n",
      "  _warn_prf(average, modifier, msg_start, len(result))\n"
     ]
    },
    {
     "name": "stdout",
     "output_type": "stream",
     "text": [
      "Avg accuracy : 0.45999999999999996\n",
      "Avg precission : 0.4\n",
      "Avg recall : 0.36666666666666664\n",
      "Avg f1 : 0.37979797979797975\n",
      "STOCHASTIC_GRADIENT_DESCENT\n",
      "Avg accuracy : 0.48\n",
      "Avg precission : 0.44000000000000006\n",
      "Avg recall : 0.4416666666666667\n",
      "Avg f1 : 0.426068376068376\n",
      "NAIVE_BAYES\n",
      "Avg accuracy : 0.6199999999999999\n",
      "Avg precission : 0.72\n",
      "Avg recall : 0.6361111111111111\n",
      "Avg f1 : 0.6446830946830947\n",
      "BAGGING\n",
      "Avg accuracy : 0.42000000000000004\n",
      "Avg precission : 0.24\n",
      "Avg recall : 0.4666666666666666\n",
      "Avg f1 : 0.29444444444444445\n",
      "RANDOM_FOREST\n",
      "Avg accuracy : 0.43999999999999995\n",
      "Avg precission : 0.39999999999999997\n",
      "Avg recall : 0.37\n",
      "Avg f1 : 0.3826262626262626\n",
      "ADA_BOOST\n",
      "Avg accuracy : 0.42000000000000004\n",
      "Avg precission : 0.4800000000000001\n",
      "Avg recall : 0.4216666666666667\n",
      "Avg f1 : 0.44048951048951046\n",
      "GRADIENT_BOOST\n",
      "Avg accuracy : 0.38\n",
      "Avg precission : 0.31999999999999995\n",
      "Avg recall : 0.3466666666666666\n",
      "Avg f1 : 0.327979797979798\n",
      "XBOOST\n",
      "[17:47:45] WARNING: C:/Users/Administrator/workspace/xgboost-win64_release_1.5.1/src/learner.cc:1115: Starting in XGBoost 1.3.0, the default evaluation metric used with the objective 'binary:logistic' was changed from 'error' to 'logloss'. Explicitly set eval_metric if you'd like to restore the old behavior.\n",
      "[17:47:46] WARNING: C:/Users/Administrator/workspace/xgboost-win64_release_1.5.1/src/learner.cc:1115: Starting in XGBoost 1.3.0, the default evaluation metric used with the objective 'binary:logistic' was changed from 'error' to 'logloss'. Explicitly set eval_metric if you'd like to restore the old behavior.\n",
      "[17:47:46] WARNING: C:/Users/Administrator/workspace/xgboost-win64_release_1.5.1/src/learner.cc:1115: Starting in XGBoost 1.3.0, the default evaluation metric used with the objective 'binary:logistic' was changed from 'error' to 'logloss'. Explicitly set eval_metric if you'd like to restore the old behavior.\n",
      "[17:47:47] WARNING: C:/Users/Administrator/workspace/xgboost-win64_release_1.5.1/src/learner.cc:1115: Starting in XGBoost 1.3.0, the default evaluation metric used with the objective 'binary:logistic' was changed from 'error' to 'logloss'. Explicitly set eval_metric if you'd like to restore the old behavior.\n",
      "[17:47:47] WARNING: C:/Users/Administrator/workspace/xgboost-win64_release_1.5.1/src/learner.cc:1115: Starting in XGBoost 1.3.0, the default evaluation metric used with the objective 'binary:logistic' was changed from 'error' to 'logloss'. Explicitly set eval_metric if you'd like to restore the old behavior.\n",
      "Avg accuracy : 0.38\n",
      "Avg precission : 0.43999999999999995\n",
      "Avg recall : 0.399047619047619\n",
      "Avg f1 : 0.41434343434343435\n",
      "LGBM_CLASSIFIER\n",
      "Avg accuracy : 0.54\n",
      "Avg precission : 0.6\n",
      "Avg recall : 0.5476190476190477\n",
      "Avg f1 : 0.5606060606060606\n",
      "MULTILAYER_PERCEPTRON\n",
      "Avg accuracy : 0.48\n",
      "Avg precission : 0.52\n",
      "Avg recall : 0.45499999999999996\n",
      "Avg f1 : 0.47627039627039636\n",
      "RIDGE_CLASSIFIER\n",
      "Avg accuracy : 0.5715459297983569\n",
      "Avg precission : 0.5674962292609351\n",
      "Avg recall : 0.5749302113189774\n",
      "Avg f1 : 0.570060368773013\n",
      "LOGISTIC_REGRESSION\n",
      "Avg accuracy : 0.5830283793876025\n",
      "Avg precission : 0.567420814479638\n",
      "Avg recall : 0.5871844890002784\n",
      "Avg f1 : 0.5756847281039985\n",
      "PERCEPTRON\n",
      "Avg accuracy : 0.6002987303958177\n",
      "Avg precission : 0.5830316742081447\n",
      "Avg recall : 0.6026593864884653\n",
      "Avg f1 : 0.592083423561603\n",
      "PASSIVE_AGRESSIVE\n",
      "Avg accuracy : 0.5830283793876028\n",
      "Avg precission : 0.567420814479638\n",
      "Avg recall : 0.5871331141152113\n",
      "Avg f1 : 0.5754337897597708\n",
      "LDA\n",
      "Avg accuracy : 0.6255041075429425\n",
      "Avg precission : 0.6138763197586727\n",
      "Avg recall : 0.6287058096931759\n",
      "Avg f1 : 0.6210122166865253\n",
      "SUPPORT_VECTOR_MACHINE\n",
      "Avg accuracy : 0.6313106796116505\n",
      "Avg precission : 0.583182503770739\n",
      "Avg recall : 0.6477943105893417\n",
      "Avg f1 : 0.6129932974906143\n",
      "STOCHASTIC_GRADIENT_DESCENT\n",
      "Avg accuracy : 0.6005227781926811\n",
      "Avg precission : 0.6063348416289592\n",
      "Avg recall : 0.6010977536734766\n",
      "Avg f1 : 0.6023731124349682\n",
      "NAIVE_BAYES\n",
      "Avg accuracy : 0.6234876773711726\n",
      "Avg precission : 0.49434389140271495\n",
      "Avg recall : 0.6842205513784461\n",
      "Avg f1 : 0.5675705555662252\n",
      "BAGGING\n",
      "Avg accuracy : 0.7082337565347274\n",
      "Avg precission : 0.6869532428355958\n",
      "Avg recall : 0.7271847450794819\n",
      "Avg f1 : 0.702292934137228\n",
      "RANDOM_FOREST\n",
      "Avg accuracy : 0.6407953696788649\n",
      "Avg precission : 0.6098793363499245\n",
      "Avg recall : 0.653853553962618\n",
      "Avg f1 : 0.6292688042500073\n",
      "ADA_BOOST\n",
      "Avg accuracy : 0.6390029873039582\n",
      "Avg precission : 0.6603318250377074\n",
      "Avg recall : 0.6335953878406708\n",
      "Avg f1 : 0.6465643919355787\n",
      "GRADIENT_BOOST\n",
      "Avg accuracy : 0.7411501120238985\n",
      "Avg precission : 0.7260935143288083\n",
      "Avg recall : 0.7584378070368502\n",
      "Avg f1 : 0.7389193026233284\n",
      "XBOOST\n",
      "[17:53:45] WARNING: C:/Users/Administrator/workspace/xgboost-win64_release_1.5.1/src/learner.cc:1115: Starting in XGBoost 1.3.0, the default evaluation metric used with the objective 'binary:logistic' was changed from 'error' to 'logloss'. Explicitly set eval_metric if you'd like to restore the old behavior.\n",
      "[17:53:54] WARNING: C:/Users/Administrator/workspace/xgboost-win64_release_1.5.1/src/learner.cc:1115: Starting in XGBoost 1.3.0, the default evaluation metric used with the objective 'binary:logistic' was changed from 'error' to 'logloss'. Explicitly set eval_metric if you'd like to restore the old behavior.\n",
      "[17:54:03] WARNING: C:/Users/Administrator/workspace/xgboost-win64_release_1.5.1/src/learner.cc:1115: Starting in XGBoost 1.3.0, the default evaluation metric used with the objective 'binary:logistic' was changed from 'error' to 'logloss'. Explicitly set eval_metric if you'd like to restore the old behavior.\n",
      "[17:54:12] WARNING: C:/Users/Administrator/workspace/xgboost-win64_release_1.5.1/src/learner.cc:1115: Starting in XGBoost 1.3.0, the default evaluation metric used with the objective 'binary:logistic' was changed from 'error' to 'logloss'. Explicitly set eval_metric if you'd like to restore the old behavior.\n",
      "[17:54:21] WARNING: C:/Users/Administrator/workspace/xgboost-win64_release_1.5.1/src/learner.cc:1115: Starting in XGBoost 1.3.0, the default evaluation metric used with the objective 'binary:logistic' was changed from 'error' to 'logloss'. Explicitly set eval_metric if you'd like to restore the old behavior.\n",
      "Avg accuracy : 0.7140403286034355\n",
      "Avg precission : 0.721870286576169\n",
      "Avg recall : 0.7193930353324507\n",
      "Avg f1 : 0.7189708812835764\n",
      "LGBM_CLASSIFIER\n",
      "Avg accuracy : 0.7160754294249441\n",
      "Avg precission : 0.6909502262443439\n",
      "Avg recall : 0.7302174637812936\n",
      "Avg f1 : 0.7093781135007551\n",
      "MULTILAYER_PERCEPTRON\n",
      "Avg accuracy : 0.600429424943988\n",
      "Avg precission : 0.6257164404223227\n",
      "Avg recall : 0.5953752056909952\n",
      "Avg f1 : 0.6098448395956771\n",
      "RIDGE_CLASSIFIER\n",
      "Avg accuracy : 0.7021419828641371\n",
      "Avg precission : 0.6986867305061559\n",
      "Avg recall : 0.7036493018287086\n",
      "Avg f1 : 0.7010153713650554\n",
      "LOGISTIC_REGRESSION\n",
      "Avg accuracy : 0.7278321773425812\n",
      "Avg precission : 0.7315184678522572\n",
      "Avg recall : 0.7263094990683958\n",
      "Avg f1 : 0.728047769487576\n",
      "PERCEPTRON\n",
      "Avg accuracy : 0.7138378892968855\n",
      "Avg precission : 0.7244596443228455\n",
      "Avg recall : 0.7096155619129962\n",
      "Avg f1 : 0.716427671867664\n",
      "PASSIVE_AGRESSIVE\n",
      "Avg accuracy : 0.7149802801577587\n",
      "Avg precission : 0.7175649794801642\n",
      "Avg recall : 0.7144326404238077\n",
      "Avg f1 : 0.7148049357228318\n",
      "LDA\n",
      "Avg accuracy : 0.6834421324629403\n",
      "Avg precission : 0.6824076607387142\n",
      "Avg recall : 0.6839730344749119\n",
      "Avg f1 : 0.6822721007733967\n",
      "SUPPORT_VECTOR_MACHINE\n",
      "Avg accuracy : 0.7080103359173127\n",
      "Avg precission : 0.714938440492476\n",
      "Avg recall : 0.7073717141109267\n",
      "Avg f1 : 0.7097341101048283\n",
      "STOCHASTIC_GRADIENT_DESCENT\n",
      "Avg accuracy : 0.6939820481436149\n",
      "Avg precission : 0.7221614227086184\n",
      "Avg recall : 0.6832313729746484\n",
      "Avg f1 : 0.7015135765113526\n",
      "NAIVE_BAYES\n",
      "Avg accuracy : 0.639079287365701\n",
      "Avg precission : 0.4413953488372093\n",
      "Avg recall : 0.7360146574353011\n",
      "Avg f1 : 0.5467519556453594\n",
      "BAGGING\n",
      "Avg accuracy : 0.8493404052767579\n",
      "Avg precission : 0.8504514363885087\n",
      "Avg recall : 0.8532200017027909\n",
      "Avg f1 : 0.8492219935376998\n",
      "RANDOM_FOREST\n",
      "Avg accuracy : 0.7045423636610907\n",
      "Avg precission : 0.6683720930232558\n",
      "Avg recall : 0.7227766848719277\n",
      "Avg f1 : 0.6935612410658349\n",
      "ADA_BOOST\n",
      "Avg accuracy : 0.7944240446076432\n",
      "Avg precission : 0.7896853625171\n",
      "Avg recall : 0.7976980193631735\n",
      "Avg f1 : 0.7927763888309417\n",
      "GRADIENT_BOOST\n",
      "Avg accuracy : 0.8504827961376309\n",
      "Avg precission : 0.8738440492476061\n",
      "Avg recall : 0.8398156686307011\n",
      "Avg f1 : 0.8548525616295958\n",
      "XBOOST\n",
      "[18:06:03] WARNING: C:/Users/Administrator/workspace/xgboost-win64_release_1.5.1/src/learner.cc:1115: Starting in XGBoost 1.3.0, the default evaluation metric used with the objective 'binary:logistic' was changed from 'error' to 'logloss'. Explicitly set eval_metric if you'd like to restore the old behavior.\n",
      "[18:06:17] WARNING: C:/Users/Administrator/workspace/xgboost-win64_release_1.5.1/src/learner.cc:1115: Starting in XGBoost 1.3.0, the default evaluation metric used with the objective 'binary:logistic' was changed from 'error' to 'logloss'. Explicitly set eval_metric if you'd like to restore the old behavior.\n",
      "[18:06:33] WARNING: C:/Users/Administrator/workspace/xgboost-win64_release_1.5.1/src/learner.cc:1115: Starting in XGBoost 1.3.0, the default evaluation metric used with the objective 'binary:logistic' was changed from 'error' to 'logloss'. Explicitly set eval_metric if you'd like to restore the old behavior.\n",
      "[18:06:49] WARNING: C:/Users/Administrator/workspace/xgboost-win64_release_1.5.1/src/learner.cc:1115: Starting in XGBoost 1.3.0, the default evaluation metric used with the objective 'binary:logistic' was changed from 'error' to 'logloss'. Explicitly set eval_metric if you'd like to restore the old behavior.\n",
      "[18:07:05] WARNING: C:/Users/Administrator/workspace/xgboost-win64_release_1.5.1/src/learner.cc:1115: Starting in XGBoost 1.3.0, the default evaluation metric used with the objective 'binary:logistic' was changed from 'error' to 'logloss'. Explicitly set eval_metric if you'd like to restore the old behavior.\n",
      "Avg accuracy : 0.8481300149598804\n",
      "Avg precission : 0.8667578659370724\n",
      "Avg recall : 0.8393508218705561\n",
      "Avg f1 : 0.8513215116952523\n",
      "LGBM_CLASSIFIER\n",
      "Avg accuracy : 0.8446552427580579\n",
      "Avg precission : 0.8715184678522572\n",
      "Avg recall : 0.8302338354908478\n",
      "Avg f1 : 0.8491031438026606\n",
      "MULTILAYER_PERCEPTRON\n",
      "Avg accuracy : 0.7021419828641371\n",
      "Avg precission : 0.7104514363885089\n",
      "Avg recall : 0.6992323363944735\n",
      "Avg f1 : 0.7040448179271708\n",
      "RIDGE_CLASSIFIER\n",
      "Avg accuracy : 0.6607405441274053\n",
      "Avg precission : 0.6534010367079234\n",
      "Avg recall : 0.6613950576324931\n",
      "Avg f1 : 0.6571812903763911\n",
      "LOGISTIC_REGRESSION\n",
      "Avg accuracy : 0.6934704711347047\n",
      "Avg precission : 0.6869565217391304\n",
      "Avg recall : 0.6923717451324867\n",
      "Avg f1 : 0.6891074153449329\n",
      "PERCEPTRON\n",
      "Avg accuracy : 0.6935129396151294\n",
      "Avg precission : 0.7203850629429811\n",
      "Avg recall : 0.6803487206297512\n",
      "Avg f1 : 0.698718793646479\n",
      "PASSIVE_AGRESSIVE\n",
      "Avg accuracy : 0.6854731254147313\n",
      "Avg precission : 0.681127684333016\n",
      "Avg recall : 0.6841887429738904\n",
      "Avg f1 : 0.6822655095577834\n",
      "LDA\n",
      "Avg accuracy : 0.6709356337093564\n",
      "Avg precission : 0.6825558023907755\n",
      "Avg recall : 0.6641275939080489\n",
      "Avg f1 : 0.6725652961405845\n",
      "SUPPORT_VECTOR_MACHINE\n",
      "Avg accuracy : 0.7080265428002654\n",
      "Avg precission : 0.7509573680313129\n",
      "Avg recall : 0.6888100260061183\n",
      "Avg f1 : 0.7177270722598523\n",
      "STOCHASTIC_GRADIENT_DESCENT\n",
      "Avg accuracy : 0.6876841406768414\n",
      "Avg precission : 0.685496667724532\n",
      "Avg recall : 0.6859568417161803\n",
      "Avg f1 : 0.6850117922632146\n",
      "NAIVE_BAYES\n",
      "Avg accuracy : 0.695692103516921\n",
      "Avg precission : 0.8090447476991433\n",
      "Avg recall : 0.6583160365123396\n",
      "Avg f1 : 0.7243300263677621\n",
      "BAGGING\n",
      "Avg accuracy : 0.8222747179827472\n",
      "Avg precission : 0.8135512535702951\n",
      "Avg recall : 0.8346934540779849\n",
      "Avg f1 : 0.8223529129735614\n",
      "RANDOM_FOREST\n",
      "Avg accuracy : 0.737080291970803\n",
      "Avg precission : 0.8017877922352692\n",
      "Avg recall : 0.6920946187853845\n",
      "Avg f1 : 0.7380975121938631\n",
      "ADA_BOOST\n",
      "Avg accuracy : 0.7727989382879894\n",
      "Avg precission : 0.7785041785676505\n",
      "Avg recall : 0.7687185446195264\n",
      "Avg f1 : 0.7723560837305201\n",
      "GRADIENT_BOOST\n",
      "Avg accuracy : 0.8324485733244857\n",
      "Avg precission : 0.8382100920342749\n",
      "Avg recall : 0.8304163416593386\n",
      "Avg f1 : 0.8336268505003416\n",
      "XBOOST\n",
      "[18:27:15] WARNING: C:/Users/Administrator/workspace/xgboost-win64_release_1.5.1/src/learner.cc:1115: Starting in XGBoost 1.3.0, the default evaluation metric used with the objective 'binary:logistic' was changed from 'error' to 'logloss'. Explicitly set eval_metric if you'd like to restore the old behavior.\n",
      "[18:27:45] WARNING: C:/Users/Administrator/workspace/xgboost-win64_release_1.5.1/src/learner.cc:1115: Starting in XGBoost 1.3.0, the default evaluation metric used with the objective 'binary:logistic' was changed from 'error' to 'logloss'. Explicitly set eval_metric if you'd like to restore the old behavior.\n",
      "[18:28:16] WARNING: C:/Users/Administrator/workspace/xgboost-win64_release_1.5.1/src/learner.cc:1115: Starting in XGBoost 1.3.0, the default evaluation metric used with the objective 'binary:logistic' was changed from 'error' to 'logloss'. Explicitly set eval_metric if you'd like to restore the old behavior.\n",
      "[18:28:46] WARNING: C:/Users/Administrator/workspace/xgboost-win64_release_1.5.1/src/learner.cc:1115: Starting in XGBoost 1.3.0, the default evaluation metric used with the objective 'binary:logistic' was changed from 'error' to 'logloss'. Explicitly set eval_metric if you'd like to restore the old behavior.\n",
      "[18:29:16] WARNING: C:/Users/Administrator/workspace/xgboost-win64_release_1.5.1/src/learner.cc:1115: Starting in XGBoost 1.3.0, the default evaluation metric used with the objective 'binary:logistic' was changed from 'error' to 'logloss'. Explicitly set eval_metric if you'd like to restore the old behavior.\n",
      "Avg accuracy : 0.8324485733244857\n",
      "Avg precission : 0.8426002327303502\n",
      "Avg recall : 0.8278615147142251\n",
      "Avg f1 : 0.8342199315002781\n",
      "LGBM_CLASSIFIER\n",
      "Avg accuracy : 0.8368254810882549\n",
      "Avg precission : 0.8571670369194966\n",
      "Avg recall : 0.8267740572561472\n",
      "Avg f1 : 0.8408524054393176\n",
      "MULTILAYER_PERCEPTRON\n",
      "Avg accuracy : 0.6949568679495688\n",
      "Avg precission : 0.7117105680736274\n",
      "Avg recall : 0.6851252754492463\n",
      "Avg f1 : 0.6970700547490976\n",
      "RIDGE_CLASSIFIER\n",
      "Avg accuracy : 0.5763636363636364\n",
      "Avg precission : 0.5066666666666666\n",
      "Avg recall : 0.5785714285714285\n",
      "Avg f1 : 0.5294871794871794\n",
      "LOGISTIC_REGRESSION\n",
      "Avg accuracy : 0.5581818181818182\n",
      "Avg precission : 0.5066666666666666\n",
      "Avg recall : 0.5285714285714286\n",
      "Avg f1 : 0.5128205128205128\n",
      "PERCEPTRON\n",
      "Avg accuracy : 0.5563636363636364\n",
      "Avg precission : 0.5800000000000001\n",
      "Avg recall : 0.5035714285714286\n",
      "Avg f1 : 0.5326007326007326\n",
      "PASSIVE_AGRESSIVE\n",
      "Avg accuracy : 0.5763636363636364\n",
      "Avg precission : 0.5066666666666666\n",
      "Avg recall : 0.5285714285714286\n",
      "Avg f1 : 0.5128205128205128\n",
      "LDA\n",
      "Avg accuracy : 0.5927272727272727\n",
      "Avg precission : 0.5866666666666667\n",
      "Avg recall : 0.5295238095238095\n",
      "Avg f1 : 0.5556643356643357\n",
      "SUPPORT_VECTOR_MACHINE\n",
      "Avg accuracy : 0.5745454545454546\n",
      "Avg precission : 0.5533333333333333\n",
      "Avg recall : 0.5933333333333334\n",
      "Avg f1 : 0.5654545454545455\n",
      "STOCHASTIC_GRADIENT_DESCENT\n",
      "Avg accuracy : 0.6309090909090909\n",
      "Avg precission : 0.5466666666666666\n",
      "Avg recall : 0.6033333333333333\n",
      "Avg f1 : 0.572121212121212\n",
      "NAIVE_BAYES\n",
      "Avg accuracy : 0.5945454545454545\n",
      "Avg precission : 0.5933333333333334\n",
      "Avg recall : 0.62\n",
      "Avg f1 : 0.602051282051282\n",
      "BAGGING\n",
      "Avg accuracy : 0.5545454545454545\n",
      "Avg precission : 0.4333333333333333\n",
      "Avg recall : 0.5642857142857143\n",
      "Avg f1 : 0.47799755799755805\n",
      "RANDOM_FOREST\n",
      "Avg accuracy : 0.5218181818181818\n",
      "Avg precission : 0.5133333333333334\n",
      "Avg recall : 0.5871428571428572\n",
      "Avg f1 : 0.5276190476190477\n",
      "ADA_BOOST\n",
      "Avg accuracy : 0.5545454545454545\n",
      "Avg precission : 0.66\n",
      "Avg recall : 0.5222222222222221\n",
      "Avg f1 : 0.5686147186147186\n",
      "GRADIENT_BOOST\n",
      "Avg accuracy : 0.54\n",
      "Avg precission : 0.5933333333333334\n",
      "Avg recall : 0.5276190476190477\n",
      "Avg f1 : 0.5576223776223775\n",
      "XBOOST\n",
      "[18:32:50] WARNING: C:/Users/Administrator/workspace/xgboost-win64_release_1.5.1/src/learner.cc:1115: Starting in XGBoost 1.3.0, the default evaluation metric used with the objective 'binary:logistic' was changed from 'error' to 'logloss'. Explicitly set eval_metric if you'd like to restore the old behavior.\n",
      "[18:32:51] WARNING: C:/Users/Administrator/workspace/xgboost-win64_release_1.5.1/src/learner.cc:1115: Starting in XGBoost 1.3.0, the default evaluation metric used with the objective 'binary:logistic' was changed from 'error' to 'logloss'. Explicitly set eval_metric if you'd like to restore the old behavior.\n",
      "[18:32:52] WARNING: C:/Users/Administrator/workspace/xgboost-win64_release_1.5.1/src/learner.cc:1115: Starting in XGBoost 1.3.0, the default evaluation metric used with the objective 'binary:logistic' was changed from 'error' to 'logloss'. Explicitly set eval_metric if you'd like to restore the old behavior.\n",
      "[18:32:52] WARNING: C:/Users/Administrator/workspace/xgboost-win64_release_1.5.1/src/learner.cc:1115: Starting in XGBoost 1.3.0, the default evaluation metric used with the objective 'binary:logistic' was changed from 'error' to 'logloss'. Explicitly set eval_metric if you'd like to restore the old behavior.\n",
      "[18:32:53] WARNING: C:/Users/Administrator/workspace/xgboost-win64_release_1.5.1/src/learner.cc:1115: Starting in XGBoost 1.3.0, the default evaluation metric used with the objective 'binary:logistic' was changed from 'error' to 'logloss'. Explicitly set eval_metric if you'd like to restore the old behavior.\n",
      "Avg accuracy : 0.5581818181818182\n",
      "Avg precission : 0.5133333333333333\n",
      "Avg recall : 0.569047619047619\n",
      "Avg f1 : 0.531095571095571\n",
      "LGBM_CLASSIFIER\n",
      "Avg accuracy : 0.44909090909090904\n",
      "Avg precission : 0.4066666666666666\n",
      "Avg recall : 0.39904761904761904\n",
      "Avg f1 : 0.39776223776223774\n",
      "MULTILAYER_PERCEPTRON\n",
      "Avg accuracy : 0.5745454545454545\n",
      "Avg precission : 0.5533333333333333\n",
      "Avg recall : 0.52\n",
      "Avg f1 : 0.5351515151515152\n",
      "RIDGE_CLASSIFIER\n",
      "Avg accuracy : 0.614215139442231\n",
      "Avg precission : 0.6292698412698413\n",
      "Avg recall : 0.6132160687824367\n",
      "Avg f1 : 0.62041682746823\n",
      "LOGISTIC_REGRESSION\n",
      "Avg accuracy : 0.6564940239043826\n",
      "Avg precission : 0.6596190476190477\n",
      "Avg recall : 0.6532275921600468\n",
      "Avg f1 : 0.6541141558396901\n",
      "PERCEPTRON\n",
      "Avg accuracy : 0.6493354581673307\n",
      "Avg precission : 0.6612190476190476\n",
      "Avg recall : 0.6451062663351879\n",
      "Avg f1 : 0.650955091262008\n",
      "PASSIVE_AGRESSIVE\n",
      "Avg accuracy : 0.6493163346613546\n",
      "Avg precission : 0.6516190476190477\n",
      "Avg recall : 0.6462131941647881\n",
      "Avg f1 : 0.646704372546865\n",
      "LDA\n",
      "Avg accuracy : 0.6149322709163347\n",
      "Avg precission : 0.6068444444444444\n",
      "Avg recall : 0.6155729983990303\n",
      "Avg f1 : 0.6100113774060628\n",
      "SUPPORT_VECTOR_MACHINE\n",
      "Avg accuracy : 0.6540557768924302\n",
      "Avg precission : 0.6721777777777778\n",
      "Avg recall : 0.644525744163577\n",
      "Avg f1 : 0.6552773095129509\n",
      "STOCHASTIC_GRADIENT_DESCENT\n",
      "Avg accuracy : 0.6237768924302789\n",
      "Avg precission : 0.6452571428571429\n",
      "Avg recall : 0.6197971778520441\n",
      "Avg f1 : 0.6316596454560992\n",
      "NAIVE_BAYES\n",
      "Avg accuracy : 0.6436876494023905\n",
      "Avg precission : 0.7076190476190476\n",
      "Avg recall : 0.6246681961835208\n",
      "Avg f1 : 0.6590477048420853\n",
      "BAGGING\n",
      "Avg accuracy : 0.7563155378486056\n",
      "Avg precission : 0.7234539682539682\n",
      "Avg recall : 0.7752827080963051\n",
      "Avg f1 : 0.7460435491505042\n",
      "RANDOM_FOREST\n",
      "Avg accuracy : 0.656411155378486\n",
      "Avg precission : 0.661015873015873\n",
      "Avg recall : 0.6345984253230122\n",
      "Avg f1 : 0.6401780273516466\n",
      "ADA_BOOST\n",
      "Avg accuracy : 0.7419760956175299\n",
      "Avg precission : 0.7316190476190477\n",
      "Avg recall : 0.7512045615170188\n",
      "Avg f1 : 0.7399080258988554\n",
      "GRADIENT_BOOST\n",
      "Avg accuracy : 0.7794772908366534\n",
      "Avg precission : 0.773015873015873\n",
      "Avg recall : 0.7839913813320255\n",
      "Avg f1 : 0.7765767823171081\n",
      "XBOOST\n",
      "[18:49:10] WARNING: C:/Users/Administrator/workspace/xgboost-win64_release_1.5.1/src/learner.cc:1115: Starting in XGBoost 1.3.0, the default evaluation metric used with the objective 'binary:logistic' was changed from 'error' to 'logloss'. Explicitly set eval_metric if you'd like to restore the old behavior.\n",
      "[18:49:37] WARNING: C:/Users/Administrator/workspace/xgboost-win64_release_1.5.1/src/learner.cc:1115: Starting in XGBoost 1.3.0, the default evaluation metric used with the objective 'binary:logistic' was changed from 'error' to 'logloss'. Explicitly set eval_metric if you'd like to restore the old behavior.\n",
      "[18:50:05] WARNING: C:/Users/Administrator/workspace/xgboost-win64_release_1.5.1/src/learner.cc:1115: Starting in XGBoost 1.3.0, the default evaluation metric used with the objective 'binary:logistic' was changed from 'error' to 'logloss'. Explicitly set eval_metric if you'd like to restore the old behavior.\n",
      "[18:50:33] WARNING: C:/Users/Administrator/workspace/xgboost-win64_release_1.5.1/src/learner.cc:1115: Starting in XGBoost 1.3.0, the default evaluation metric used with the objective 'binary:logistic' was changed from 'error' to 'logloss'. Explicitly set eval_metric if you'd like to restore the old behavior.\n",
      "[18:51:01] WARNING: C:/Users/Administrator/workspace/xgboost-win64_release_1.5.1/src/learner.cc:1115: Starting in XGBoost 1.3.0, the default evaluation metric used with the objective 'binary:logistic' was changed from 'error' to 'logloss'. Explicitly set eval_metric if you'd like to restore the old behavior.\n",
      "Avg accuracy : 0.7834645418326692\n",
      "Avg precission : 0.7778285714285714\n",
      "Avg recall : 0.7884123186646513\n",
      "Avg f1 : 0.7814615125516725\n",
      "LGBM_CLASSIFIER\n",
      "Avg accuracy : 0.7882709163346613\n",
      "Avg precission : 0.7857904761904762\n",
      "Avg recall : 0.7914377087597532\n",
      "Avg f1 : 0.7866685695903809\n",
      "MULTILAYER_PERCEPTRON\n",
      "Avg accuracy : 0.6484717131474105\n",
      "Avg precission : 0.6610920634920635\n",
      "Avg recall : 0.6370111506718257\n",
      "Avg f1 : 0.6467739847461508\n",
      "RIDGE_CLASSIFIER\n",
      "Avg accuracy : 0.66\n",
      "Avg precission : 0.68\n",
      "Avg recall : 0.6466666666666667\n",
      "Avg f1 : 0.6597979797979798\n",
      "LOGISTIC_REGRESSION\n",
      "Avg accuracy : 0.6799999999999999\n",
      "Avg precission : 0.68\n",
      "Avg recall : 0.6766666666666666\n",
      "Avg f1 : 0.6731313131313131\n",
      "PERCEPTRON\n",
      "Avg accuracy : 0.58\n",
      "Avg precission : 0.6\n",
      "Avg recall : 0.5533333333333333\n",
      "Avg f1 : 0.5700000000000001\n",
      "PASSIVE_AGRESSIVE\n",
      "Avg accuracy : 0.66\n",
      "Avg precission : 0.68\n",
      "Avg recall : 0.6466666666666667\n",
      "Avg f1 : 0.6597979797979798\n",
      "LDA\n",
      "Avg accuracy : 0.6599999999999999\n",
      "Avg precission : 0.72\n",
      "Avg recall : 0.65\n",
      "Avg f1 : 0.6787878787878787\n",
      "SUPPORT_VECTOR_MACHINE\n",
      "Avg accuracy : 0.5599999999999999\n",
      "Avg precission : 0.6\n",
      "Avg recall : 0.5857142857142856\n",
      "Avg f1 : 0.5868686868686869\n",
      "STOCHASTIC_GRADIENT_DESCENT\n",
      "Avg accuracy : 0.66\n",
      "Avg precission : 0.68\n",
      "Avg recall : 0.6466666666666667\n",
      "Avg f1 : 0.6597979797979798\n",
      "NAIVE_BAYES\n",
      "Avg accuracy : 0.66\n",
      "Avg precission : 0.6399999999999999\n",
      "Avg recall : 0.6333333333333333\n",
      "Avg f1 : 0.631818181818182\n",
      "BAGGING\n",
      "Avg accuracy : 0.72\n",
      "Avg precission : 0.6400000000000001\n",
      "Avg recall : 0.7933333333333333\n",
      "Avg f1 : 0.6943434343434344\n",
      "RANDOM_FOREST\n",
      "Avg accuracy : 0.8\n",
      "Avg precission : 0.8\n",
      "Avg recall : 0.8\n",
      "Avg f1 : 0.8\n",
      "ADA_BOOST\n",
      "Avg accuracy : 0.76\n",
      "Avg precission : 0.72\n",
      "Avg recall : 0.8133333333333332\n",
      "Avg f1 : 0.7532323232323233\n",
      "GRADIENT_BOOST\n",
      "Avg accuracy : 0.6199999999999999\n",
      "Avg precission : 0.6\n",
      "Avg recall : 0.6233333333333333\n",
      "Avg f1 : 0.6076767676767677\n",
      "XBOOST\n",
      "[18:54:45] WARNING: C:/Users/Administrator/workspace/xgboost-win64_release_1.5.1/src/learner.cc:1115: Starting in XGBoost 1.3.0, the default evaluation metric used with the objective 'binary:logistic' was changed from 'error' to 'logloss'. Explicitly set eval_metric if you'd like to restore the old behavior.\n",
      "[18:54:45] WARNING: C:/Users/Administrator/workspace/xgboost-win64_release_1.5.1/src/learner.cc:1115: Starting in XGBoost 1.3.0, the default evaluation metric used with the objective 'binary:logistic' was changed from 'error' to 'logloss'. Explicitly set eval_metric if you'd like to restore the old behavior.\n",
      "[18:54:46] WARNING: C:/Users/Administrator/workspace/xgboost-win64_release_1.5.1/src/learner.cc:1115: Starting in XGBoost 1.3.0, the default evaluation metric used with the objective 'binary:logistic' was changed from 'error' to 'logloss'. Explicitly set eval_metric if you'd like to restore the old behavior.\n",
      "[18:54:46] WARNING: C:/Users/Administrator/workspace/xgboost-win64_release_1.5.1/src/learner.cc:1115: Starting in XGBoost 1.3.0, the default evaluation metric used with the objective 'binary:logistic' was changed from 'error' to 'logloss'. Explicitly set eval_metric if you'd like to restore the old behavior.\n",
      "[18:54:47] WARNING: C:/Users/Administrator/workspace/xgboost-win64_release_1.5.1/src/learner.cc:1115: Starting in XGBoost 1.3.0, the default evaluation metric used with the objective 'binary:logistic' was changed from 'error' to 'logloss'. Explicitly set eval_metric if you'd like to restore the old behavior.\n",
      "Avg accuracy : 0.72\n",
      "Avg precission : 0.72\n",
      "Avg recall : 0.74\n",
      "Avg f1 : 0.7172727272727273\n",
      "LGBM_CLASSIFIER\n",
      "Avg accuracy : 0.54\n",
      "Avg precission : 0.52\n",
      "Avg recall : 0.47333333333333333\n",
      "Avg f1 : 0.4945454545454545\n",
      "MULTILAYER_PERCEPTRON\n",
      "Avg accuracy : 0.58\n",
      "Avg precission : 0.6\n",
      "Avg recall : 0.569047619047619\n",
      "Avg f1 : 0.5742424242424242\n",
      "RIDGE_CLASSIFIER\n",
      "Avg accuracy : 0.6618371919342794\n",
      "Avg precission : 0.6408748114630468\n",
      "Avg recall : 0.6678366462693145\n",
      "Avg f1 : 0.6534304671069594\n",
      "LOGISTIC_REGRESSION\n",
      "Avg accuracy : 0.6812173263629575\n",
      "Avg precission : 0.6641025641025641\n",
      "Avg recall : 0.6864435070769302\n",
      "Avg f1 : 0.6741768007005181\n",
      "PERCEPTRON\n",
      "Avg accuracy : 0.6773338312173264\n",
      "Avg precission : 0.6642533936651585\n",
      "Avg recall : 0.6803526955592037\n",
      "Avg f1 : 0.6708624701474758\n",
      "PASSIVE_AGRESSIVE\n",
      "Avg accuracy : 0.6851008215085885\n",
      "Avg precission : 0.6796380090497738\n",
      "Avg recall : 0.6877210453313587\n",
      "Avg f1 : 0.6822156932674399\n",
      "LDA\n",
      "Avg accuracy : 0.6965832710978341\n",
      "Avg precission : 0.6911010558069381\n",
      "Avg recall : 0.6969949494949494\n",
      "Avg f1 : 0.692693763592547\n",
      "SUPPORT_VECTOR_MACHINE\n",
      "Avg accuracy : 0.7120799103808813\n",
      "Avg precission : 0.7296380090497738\n",
      "Avg recall : 0.7044647638632602\n",
      "Avg f1 : 0.7162697069196007\n",
      "STOCHASTIC_GRADIENT_DESCENT\n",
      "Avg accuracy : 0.6946788648244959\n",
      "Avg precission : 0.6793363499245852\n",
      "Avg recall : 0.6993202614379085\n",
      "Avg f1 : 0.6885998434477083\n",
      "NAIVE_BAYES\n",
      "Avg accuracy : 0.6987117251680359\n",
      "Avg precission : 0.8458521870286576\n",
      "Avg recall : 0.65603462063792\n",
      "Avg f1 : 0.7374149172618363\n",
      "BAGGING\n",
      "Avg accuracy : 0.7602688573562361\n",
      "Avg precission : 0.698868778280543\n",
      "Avg recall : 0.7895120877381312\n",
      "Avg f1 : 0.737948126501857\n",
      "RANDOM_FOREST\n",
      "Avg accuracy : 0.6886855862584017\n",
      "Avg precission : 0.7641779788838612\n",
      "Avg recall : 0.6582133829392054\n",
      "Avg f1 : 0.7061241935159988\n",
      "ADA_BOOST\n",
      "Avg accuracy : 0.7429611650485437\n",
      "Avg precission : 0.7183257918552036\n",
      "Avg recall : 0.7545132846904591\n",
      "Avg f1 : 0.7333886262466305\n",
      "GRADIENT_BOOST\n",
      "Avg accuracy : 0.7407766990291262\n",
      "Avg precission : 0.7374811463046758\n",
      "Avg recall : 0.7421546396336313\n",
      "Avg f1 : 0.7393958909669001\n",
      "XBOOST\n",
      "[19:00:29] WARNING: C:/Users/Administrator/workspace/xgboost-win64_release_1.5.1/src/learner.cc:1115: Starting in XGBoost 1.3.0, the default evaluation metric used with the objective 'binary:logistic' was changed from 'error' to 'logloss'. Explicitly set eval_metric if you'd like to restore the old behavior.\n",
      "[19:00:36] WARNING: C:/Users/Administrator/workspace/xgboost-win64_release_1.5.1/src/learner.cc:1115: Starting in XGBoost 1.3.0, the default evaluation metric used with the objective 'binary:logistic' was changed from 'error' to 'logloss'. Explicitly set eval_metric if you'd like to restore the old behavior.\n",
      "[19:00:44] WARNING: C:/Users/Administrator/workspace/xgboost-win64_release_1.5.1/src/learner.cc:1115: Starting in XGBoost 1.3.0, the default evaluation metric used with the objective 'binary:logistic' was changed from 'error' to 'logloss'. Explicitly set eval_metric if you'd like to restore the old behavior.\n",
      "[19:00:52] WARNING: C:/Users/Administrator/workspace/xgboost-win64_release_1.5.1/src/learner.cc:1115: Starting in XGBoost 1.3.0, the default evaluation metric used with the objective 'binary:logistic' was changed from 'error' to 'logloss'. Explicitly set eval_metric if you'd like to restore the old behavior.\n",
      "[19:00:59] WARNING: C:/Users/Administrator/workspace/xgboost-win64_release_1.5.1/src/learner.cc:1115: Starting in XGBoost 1.3.0, the default evaluation metric used with the objective 'binary:logistic' was changed from 'error' to 'logloss'. Explicitly set eval_metric if you'd like to restore the old behavior.\n",
      "Avg accuracy : 0.7582710978342047\n",
      "Avg precission : 0.7452488687782806\n",
      "Avg recall : 0.7594975424131917\n",
      "Avg f1 : 0.7508500827400665\n",
      "LGBM_CLASSIFIER\n",
      "Avg accuracy : 0.7699029126213592\n",
      "Avg precission : 0.7412518853695325\n",
      "Avg recall : 0.783530303030303\n",
      "Avg f1 : 0.7605125677013914\n",
      "MULTILAYER_PERCEPTRON\n",
      "Avg accuracy : 0.6446228528752801\n",
      "Avg precission : 0.6294871794871795\n",
      "Avg recall : 0.6457080106675793\n",
      "Avg f1 : 0.6362082511293732\n",
      "RIDGE_CLASSIFIER\n",
      "Avg accuracy : 0.7301577587379301\n",
      "Avg precission : 0.7243775649794802\n",
      "Avg recall : 0.7333781617263286\n",
      "Avg f1 : 0.7268642342184917\n",
      "LOGISTIC_REGRESSION\n",
      "Avg accuracy : 0.747688018495852\n",
      "Avg precission : 0.7502599179206567\n",
      "Avg recall : 0.7465672374504502\n",
      "Avg f1 : 0.7453295857629816\n",
      "PERCEPTRON\n",
      "Avg accuracy : 0.7348021215830274\n",
      "Avg precission : 0.7338166894664843\n",
      "Avg recall : 0.7360888981808773\n",
      "Avg f1 : 0.7315871952002175\n",
      "PASSIVE_AGRESSIVE\n",
      "Avg accuracy : 0.7429960560315518\n",
      "Avg precission : 0.7548563611491109\n",
      "Avg recall : 0.7376736575386204\n",
      "Avg f1 : 0.7447321250941161\n",
      "LDA\n",
      "Avg accuracy : 0.7219570243438052\n",
      "Avg precission : 0.7363337893296854\n",
      "Avg recall : 0.7148512777545035\n",
      "Avg f1 : 0.7243224436319272\n",
      "SUPPORT_VECTOR_MACHINE\n",
      "Avg accuracy : 0.7453896368829049\n",
      "Avg precission : 0.7993160054719562\n",
      "Avg recall : 0.7229274891774893\n",
      "Avg f1 : 0.7581297783642691\n",
      "STOCHASTIC_GRADIENT_DESCENT\n",
      "Avg accuracy : 0.7546851625186999\n",
      "Avg precission : 0.773625170998632\n",
      "Avg recall : 0.7455713907226522\n",
      "Avg f1 : 0.7563462675469252\n",
      "NAIVE_BAYES\n",
      "Avg accuracy : 0.6612131102951176\n",
      "Avg precission : 0.5117920656634747\n",
      "Avg recall : 0.7319178054981725\n",
      "Avg f1 : 0.6021027777262111\n",
      "BAGGING\n",
      "Avg accuracy : 0.8586155310757514\n",
      "Avg precission : 0.8485088919288645\n",
      "Avg recall : 0.8611269946422138\n",
      "Avg f1 : 0.8522176704056784\n",
      "RANDOM_FOREST\n",
      "Avg accuracy : 0.7371277029783763\n",
      "Avg precission : 0.7787961696306429\n",
      "Avg recall : 0.7061142622758702\n",
      "Avg f1 : 0.730981012728132\n",
      "ADA_BOOST\n",
      "Avg accuracy : 0.8118727050183597\n",
      "Avg precission : 0.8016963064295485\n",
      "Avg recall : 0.8154029239289049\n",
      "Avg f1 : 0.8055683549151457\n",
      "GRADIENT_BOOST\n",
      "Avg accuracy : 0.869141846865225\n",
      "Avg precission : 0.8671956224350206\n",
      "Avg recall : 0.8668844663500774\n",
      "Avg f1 : 0.8651585329627356\n",
      "XBOOST\n",
      "[19:12:22] WARNING: C:/Users/Administrator/workspace/xgboost-win64_release_1.5.1/src/learner.cc:1115: Starting in XGBoost 1.3.0, the default evaluation metric used with the objective 'binary:logistic' was changed from 'error' to 'logloss'. Explicitly set eval_metric if you'd like to restore the old behavior.\n",
      "[19:12:35] WARNING: C:/Users/Administrator/workspace/xgboost-win64_release_1.5.1/src/learner.cc:1115: Starting in XGBoost 1.3.0, the default evaluation metric used with the objective 'binary:logistic' was changed from 'error' to 'logloss'. Explicitly set eval_metric if you'd like to restore the old behavior.\n",
      "[19:12:50] WARNING: C:/Users/Administrator/workspace/xgboost-win64_release_1.5.1/src/learner.cc:1115: Starting in XGBoost 1.3.0, the default evaluation metric used with the objective 'binary:logistic' was changed from 'error' to 'logloss'. Explicitly set eval_metric if you'd like to restore the old behavior.\n",
      "[19:13:05] WARNING: C:/Users/Administrator/workspace/xgboost-win64_release_1.5.1/src/learner.cc:1115: Starting in XGBoost 1.3.0, the default evaluation metric used with the objective 'binary:logistic' was changed from 'error' to 'logloss'. Explicitly set eval_metric if you'd like to restore the old behavior.\n",
      "[19:13:19] WARNING: C:/Users/Administrator/workspace/xgboost-win64_release_1.5.1/src/learner.cc:1115: Starting in XGBoost 1.3.0, the default evaluation metric used with the objective 'binary:logistic' was changed from 'error' to 'logloss'. Explicitly set eval_metric if you'd like to restore the old behavior.\n",
      "Avg accuracy : 0.8761389908880728\n",
      "Avg precission : 0.8765253077975377\n",
      "Avg recall : 0.8733173322867241\n",
      "Avg f1 : 0.8743468818373075\n",
      "LGBM_CLASSIFIER\n",
      "Avg accuracy : 0.8726506187950497\n",
      "Avg precission : 0.8765253077975377\n",
      "Avg recall : 0.8666753901293527\n",
      "Avg f1 : 0.87038816436916\n",
      "MULTILAYER_PERCEPTRON\n",
      "Avg accuracy : 0.7313681490548075\n",
      "Avg precission : 0.7409849521203831\n",
      "Avg recall : 0.7275697138979513\n",
      "Avg f1 : 0.7313432768195309\n",
      "RIDGE_CLASSIFIER\n",
      "Avg accuracy : 0.7491861442220908\n",
      "Avg precission : 0.7571428571428571\n",
      "Avg recall : 0.7465233433992108\n",
      "Avg f1 : 0.7513068932709601\n",
      "LOGISTIC_REGRESSION\n",
      "Avg accuracy : 0.8027916964924839\n",
      "Avg precission : 0.8123234595675541\n",
      "Avg recall : 0.797925362141805\n",
      "Avg f1 : 0.8046901971227639\n",
      "PERCEPTRON\n",
      "Avg accuracy : 0.7917618499268619\n",
      "Avg precission : 0.7965504311961005\n",
      "Avg recall : 0.7897016803323561\n",
      "Avg f1 : 0.7925687755015348\n",
      "PASSIVE_AGRESSIVE\n",
      "Avg accuracy : 0.8020136316952475\n",
      "Avg precission : 0.815485564304462\n",
      "Avg recall : 0.7952042229204398\n",
      "Avg f1 : 0.8048034780525455\n",
      "LDA\n",
      "Avg accuracy : 0.7996265288973265\n",
      "Avg precission : 0.8075615548056494\n",
      "Avg recall : 0.7958610338725985\n",
      "Avg f1 : 0.8012656062318463\n",
      "SUPPORT_VECTOR_MACHINE\n",
      "Avg accuracy : 0.8003952569169961\n",
      "Avg precission : 0.7901637295338083\n",
      "Avg recall : 0.8115873773805001\n",
      "Avg f1 : 0.7992631004989322\n",
      "STOCHASTIC_GRADIENT_DESCENT\n",
      "Avg accuracy : 0.792552363760854\n",
      "Avg precission : 0.799650043744532\n",
      "Avg recall : 0.7919006313379715\n",
      "Avg f1 : 0.7944584573637662\n",
      "NAIVE_BAYES\n",
      "Avg accuracy : 0.7609753820298155\n",
      "Avg precission : 0.7806899137607799\n",
      "Avg recall : 0.7621716335013144\n",
      "Avg f1 : 0.7679823660355005\n",
      "BAGGING\n",
      "Avg accuracy : 0.7972456506177834\n",
      "Avg precission : 0.7635045619297588\n",
      "Avg recall : 0.8288892216449291\n",
      "Avg f1 : 0.7932434137356817\n",
      "RANDOM_FOREST\n",
      "Avg accuracy : 0.7925056798730198\n",
      "Avg precission : 0.8012498437695289\n",
      "Avg recall : 0.7969734821558057\n",
      "Avg f1 : 0.7968752591608721\n",
      "ADA_BOOST\n",
      "Avg accuracy : 0.8099000964800348\n",
      "Avg precission : 0.8155355580552431\n",
      "Avg recall : 0.8091441020852785\n",
      "Avg f1 : 0.8118639884378596\n",
      "GRADIENT_BOOST\n",
      "Avg accuracy : 0.8192991192306496\n",
      "Avg precission : 0.8234220722409699\n",
      "Avg recall : 0.8288781781065246\n",
      "Avg f1 : 0.8238549968089435\n",
      "XBOOST\n",
      "[19:31:49] WARNING: C:/Users/Administrator/workspace/xgboost-win64_release_1.5.1/src/learner.cc:1115: Starting in XGBoost 1.3.0, the default evaluation metric used with the objective 'binary:logistic' was changed from 'error' to 'logloss'. Explicitly set eval_metric if you'd like to restore the old behavior.\n",
      "[19:32:14] WARNING: C:/Users/Administrator/workspace/xgboost-win64_release_1.5.1/src/learner.cc:1115: Starting in XGBoost 1.3.0, the default evaluation metric used with the objective 'binary:logistic' was changed from 'error' to 'logloss'. Explicitly set eval_metric if you'd like to restore the old behavior.\n",
      "[19:32:40] WARNING: C:/Users/Administrator/workspace/xgboost-win64_release_1.5.1/src/learner.cc:1115: Starting in XGBoost 1.3.0, the default evaluation metric used with the objective 'binary:logistic' was changed from 'error' to 'logloss'. Explicitly set eval_metric if you'd like to restore the old behavior.\n",
      "[19:33:07] WARNING: C:/Users/Administrator/workspace/xgboost-win64_release_1.5.1/src/learner.cc:1115: Starting in XGBoost 1.3.0, the default evaluation metric used with the objective 'binary:logistic' was changed from 'error' to 'logloss'. Explicitly set eval_metric if you'd like to restore the old behavior.\n",
      "[19:33:33] WARNING: C:/Users/Administrator/workspace/xgboost-win64_release_1.5.1/src/learner.cc:1115: Starting in XGBoost 1.3.0, the default evaluation metric used with the objective 'binary:logistic' was changed from 'error' to 'logloss'. Explicitly set eval_metric if you'd like to restore the old behavior.\n",
      "Avg accuracy : 0.8232516884006099\n",
      "Avg precission : 0.8249718785151856\n",
      "Avg recall : 0.8326260526182931\n",
      "Avg f1 : 0.8263304737232154\n",
      "LGBM_CLASSIFIER\n",
      "Avg accuracy : 0.8311661635180977\n",
      "Avg precission : 0.8454818147731533\n",
      "Avg recall : 0.8335755336617405\n",
      "Avg f1 : 0.8364774539393732\n",
      "MULTILAYER_PERCEPTRON\n",
      "Avg accuracy : 0.7996452024524603\n",
      "Avg precission : 0.807549056367954\n",
      "Avg recall : 0.7967380258402074\n",
      "Avg f1 : 0.8012651417469382\n",
      "RIDGE_CLASSIFIER\n",
      "Avg accuracy : 0.7318181818181818\n",
      "Avg precission : 0.7266666666666667\n",
      "Avg recall : 0.805952380952381\n",
      "Avg f1 : 0.7246753246753246\n",
      "LOGISTIC_REGRESSION\n",
      "Avg accuracy : 0.7136363636363636\n",
      "Avg precission : 0.7266666666666667\n",
      "Avg recall : 0.7920634920634921\n",
      "Avg f1 : 0.7151515151515151\n",
      "PERCEPTRON\n",
      "Avg accuracy : 0.6257575757575757\n",
      "Avg precission : 0.5866666666666667\n",
      "Avg recall : 0.7535714285714286\n",
      "Avg f1 : 0.5666666666666667\n",
      "PASSIVE_AGRESSIVE\n",
      "Avg accuracy : 0.6954545454545455\n",
      "Avg precission : 0.6799999999999999\n",
      "Avg recall : 0.7577777777777778\n",
      "Avg f1 : 0.6884848484848485\n",
      "LDA\n",
      "Avg accuracy : 0.7348484848484849\n",
      "Avg precission : 0.7666666666666666\n",
      "Avg recall : 0.7694444444444445\n",
      "Avg f1 : 0.7346031746031747\n",
      "SUPPORT_VECTOR_MACHINE\n",
      "Avg accuracy : 0.6772727272727271\n",
      "Avg precission : 0.8333333333333334\n",
      "Avg recall : 0.7050000000000001\n",
      "Avg f1 : 0.715967365967366\n",
      "STOCHASTIC_GRADIENT_DESCENT\n",
      "Avg accuracy : 0.6606060606060605\n",
      "Avg precission : 0.64\n",
      "Avg recall : 0.7311111111111112\n",
      "Avg f1 : 0.6442424242424243\n",
      "NAIVE_BAYES\n",
      "Avg accuracy : 0.5696969696969696\n",
      "Avg precission : 0.6666666666666667\n",
      "Avg recall : 0.55\n",
      "Avg f1 : 0.5976800976800977\n",
      "BAGGING\n",
      "Avg accuracy : 0.6424242424242423\n",
      "Avg precission : 0.58\n",
      "Avg recall : 0.7476190476190476\n",
      "Avg f1 : 0.6109557109557109\n",
      "RANDOM_FOREST\n",
      "Avg accuracy : 0.7348484848484849\n",
      "Avg precission : 0.7266666666666667\n",
      "Avg recall : 0.7726190476190476\n",
      "Avg f1 : 0.7250793650793652\n",
      "ADA_BOOST\n",
      "Avg accuracy : 0.5909090909090909\n",
      "Avg precission : 0.6866666666666668\n",
      "Avg recall : 0.5666666666666667\n",
      "Avg f1 : 0.6085314685314684\n",
      "GRADIENT_BOOST\n",
      "Avg accuracy : 0.553030303030303\n",
      "Avg precission : 0.5466666666666666\n",
      "Avg recall : 0.4666666666666666\n",
      "Avg f1 : 0.5018648018648018\n",
      "XBOOST\n",
      "[19:36:59] WARNING: C:/Users/Administrator/workspace/xgboost-win64_release_1.5.1/src/learner.cc:1115: Starting in XGBoost 1.3.0, the default evaluation metric used with the objective 'binary:logistic' was changed from 'error' to 'logloss'. Explicitly set eval_metric if you'd like to restore the old behavior.\n",
      "[19:37:00] WARNING: C:/Users/Administrator/workspace/xgboost-win64_release_1.5.1/src/learner.cc:1115: Starting in XGBoost 1.3.0, the default evaluation metric used with the objective 'binary:logistic' was changed from 'error' to 'logloss'. Explicitly set eval_metric if you'd like to restore the old behavior.\n",
      "[19:37:00] WARNING: C:/Users/Administrator/workspace/xgboost-win64_release_1.5.1/src/learner.cc:1115: Starting in XGBoost 1.3.0, the default evaluation metric used with the objective 'binary:logistic' was changed from 'error' to 'logloss'. Explicitly set eval_metric if you'd like to restore the old behavior.\n",
      "[19:37:01] WARNING: C:/Users/Administrator/workspace/xgboost-win64_release_1.5.1/src/learner.cc:1115: Starting in XGBoost 1.3.0, the default evaluation metric used with the objective 'binary:logistic' was changed from 'error' to 'logloss'. Explicitly set eval_metric if you'd like to restore the old behavior.\n",
      "[19:37:01] WARNING: C:/Users/Administrator/workspace/xgboost-win64_release_1.5.1/src/learner.cc:1115: Starting in XGBoost 1.3.0, the default evaluation metric used with the objective 'binary:logistic' was changed from 'error' to 'logloss'. Explicitly set eval_metric if you'd like to restore the old behavior.\n",
      "Avg accuracy : 0.6242424242424243\n",
      "Avg precission : 0.6533333333333333\n",
      "Avg recall : 0.642063492063492\n",
      "Avg f1 : 0.6214896214896214\n",
      "LGBM_CLASSIFIER\n",
      "Avg accuracy : 0.5727272727272728\n",
      "Avg precission : 0.5466666666666666\n",
      "Avg recall : 0.6033333333333333\n",
      "Avg f1 : 0.5543900543900543\n",
      "MULTILAYER_PERCEPTRON\n",
      "Avg accuracy : 0.7151515151515151\n",
      "Avg precission : 0.72\n",
      "Avg recall : 0.7773809523809524\n",
      "Avg f1 : 0.7064935064935065\n",
      "RIDGE_CLASSIFIER\n",
      "Avg accuracy : 0.7042035314220619\n",
      "Avg precission : 0.7280091533180779\n",
      "Avg recall : 0.6938328220798808\n",
      "Avg f1 : 0.70938783086461\n",
      "LOGISTIC_REGRESSION\n",
      "Avg accuracy : 0.7347218530472756\n",
      "Avg precission : 0.754233409610984\n",
      "Avg recall : 0.725529263706927\n",
      "Avg f1 : 0.737428833406846\n",
      "PERCEPTRON\n",
      "Avg accuracy : 0.7355876210366433\n",
      "Avg precission : 0.7262547673531655\n",
      "Avg recall : 0.7384231127291779\n",
      "Avg f1 : 0.7312994307283972\n",
      "PASSIVE_AGRESSIVE\n",
      "Avg accuracy : 0.742574520599962\n",
      "Avg precission : 0.7489702517162471\n",
      "Avg recall : 0.739793691970372\n",
      "Avg f1 : 0.742575963482385\n",
      "LDA\n",
      "Avg accuracy : 0.7355838238086196\n",
      "Avg precission : 0.7314263920671243\n",
      "Avg recall : 0.739657176836076\n",
      "Avg f1 : 0.7345411465014358\n",
      "SUPPORT_VECTOR_MACHINE\n",
      "Avg accuracy : 0.750374026960319\n",
      "Avg precission : 0.7226697177726926\n",
      "Avg recall : 0.762905582263725\n",
      "Avg f1 : 0.7416191753182904\n",
      "STOCHASTIC_GRADIENT_DESCENT\n",
      "Avg accuracy : 0.7286159103854186\n",
      "Avg precission : 0.7402898550724638\n",
      "Avg recall : 0.7225246977422474\n",
      "Avg f1 : 0.729632226920599\n",
      "NAIVE_BAYES\n",
      "Avg accuracy : 0.6902145433833301\n",
      "Avg precission : 0.6806407322654463\n",
      "Avg recall : 0.7012444917932465\n",
      "Avg f1 : 0.6877412612906216\n",
      "BAGGING\n",
      "Avg accuracy : 0.6859502563128916\n",
      "Avg precission : 0.6201067887109077\n",
      "Avg recall : 0.7031454484627859\n",
      "Avg f1 : 0.6564778360729149\n",
      "RANDOM_FOREST\n",
      "Avg accuracy : 0.7251110689196888\n",
      "Avg precission : 0.7070022883295195\n",
      "Avg recall : 0.7365415440473793\n",
      "Avg f1 : 0.7203991499614185\n",
      "ADA_BOOST\n",
      "Avg accuracy : 0.7260337953294096\n",
      "Avg precission : 0.7070785659801677\n",
      "Avg recall : 0.7321918403066434\n",
      "Avg f1 : 0.7186312917127351\n",
      "GRADIENT_BOOST\n",
      "Avg accuracy : 0.7530890449971521\n",
      "Avg precission : 0.7281464530892449\n",
      "Avg recall : 0.7635581415284387\n",
      "Avg f1 : 0.7448087151810556\n",
      "XBOOST\n",
      "[19:51:28] WARNING: C:/Users/Administrator/workspace/xgboost-win64_release_1.5.1/src/learner.cc:1115: Starting in XGBoost 1.3.0, the default evaluation metric used with the objective 'binary:logistic' was changed from 'error' to 'logloss'. Explicitly set eval_metric if you'd like to restore the old behavior.\n",
      "[19:51:52] WARNING: C:/Users/Administrator/workspace/xgboost-win64_release_1.5.1/src/learner.cc:1115: Starting in XGBoost 1.3.0, the default evaluation metric used with the objective 'binary:logistic' was changed from 'error' to 'logloss'. Explicitly set eval_metric if you'd like to restore the old behavior.\n",
      "[19:52:16] WARNING: C:/Users/Administrator/workspace/xgboost-win64_release_1.5.1/src/learner.cc:1115: Starting in XGBoost 1.3.0, the default evaluation metric used with the objective 'binary:logistic' was changed from 'error' to 'logloss'. Explicitly set eval_metric if you'd like to restore the old behavior.\n",
      "[19:52:40] WARNING: C:/Users/Administrator/workspace/xgboost-win64_release_1.5.1/src/learner.cc:1115: Starting in XGBoost 1.3.0, the default evaluation metric used with the objective 'binary:logistic' was changed from 'error' to 'logloss'. Explicitly set eval_metric if you'd like to restore the old behavior.\n",
      "[19:53:04] WARNING: C:/Users/Administrator/workspace/xgboost-win64_release_1.5.1/src/learner.cc:1115: Starting in XGBoost 1.3.0, the default evaluation metric used with the objective 'binary:logistic' was changed from 'error' to 'logloss'. Explicitly set eval_metric if you'd like to restore the old behavior.\n",
      "Avg accuracy : 0.7643895955952156\n",
      "Avg precission : 0.7611441647597255\n",
      "Avg recall : 0.7645212266445911\n",
      "Avg f1 : 0.7623089468779124\n",
      "LGBM_CLASSIFIER\n",
      "Avg accuracy : 0.7696487564078223\n",
      "Avg precission : 0.7471700991609458\n",
      "Avg recall : 0.7815476190476189\n",
      "Avg f1 : 0.7634626446324144\n",
      "MULTILAYER_PERCEPTRON\n",
      "Avg accuracy : 0.753878868426049\n",
      "Avg precission : 0.7680854309687261\n",
      "Avg recall : 0.7459421873293823\n",
      "Avg f1 : 0.755427216285469\n",
      "RIDGE_CLASSIFIER\n",
      "Avg accuracy : 0.76\n",
      "Avg precission : 0.76\n",
      "Avg recall : 0.7828571428571428\n",
      "Avg f1 : 0.7566666666666667\n",
      "LOGISTIC_REGRESSION\n",
      "Avg accuracy : 0.74\n",
      "Avg precission : 0.72\n",
      "Avg recall : 0.7733333333333333\n",
      "Avg f1 : 0.7354545454545456\n",
      "PERCEPTRON\n",
      "Avg accuracy : 0.72\n",
      "Avg precission : 0.76\n",
      "Avg recall : 0.7066666666666668\n",
      "Avg f1 : 0.730909090909091\n",
      "PASSIVE_AGRESSIVE\n",
      "Avg accuracy : 0.72\n",
      "Avg precission : 0.6799999999999999\n",
      "Avg recall : 0.7533333333333333\n",
      "Avg f1 : 0.7043434343434345\n",
      "LDA\n",
      "Avg accuracy : 0.64\n",
      "Avg precission : 0.68\n",
      "Avg recall : 0.6433333333333333\n",
      "Avg f1 : 0.656969696969697\n",
      "SUPPORT_VECTOR_MACHINE\n",
      "Avg accuracy : 0.6399999999999999\n",
      "Avg precission : 0.5200000000000001\n",
      "Avg recall : 0.6766666666666666\n",
      "Avg f1 : 0.5822222222222222\n",
      "STOCHASTIC_GRADIENT_DESCENT\n",
      "Avg accuracy : 0.72\n",
      "Avg precission : 0.76\n",
      "Avg recall : 0.7342857142857142\n",
      "Avg f1 : 0.7402020202020203\n",
      "NAIVE_BAYES\n",
      "Avg accuracy : 0.7200000000000001\n",
      "Avg precission : 0.6\n",
      "Avg recall : 0.8166666666666668\n",
      "Avg f1 : 0.6683261183261183\n",
      "BAGGING\n",
      "Avg accuracy : 0.66\n",
      "Avg precission : 0.6\n",
      "Avg recall : 0.6799999999999999\n",
      "Avg f1 : 0.6284848484848485\n",
      "RANDOM_FOREST\n",
      "Avg accuracy : 0.6\n",
      "Avg precission : 0.5599999999999999\n",
      "Avg recall : 0.6133333333333333\n",
      "Avg f1 : 0.5810101010101011\n",
      "ADA_BOOST\n",
      "Avg accuracy : 0.76\n",
      "Avg precission : 0.8400000000000001\n",
      "Avg recall : 0.7592857142857141\n",
      "Avg f1 : 0.784957264957265\n",
      "GRADIENT_BOOST\n",
      "Avg accuracy : 0.82\n",
      "Avg precission : 0.9199999999999999\n",
      "Avg recall : 0.7838095238095238\n",
      "Avg f1 : 0.8418181818181818\n",
      "XBOOST\n",
      "[19:56:14] WARNING: C:/Users/Administrator/workspace/xgboost-win64_release_1.5.1/src/learner.cc:1115: Starting in XGBoost 1.3.0, the default evaluation metric used with the objective 'binary:logistic' was changed from 'error' to 'logloss'. Explicitly set eval_metric if you'd like to restore the old behavior.\n",
      "[19:56:14] WARNING: C:/Users/Administrator/workspace/xgboost-win64_release_1.5.1/src/learner.cc:1115: Starting in XGBoost 1.3.0, the default evaluation metric used with the objective 'binary:logistic' was changed from 'error' to 'logloss'. Explicitly set eval_metric if you'd like to restore the old behavior.\n",
      "[19:56:15] WARNING: C:/Users/Administrator/workspace/xgboost-win64_release_1.5.1/src/learner.cc:1115: Starting in XGBoost 1.3.0, the default evaluation metric used with the objective 'binary:logistic' was changed from 'error' to 'logloss'. Explicitly set eval_metric if you'd like to restore the old behavior.\n",
      "[19:56:15] WARNING: C:/Users/Administrator/workspace/xgboost-win64_release_1.5.1/src/learner.cc:1115: Starting in XGBoost 1.3.0, the default evaluation metric used with the objective 'binary:logistic' was changed from 'error' to 'logloss'. Explicitly set eval_metric if you'd like to restore the old behavior.\n",
      "[19:56:16] WARNING: C:/Users/Administrator/workspace/xgboost-win64_release_1.5.1/src/learner.cc:1115: Starting in XGBoost 1.3.0, the default evaluation metric used with the objective 'binary:logistic' was changed from 'error' to 'logloss'. Explicitly set eval_metric if you'd like to restore the old behavior.\n",
      "Avg accuracy : 0.76\n",
      "Avg precission : 0.8400000000000001\n",
      "Avg recall : 0.7342857142857143\n",
      "Avg f1 : 0.7806060606060606\n",
      "LGBM_CLASSIFIER\n",
      "Avg accuracy : 0.6\n",
      "Avg precission : 0.76\n",
      "Avg recall : 0.5809523809523809\n",
      "Avg f1 : 0.6564102564102563\n",
      "MULTILAYER_PERCEPTRON\n",
      "Avg accuracy : 0.6\n",
      "Avg precission : 0.56\n",
      "Avg recall : 0.62\n",
      "Avg f1 : 0.5846464646464645\n",
      "RIDGE_CLASSIFIER\n",
      "Avg accuracy : 0.7619009900990099\n",
      "Avg precission : 0.7541960784313726\n",
      "Avg recall : 0.7725962438677302\n",
      "Avg f1 : 0.7613639612499415\n",
      "LOGISTIC_REGRESSION\n",
      "Avg accuracy : 0.7976039603960396\n",
      "Avg precission : 0.8020392156862746\n",
      "Avg recall : 0.797393096022476\n",
      "Avg f1 : 0.7993321445082887\n",
      "PERCEPTRON\n",
      "Avg accuracy : 0.7739009900990099\n",
      "Avg precission : 0.7623529411764706\n",
      "Avg recall : 0.7814316361996305\n",
      "Avg f1 : 0.7713387635591568\n",
      "PASSIVE_AGRESSIVE\n",
      "Avg accuracy : 0.7896435643564357\n",
      "Avg precission : 0.7940392156862744\n",
      "Avg recall : 0.7891652807248954\n",
      "Avg f1 : 0.7908619161137082\n",
      "LDA\n",
      "Avg accuracy : 0.7817623762376238\n",
      "Avg precission : 0.7821176470588236\n",
      "Avg recall : 0.7835832184805589\n",
      "Avg f1 : 0.7807295317925855\n",
      "SUPPORT_VECTOR_MACHINE\n",
      "Avg accuracy : 0.7757425742574258\n",
      "Avg precission : 0.7582745098039216\n",
      "Avg recall : 0.7864109121909634\n",
      "Avg f1 : 0.7716499778843863\n",
      "STOCHASTIC_GRADIENT_DESCENT\n",
      "Avg accuracy : 0.7876435643564357\n",
      "Avg precission : 0.8019607843137255\n",
      "Avg recall : 0.7829541134135238\n",
      "Avg f1 : 0.7908475271137583\n",
      "NAIVE_BAYES\n",
      "Avg accuracy : 0.726039603960396\n",
      "Avg precission : 0.7382745098039216\n",
      "Avg recall : 0.7264022690219132\n",
      "Avg f1 : 0.7308412534266836\n",
      "BAGGING\n",
      "Avg accuracy : 0.7598613861386139\n",
      "Avg precission : 0.6905882352941177\n",
      "Avg recall : 0.8038393478796447\n",
      "Avg f1 : 0.7424274943210871\n",
      "RANDOM_FOREST\n",
      "Avg accuracy : 0.7598019801980198\n",
      "Avg precission : 0.7581960784313726\n",
      "Avg recall : 0.7629550025825661\n",
      "Avg f1 : 0.7598539222191653\n",
      "ADA_BOOST\n",
      "Avg accuracy : 0.7361782178217822\n",
      "Avg precission : 0.7462745098039216\n",
      "Avg recall : 0.7335201931823281\n",
      "Avg f1 : 0.7386369938792503\n",
      "GRADIENT_BOOST\n",
      "Avg accuracy : 0.7696435643564357\n",
      "Avg precission : 0.7859607843137255\n",
      "Avg recall : 0.7651370094568047\n",
      "Avg f1 : 0.7743233276921705\n",
      "XBOOST\n",
      "[20:01:46] WARNING: C:/Users/Administrator/workspace/xgboost-win64_release_1.5.1/src/learner.cc:1115: Starting in XGBoost 1.3.0, the default evaluation metric used with the objective 'binary:logistic' was changed from 'error' to 'logloss'. Explicitly set eval_metric if you'd like to restore the old behavior.\n",
      "[20:01:53] WARNING: C:/Users/Administrator/workspace/xgboost-win64_release_1.5.1/src/learner.cc:1115: Starting in XGBoost 1.3.0, the default evaluation metric used with the objective 'binary:logistic' was changed from 'error' to 'logloss'. Explicitly set eval_metric if you'd like to restore the old behavior.\n",
      "[20:02:01] WARNING: C:/Users/Administrator/workspace/xgboost-win64_release_1.5.1/src/learner.cc:1115: Starting in XGBoost 1.3.0, the default evaluation metric used with the objective 'binary:logistic' was changed from 'error' to 'logloss'. Explicitly set eval_metric if you'd like to restore the old behavior.\n",
      "[20:02:08] WARNING: C:/Users/Administrator/workspace/xgboost-win64_release_1.5.1/src/learner.cc:1115: Starting in XGBoost 1.3.0, the default evaluation metric used with the objective 'binary:logistic' was changed from 'error' to 'logloss'. Explicitly set eval_metric if you'd like to restore the old behavior.\n",
      "[20:02:15] WARNING: C:/Users/Administrator/workspace/xgboost-win64_release_1.5.1/src/learner.cc:1115: Starting in XGBoost 1.3.0, the default evaluation metric used with the objective 'binary:logistic' was changed from 'error' to 'logloss'. Explicitly set eval_metric if you'd like to restore the old behavior.\n",
      "Avg accuracy : 0.7796633663366337\n",
      "Avg precission : 0.7861176470588236\n",
      "Avg recall : 0.7805833459997183\n",
      "Avg f1 : 0.781306183569267\n",
      "LGBM_CLASSIFIER\n",
      "Avg accuracy : 0.7716435643564357\n",
      "Avg precission : 0.7819607843137255\n",
      "Avg recall : 0.7722900420397292\n",
      "Avg f1 : 0.7753428788256976\n",
      "MULTILAYER_PERCEPTRON\n",
      "Avg accuracy : 0.74\n",
      "Avg precission : 0.7143529411764706\n",
      "Avg recall : 0.7586422954128087\n",
      "Avg f1 : 0.7341778417190223\n",
      "RIDGE_CLASSIFIER\n",
      "Avg accuracy : 0.7616615067079463\n",
      "Avg precission : 0.7512987012987014\n",
      "Avg recall : 0.7658301101734646\n",
      "Avg f1 : 0.7570033070237235\n",
      "LOGISTIC_REGRESSION\n",
      "Avg accuracy : 0.8061747506019952\n",
      "Avg precission : 0.8064251537935748\n",
      "Avg recall : 0.806251582338539\n",
      "Avg f1 : 0.8054084274157447\n",
      "PERCEPTRON\n",
      "Avg accuracy : 0.7905056759545923\n",
      "Avg precission : 0.8063568010936433\n",
      "Avg recall : 0.7856132401276733\n",
      "Avg f1 : 0.79281875689568\n",
      "PASSIVE_AGRESSIVE\n",
      "Avg accuracy : 0.7957000343997247\n",
      "Avg precission : 0.7985645933014354\n",
      "Avg recall : 0.7938499450413076\n",
      "Avg f1 : 0.7949201958537578\n",
      "LDA\n",
      "Avg accuracy : 0.8035775713794289\n",
      "Avg precission : 0.7931647300068353\n",
      "Avg recall : 0.8105128489679247\n",
      "Avg f1 : 0.8014477102751876\n",
      "SUPPORT_VECTOR_MACHINE\n",
      "Avg accuracy : 0.8074905400756794\n",
      "Avg precission : 0.8169514695830484\n",
      "Avg recall : 0.8025197497800238\n",
      "Avg f1 : 0.8086263530340796\n",
      "STOCHASTIC_GRADIENT_DESCENT\n",
      "Avg accuracy : 0.7865325077399381\n",
      "Avg precission : 0.8010252904989746\n",
      "Avg recall : 0.7819317442325604\n",
      "Avg f1 : 0.7887666764115155\n",
      "NAIVE_BAYES\n",
      "Avg accuracy : 0.7669934640522876\n",
      "Avg precission : 0.7750512645249488\n",
      "Avg recall : 0.7661992942617435\n",
      "Avg f1 : 0.7697415097546855\n",
      "BAGGING\n",
      "Avg accuracy : 0.8335741314069487\n",
      "Avg precission : 0.8192754613807246\n",
      "Avg recall : 0.8431939285052629\n",
      "Avg f1 : 0.8302423214651707\n",
      "RANDOM_FOREST\n",
      "Avg accuracy : 0.8074475404196766\n",
      "Avg precission : 0.7853725222146275\n",
      "Avg recall : 0.8220666761511832\n",
      "Avg f1 : 0.8022976697675093\n",
      "ADA_BOOST\n",
      "Avg accuracy : 0.8191950464396285\n",
      "Avg precission : 0.8139781271360217\n",
      "Avg recall : 0.8223015962568591\n",
      "Avg f1 : 0.8178924731182796\n",
      "GRADIENT_BOOST\n",
      "Avg accuracy : 0.8361971104231166\n",
      "Avg precission : 0.842822966507177\n",
      "Avg recall : 0.8315264491605955\n",
      "Avg f1 : 0.83668218238654\n",
      "XBOOST\n",
      "[20:12:18] WARNING: C:/Users/Administrator/workspace/xgboost-win64_release_1.5.1/src/learner.cc:1115: Starting in XGBoost 1.3.0, the default evaluation metric used with the objective 'binary:logistic' was changed from 'error' to 'logloss'. Explicitly set eval_metric if you'd like to restore the old behavior.\n",
      "[20:12:29] WARNING: C:/Users/Administrator/workspace/xgboost-win64_release_1.5.1/src/learner.cc:1115: Starting in XGBoost 1.3.0, the default evaluation metric used with the objective 'binary:logistic' was changed from 'error' to 'logloss'. Explicitly set eval_metric if you'd like to restore the old behavior.\n",
      "[20:12:42] WARNING: C:/Users/Administrator/workspace/xgboost-win64_release_1.5.1/src/learner.cc:1115: Starting in XGBoost 1.3.0, the default evaluation metric used with the objective 'binary:logistic' was changed from 'error' to 'logloss'. Explicitly set eval_metric if you'd like to restore the old behavior.\n",
      "[20:12:54] WARNING: C:/Users/Administrator/workspace/xgboost-win64_release_1.5.1/src/learner.cc:1115: Starting in XGBoost 1.3.0, the default evaluation metric used with the objective 'binary:logistic' was changed from 'error' to 'logloss'. Explicitly set eval_metric if you'd like to restore the old behavior.\n",
      "[20:13:07] WARNING: C:/Users/Administrator/workspace/xgboost-win64_release_1.5.1/src/learner.cc:1115: Starting in XGBoost 1.3.0, the default evaluation metric used with the objective 'binary:logistic' was changed from 'error' to 'logloss'. Explicitly set eval_metric if you'd like to restore the old behavior.\n",
      "Avg accuracy : 0.8518919848641211\n",
      "Avg precission : 0.8585782638414218\n",
      "Avg recall : 0.8462162487985273\n",
      "Avg f1 : 0.8518423018830827\n",
      "LGBM_CLASSIFIER\n",
      "Avg accuracy : 0.8492862057103544\n",
      "Avg precission : 0.8691387559808612\n",
      "Avg recall : 0.8365225458505755\n",
      "Avg f1 : 0.8520834811208289\n",
      "MULTILAYER_PERCEPTRON\n",
      "Avg accuracy : 0.8074991400068798\n",
      "Avg precission : 0.8037593984962406\n",
      "Avg recall : 0.8119619328664454\n",
      "Avg f1 : 0.8066728651020959\n",
      "RIDGE_CLASSIFIER\n",
      "Avg accuracy : 0.6200398142003982\n",
      "Avg precission : 0.6229450967946684\n",
      "Avg recall : 0.6211192179730837\n",
      "Avg f1 : 0.6216682967288458\n",
      "LOGISTIC_REGRESSION\n",
      "Avg accuracy : 0.6447856668878567\n",
      "Avg precission : 0.6550195705067174\n",
      "Avg recall : 0.6441069928884574\n",
      "Avg f1 : 0.6490853014394237\n",
      "PERCEPTRON\n",
      "Avg accuracy : 0.6236708692767088\n",
      "Avg precission : 0.6186501639691103\n",
      "Avg recall : 0.6280895567298694\n",
      "Avg f1 : 0.6226276302578084\n",
      "PASSIVE_AGRESSIVE\n",
      "Avg accuracy : 0.6433258128732582\n",
      "Avg precission : 0.6521104411298\n",
      "Avg recall : 0.6423252720329278\n",
      "Avg f1 : 0.6468396211771406\n",
      "LDA\n",
      "Avg accuracy : 0.6396708692767088\n",
      "Avg precission : 0.659473183116471\n",
      "Avg recall : 0.6367434549249051\n",
      "Avg f1 : 0.6472814547405699\n",
      "SUPPORT_VECTOR_MACHINE\n",
      "Avg accuracy : 0.6462402123424021\n",
      "Avg precission : 0.6827885327409289\n",
      "Avg recall : 0.6391379172941607\n",
      "Avg f1 : 0.6592711559228964\n",
      "STOCHASTIC_GRADIENT_DESCENT\n",
      "Avg accuracy : 0.6273098871930988\n",
      "Avg precission : 0.6696286893049825\n",
      "Avg recall : 0.6222242724856631\n",
      "Avg f1 : 0.6432702594377512\n",
      "NAIVE_BAYES\n",
      "Avg accuracy : 0.6032966157929661\n",
      "Avg precission : 0.8221305405691315\n",
      "Avg recall : 0.5897325418543503\n",
      "Avg f1 : 0.6661953399755696\n",
      "BAGGING\n",
      "Avg accuracy : 0.7662959522229595\n",
      "Avg precission : 0.7584047392362213\n",
      "Avg recall : 0.7861245469748873\n",
      "Avg f1 : 0.766953770123754\n",
      "RANDOM_FOREST\n",
      "Avg accuracy : 0.6738473788984738\n",
      "Avg precission : 0.7015656405373956\n",
      "Avg recall : 0.6693042041377953\n",
      "Avg f1 : 0.6841477876683211\n",
      "ADA_BOOST\n",
      "Avg accuracy : 0.7459349701393496\n",
      "Avg precission : 0.7437427271765576\n",
      "Avg recall : 0.7503074129161086\n",
      "Avg f1 : 0.7462970747007608\n",
      "GRADIENT_BOOST\n",
      "Avg accuracy : 0.791755806237558\n",
      "Avg precission : 0.8180260234846081\n",
      "Avg recall : 0.7875072488870724\n",
      "Avg f1 : 0.8000742572322539\n",
      "XBOOST\n",
      "[20:33:14] WARNING: C:/Users/Administrator/workspace/xgboost-win64_release_1.5.1/src/learner.cc:1115: Starting in XGBoost 1.3.0, the default evaluation metric used with the objective 'binary:logistic' was changed from 'error' to 'logloss'. Explicitly set eval_metric if you'd like to restore the old behavior.\n",
      "[20:33:45] WARNING: C:/Users/Administrator/workspace/xgboost-win64_release_1.5.1/src/learner.cc:1115: Starting in XGBoost 1.3.0, the default evaluation metric used with the objective 'binary:logistic' was changed from 'error' to 'logloss'. Explicitly set eval_metric if you'd like to restore the old behavior.\n",
      "[20:34:19] WARNING: C:/Users/Administrator/workspace/xgboost-win64_release_1.5.1/src/learner.cc:1115: Starting in XGBoost 1.3.0, the default evaluation metric used with the objective 'binary:logistic' was changed from 'error' to 'logloss'. Explicitly set eval_metric if you'd like to restore the old behavior.\n",
      "[20:34:52] WARNING: C:/Users/Administrator/workspace/xgboost-win64_release_1.5.1/src/learner.cc:1115: Starting in XGBoost 1.3.0, the default evaluation metric used with the objective 'binary:logistic' was changed from 'error' to 'logloss'. Explicitly set eval_metric if you'd like to restore the old behavior.\n",
      "[20:35:25] WARNING: C:/Users/Administrator/workspace/xgboost-win64_release_1.5.1/src/learner.cc:1115: Starting in XGBoost 1.3.0, the default evaluation metric used with the objective 'binary:logistic' was changed from 'error' to 'logloss'. Explicitly set eval_metric if you'd like to restore the old behavior.\n",
      "Avg accuracy : 0.7633842070338421\n",
      "Avg precission : 0.7874854543531153\n",
      "Avg recall : 0.7636164798959324\n",
      "Avg f1 : 0.7718914587690955\n",
      "LGBM_CLASSIFIER\n",
      "Avg accuracy : 0.7946542800265427\n",
      "Avg precission : 0.8296413836877182\n",
      "Avg recall : 0.787683115272169\n",
      "Avg f1 : 0.8050641706181135\n",
      "MULTILAYER_PERCEPTRON\n",
      "Avg accuracy : 0.6302269409422694\n",
      "Avg precission : 0.6303924679995768\n",
      "Avg recall : 0.6318749315790699\n",
      "Avg f1 : 0.6302077136404799\n",
      "RIDGE_CLASSIFIER\n",
      "Avg accuracy : 0.4803030303030303\n",
      "Avg precission : 0.44000000000000006\n",
      "Avg recall : 0.4809523809523809\n",
      "Avg f1 : 0.4390909090909091\n",
      "LOGISTIC_REGRESSION\n",
      "Avg accuracy : 0.49848484848484853\n",
      "Avg precission : 0.44000000000000006\n",
      "Avg recall : 0.5009523809523809\n",
      "Avg f1 : 0.4479797979797979\n",
      "PERCEPTRON\n",
      "Avg accuracy : 0.4454545454545455\n",
      "Avg precission : 0.47333333333333344\n",
      "Avg recall : 0.4666666666666666\n",
      "Avg f1 : 0.45135975135975137\n",
      "PASSIVE_AGRESSIVE\n",
      "Avg accuracy : 0.4803030303030303\n",
      "Avg precission : 0.44000000000000006\n",
      "Avg recall : 0.4866666666666667\n",
      "Avg f1 : 0.4377233877233877\n",
      "LDA\n",
      "Avg accuracy : 0.5166666666666667\n",
      "Avg precission : 0.5733333333333334\n",
      "Avg recall : 0.5414285714285715\n",
      "Avg f1 : 0.5433766233766234\n",
      "SUPPORT_VECTOR_MACHINE\n",
      "Avg accuracy : 0.5151515151515151\n",
      "Avg precission : 0.5533333333333333\n",
      "Avg recall : 0.519047619047619\n",
      "Avg f1 : 0.4966666666666666\n",
      "STOCHASTIC_GRADIENT_DESCENT\n",
      "Avg accuracy : 0.48181818181818176\n",
      "Avg precission : 0.48\n",
      "Avg recall : 0.4809523809523809\n",
      "Avg f1 : 0.4590909090909091\n",
      "NAIVE_BAYES\n",
      "Avg accuracy : 0.5348484848484849\n",
      "Avg precission : 0.62\n",
      "Avg recall : 0.5285714285714286\n",
      "Avg f1 : 0.5594871794871794\n",
      "BAGGING\n",
      "Avg accuracy : 0.4621212121212121\n",
      "Avg precission : 0.47333333333333344\n",
      "Avg recall : 0.4609523809523809\n",
      "Avg f1 : 0.4606060606060606\n",
      "RANDOM_FOREST\n",
      "Avg accuracy : 0.42727272727272725\n",
      "Avg precission : 0.44000000000000006\n",
      "Avg recall : 0.5142857142857142\n",
      "Avg f1 : 0.4312820512820513\n",
      "ADA_BOOST\n",
      "Avg accuracy : 0.5712121212121212\n",
      "Avg precission : 0.58\n",
      "Avg recall : 0.5976190476190476\n",
      "Avg f1 : 0.5652991452991454\n",
      "GRADIENT_BOOST\n",
      "Avg accuracy : 0.5878787878787878\n",
      "Avg precission : 0.6\n",
      "Avg recall : 0.594047619047619\n",
      "Avg f1 : 0.5850793650793651\n",
      "XBOOST\n",
      "[20:39:10] WARNING: C:/Users/Administrator/workspace/xgboost-win64_release_1.5.1/src/learner.cc:1115: Starting in XGBoost 1.3.0, the default evaluation metric used with the objective 'binary:logistic' was changed from 'error' to 'logloss'. Explicitly set eval_metric if you'd like to restore the old behavior.\n",
      "[20:39:10] WARNING: C:/Users/Administrator/workspace/xgboost-win64_release_1.5.1/src/learner.cc:1115: Starting in XGBoost 1.3.0, the default evaluation metric used with the objective 'binary:logistic' was changed from 'error' to 'logloss'. Explicitly set eval_metric if you'd like to restore the old behavior.\n",
      "[20:39:11] WARNING: C:/Users/Administrator/workspace/xgboost-win64_release_1.5.1/src/learner.cc:1115: Starting in XGBoost 1.3.0, the default evaluation metric used with the objective 'binary:logistic' was changed from 'error' to 'logloss'. Explicitly set eval_metric if you'd like to restore the old behavior.\n",
      "[20:39:11] WARNING: C:/Users/Administrator/workspace/xgboost-win64_release_1.5.1/src/learner.cc:1115: Starting in XGBoost 1.3.0, the default evaluation metric used with the objective 'binary:logistic' was changed from 'error' to 'logloss'. Explicitly set eval_metric if you'd like to restore the old behavior.\n",
      "[20:39:12] WARNING: C:/Users/Administrator/workspace/xgboost-win64_release_1.5.1/src/learner.cc:1115: Starting in XGBoost 1.3.0, the default evaluation metric used with the objective 'binary:logistic' was changed from 'error' to 'logloss'. Explicitly set eval_metric if you'd like to restore the old behavior.\n",
      "Avg accuracy : 0.5712121212121213\n",
      "Avg precission : 0.6133333333333334\n",
      "Avg recall : 0.5892857142857142\n",
      "Avg f1 : 0.5892773892773893\n",
      "LGBM_CLASSIFIER\n",
      "Avg accuracy : 0.4818181818181818\n",
      "Avg precission : 0.48666666666666664\n",
      "Avg recall : 0.48\n",
      "Avg f1 : 0.44515151515151513\n",
      "MULTILAYER_PERCEPTRON\n",
      "Avg accuracy : 0.4242424242424242\n",
      "Avg precission : 0.4133333333333333\n",
      "Avg recall : 0.3611111111111111\n",
      "Avg f1 : 0.3689177489177489\n",
      "RIDGE_CLASSIFIER\n",
      "Avg accuracy : 0.6293737051792829\n",
      "Avg precission : 0.6277333333333334\n",
      "Avg recall : 0.6305109964738148\n",
      "Avg f1 : 0.6285710921401236\n",
      "LOGISTIC_REGRESSION\n",
      "Avg accuracy : 0.6357354581673308\n",
      "Avg precission : 0.6245079365079366\n",
      "Avg recall : 0.6393109048752168\n",
      "Avg f1 : 0.6314139417497474\n",
      "PERCEPTRON\n",
      "Avg accuracy : 0.6461482071713148\n",
      "Avg precission : 0.6453333333333333\n",
      "Avg recall : 0.6471668631502188\n",
      "Avg f1 : 0.6459915714606704\n",
      "PASSIVE_AGRESSIVE\n",
      "Avg accuracy : 0.6365354581673308\n",
      "Avg precission : 0.6181079365079365\n",
      "Avg recall : 0.6421356936144921\n",
      "Avg f1 : 0.6296971041380979\n",
      "LDA\n",
      "Avg accuracy : 0.607802390438247\n",
      "Avg precission : 0.6197587301587302\n",
      "Avg recall : 0.6065375848749973\n",
      "Avg f1 : 0.6128346004431154\n",
      "SUPPORT_VECTOR_MACHINE\n",
      "Avg accuracy : 0.6109577689243029\n",
      "Avg precission : 0.6324571428571428\n",
      "Avg recall : 0.6072674641195037\n",
      "Avg f1 : 0.6188918348576876\n",
      "STOCHASTIC_GRADIENT_DESCENT\n",
      "Avg accuracy : 0.6205673306772909\n",
      "Avg precission : 0.629384126984127\n",
      "Avg recall : 0.6212606430524541\n",
      "Avg f1 : 0.6245887779739902\n",
      "NAIVE_BAYES\n",
      "Avg accuracy : 0.5806629482071713\n",
      "Avg precission : 0.7914412698412698\n",
      "Avg recall : 0.5788977016500813\n",
      "Avg f1 : 0.637547295513311\n",
      "BAGGING\n",
      "Avg accuracy : 0.7747569721115537\n",
      "Avg precission : 0.7795428571428571\n",
      "Avg recall : 0.7857227378537311\n",
      "Avg f1 : 0.7787185412484334\n",
      "RANDOM_FOREST\n",
      "Avg accuracy : 0.6269290836653387\n",
      "Avg precission : 0.6357460317460317\n",
      "Avg recall : 0.6264791560410852\n",
      "Avg f1 : 0.6292594275192978\n",
      "ADA_BOOST\n",
      "Avg accuracy : 0.722004780876494\n",
      "Avg precission : 0.7027809523809524\n",
      "Avg recall : 0.7357989525094789\n",
      "Avg f1 : 0.7183330141779845\n",
      "GRADIENT_BOOST\n",
      "Avg accuracy : 0.7627824701195218\n",
      "Avg precission : 0.8051428571428572\n",
      "Avg recall : 0.7606204258771243\n",
      "Avg f1 : 0.7774448296806186\n",
      "XBOOST\n",
      "[20:55:30] WARNING: C:/Users/Administrator/workspace/xgboost-win64_release_1.5.1/src/learner.cc:1115: Starting in XGBoost 1.3.0, the default evaluation metric used with the objective 'binary:logistic' was changed from 'error' to 'logloss'. Explicitly set eval_metric if you'd like to restore the old behavior.\n",
      "[20:55:57] WARNING: C:/Users/Administrator/workspace/xgboost-win64_release_1.5.1/src/learner.cc:1115: Starting in XGBoost 1.3.0, the default evaluation metric used with the objective 'binary:logistic' was changed from 'error' to 'logloss'. Explicitly set eval_metric if you'd like to restore the old behavior.\n",
      "[20:56:27] WARNING: C:/Users/Administrator/workspace/xgboost-win64_release_1.5.1/src/learner.cc:1115: Starting in XGBoost 1.3.0, the default evaluation metric used with the objective 'binary:logistic' was changed from 'error' to 'logloss'. Explicitly set eval_metric if you'd like to restore the old behavior.\n",
      "[20:56:56] WARNING: C:/Users/Administrator/workspace/xgboost-win64_release_1.5.1/src/learner.cc:1115: Starting in XGBoost 1.3.0, the default evaluation metric used with the objective 'binary:logistic' was changed from 'error' to 'logloss'. Explicitly set eval_metric if you'd like to restore the old behavior.\n",
      "[20:57:25] WARNING: C:/Users/Administrator/workspace/xgboost-win64_release_1.5.1/src/learner.cc:1115: Starting in XGBoost 1.3.0, the default evaluation metric used with the objective 'binary:logistic' was changed from 'error' to 'logloss'. Explicitly set eval_metric if you'd like to restore the old behavior.\n",
      "Avg accuracy : 0.7691856573705179\n",
      "Avg precission : 0.8051428571428572\n",
      "Avg recall : 0.7655410250085979\n",
      "Avg f1 : 0.7812970257922895\n",
      "LGBM_CLASSIFIER\n",
      "Avg accuracy : 0.7619697211155378\n",
      "Avg precission : 0.8003428571428571\n",
      "Avg recall : 0.7611096605417826\n",
      "Avg f1 : 0.7759051323697901\n",
      "MULTILAYER_PERCEPTRON\n",
      "Avg accuracy : 0.5941354581673307\n",
      "Avg precission : 0.5829079365079365\n",
      "Avg recall : 0.5950693436910175\n",
      "Avg f1 : 0.5888556882009102\n",
      "RIDGE_CLASSIFIER\n",
      "Avg accuracy : 0.5399999999999999\n",
      "Avg precission : 0.52\n",
      "Avg recall : 0.6222222222222222\n",
      "Avg f1 : 0.5370129870129869\n",
      "LOGISTIC_REGRESSION\n",
      "Avg accuracy : 0.5399999999999999\n",
      "Avg precission : 0.52\n",
      "Avg recall : 0.6222222222222222\n",
      "Avg f1 : 0.5370129870129869\n",
      "PERCEPTRON\n",
      "Avg accuracy : 0.56\n",
      "Avg precission : 0.5599999999999999\n",
      "Avg recall : 0.5587301587301587\n",
      "Avg f1 : 0.5261904761904762\n",
      "PASSIVE_AGRESSIVE\n",
      "Avg accuracy : 0.5800000000000001\n",
      "Avg precission : 0.5999999999999999\n",
      "Avg recall : 0.6440476190476191\n",
      "Avg f1 : 0.6034188034188034\n",
      "LDA\n",
      "Avg accuracy : 0.5800000000000001\n",
      "Avg precission : 0.56\n",
      "Avg recall : 0.650952380952381\n",
      "Avg f1 : 0.5736796536796537\n",
      "SUPPORT_VECTOR_MACHINE\n",
      "Avg accuracy : 0.52\n",
      "Avg precission : 0.6799999999999999\n",
      "Avg recall : 0.5946031746031746\n",
      "Avg f1 : 0.5819047619047619\n",
      "STOCHASTIC_GRADIENT_DESCENT\n",
      "Avg accuracy : 0.64\n",
      "Avg precission : 0.64\n",
      "Avg recall : 0.7222222222222221\n",
      "Avg f1 : 0.6511544011544012\n",
      "NAIVE_BAYES\n",
      "Avg accuracy : 0.44000000000000006\n",
      "Avg precission : 0.52\n",
      "Avg recall : 0.4844444444444444\n",
      "Avg f1 : 0.4685714285714286\n",
      "BAGGING\n",
      "Avg accuracy : 0.52\n",
      "Avg precission : 0.48\n",
      "Avg recall : 0.5266666666666666\n",
      "Avg f1 : 0.4993939393939394\n",
      "RANDOM_FOREST\n",
      "Avg accuracy : 0.5399999999999999\n",
      "Avg precission : 0.56\n",
      "Avg recall : 0.5911111111111111\n",
      "Avg f1 : 0.5371428571428571\n",
      "ADA_BOOST\n",
      "Avg accuracy : 0.6599999999999999\n",
      "Avg precission : 0.68\n",
      "Avg recall : 0.6942857142857143\n",
      "Avg f1 : 0.6724242424242425\n",
      "GRADIENT_BOOST\n",
      "Avg accuracy : 0.5\n",
      "Avg precission : 0.56\n",
      "Avg recall : 0.5009523809523809\n",
      "Avg f1 : 0.5240404040404041\n",
      "XBOOST\n",
      "[21:01:17] WARNING: C:/Users/Administrator/workspace/xgboost-win64_release_1.5.1/src/learner.cc:1115: Starting in XGBoost 1.3.0, the default evaluation metric used with the objective 'binary:logistic' was changed from 'error' to 'logloss'. Explicitly set eval_metric if you'd like to restore the old behavior.\n",
      "[21:01:17] WARNING: C:/Users/Administrator/workspace/xgboost-win64_release_1.5.1/src/learner.cc:1115: Starting in XGBoost 1.3.0, the default evaluation metric used with the objective 'binary:logistic' was changed from 'error' to 'logloss'. Explicitly set eval_metric if you'd like to restore the old behavior.\n",
      "[21:01:18] WARNING: C:/Users/Administrator/workspace/xgboost-win64_release_1.5.1/src/learner.cc:1115: Starting in XGBoost 1.3.0, the default evaluation metric used with the objective 'binary:logistic' was changed from 'error' to 'logloss'. Explicitly set eval_metric if you'd like to restore the old behavior.\n",
      "[21:01:18] WARNING: C:/Users/Administrator/workspace/xgboost-win64_release_1.5.1/src/learner.cc:1115: Starting in XGBoost 1.3.0, the default evaluation metric used with the objective 'binary:logistic' was changed from 'error' to 'logloss'. Explicitly set eval_metric if you'd like to restore the old behavior.\n",
      "[21:01:19] WARNING: C:/Users/Administrator/workspace/xgboost-win64_release_1.5.1/src/learner.cc:1115: Starting in XGBoost 1.3.0, the default evaluation metric used with the objective 'binary:logistic' was changed from 'error' to 'logloss'. Explicitly set eval_metric if you'd like to restore the old behavior.\n",
      "Avg accuracy : 0.58\n",
      "Avg precission : 0.72\n",
      "Avg recall : 0.5964285714285714\n",
      "Avg f1 : 0.6407148407148406\n",
      "LGBM_CLASSIFIER\n",
      "Avg accuracy : 0.5800000000000001\n",
      "Avg precission : 0.68\n",
      "Avg recall : 0.635\n",
      "Avg f1 : 0.6356410256410256\n",
      "MULTILAYER_PERCEPTRON\n",
      "Avg accuracy : 0.5800000000000001\n",
      "Avg precission : 0.6\n",
      "Avg recall : 0.6579365079365079\n",
      "Avg f1 : 0.5976190476190475\n",
      "RIDGE_CLASSIFIER\n",
      "Avg accuracy : 0.5597647498132934\n",
      "Avg precission : 0.5368778280542987\n",
      "Avg recall : 0.566288060678817\n",
      "Avg f1 : 0.5503694609702862\n",
      "LOGISTIC_REGRESSION\n",
      "Avg accuracy : 0.5752053771471246\n",
      "Avg precission : 0.5561085972850679\n",
      "Avg recall : 0.5785245344779668\n",
      "Avg f1 : 0.5667372891135267\n",
      "PERCEPTRON\n",
      "Avg accuracy : 0.5849701269604182\n",
      "Avg precission : 0.5907993966817496\n",
      "Avg recall : 0.5885594547955291\n",
      "Avg f1 : 0.5887430765661303\n",
      "PASSIVE_AGRESSIVE\n",
      "Avg accuracy : 0.5655339805825242\n",
      "Avg precission : 0.5404977375565612\n",
      "Avg recall : 0.5689666701377769\n",
      "Avg f1 : 0.5541805591907897\n",
      "LDA\n",
      "Avg accuracy : 0.6060679611650486\n",
      "Avg precission : 0.5947963800904977\n",
      "Avg recall : 0.6069805074152901\n",
      "Avg f1 : 0.5998930442054607\n",
      "SUPPORT_VECTOR_MACHINE\n",
      "Avg accuracy : 0.5907206870799104\n",
      "Avg precission : 0.5525641025641026\n",
      "Avg recall : 0.5989269390689252\n",
      "Avg f1 : 0.574131692868535\n",
      "STOCHASTIC_GRADIENT_DESCENT\n",
      "Avg accuracy : 0.5443054518297237\n",
      "Avg precission : 0.5328054298642535\n",
      "Avg recall : 0.5474187392037058\n",
      "Avg f1 : 0.53913392565654\n",
      "NAIVE_BAYES\n",
      "Avg accuracy : 0.5287901418969378\n",
      "Avg precission : 0.8266968325791855\n",
      "Avg recall : 0.5372328561562998\n",
      "Avg f1 : 0.6265532745536694\n",
      "BAGGING\n",
      "Avg accuracy : 0.71814787154593\n",
      "Avg precission : 0.6606334841628959\n",
      "Avg recall : 0.7469804730431335\n",
      "Avg f1 : 0.6997580812443583\n",
      "RANDOM_FOREST\n",
      "Avg accuracy : 0.5947348767737116\n",
      "Avg precission : 0.5756410256410256\n",
      "Avg recall : 0.6031259607377848\n",
      "Avg f1 : 0.5875975533707493\n",
      "ADA_BOOST\n",
      "Avg accuracy : 0.6776512322628828\n",
      "Avg precission : 0.6797134238310709\n",
      "Avg recall : 0.6784959186404389\n",
      "Avg f1 : 0.6786185093732262\n",
      "GRADIENT_BOOST\n",
      "Avg accuracy : 0.7142457057505601\n",
      "Avg precission : 0.6798642533936652\n",
      "Avg recall : 0.7322624504347193\n",
      "Avg f1 : 0.7045335857115123\n",
      "XBOOST\n",
      "[21:07:08] WARNING: C:/Users/Administrator/workspace/xgboost-win64_release_1.5.1/src/learner.cc:1115: Starting in XGBoost 1.3.0, the default evaluation metric used with the objective 'binary:logistic' was changed from 'error' to 'logloss'. Explicitly set eval_metric if you'd like to restore the old behavior.\n",
      "[21:07:16] WARNING: C:/Users/Administrator/workspace/xgboost-win64_release_1.5.1/src/learner.cc:1115: Starting in XGBoost 1.3.0, the default evaluation metric used with the objective 'binary:logistic' was changed from 'error' to 'logloss'. Explicitly set eval_metric if you'd like to restore the old behavior.\n",
      "[21:07:26] WARNING: C:/Users/Administrator/workspace/xgboost-win64_release_1.5.1/src/learner.cc:1115: Starting in XGBoost 1.3.0, the default evaluation metric used with the objective 'binary:logistic' was changed from 'error' to 'logloss'. Explicitly set eval_metric if you'd like to restore the old behavior.\n",
      "[21:07:35] WARNING: C:/Users/Administrator/workspace/xgboost-win64_release_1.5.1/src/learner.cc:1115: Starting in XGBoost 1.3.0, the default evaluation metric used with the objective 'binary:logistic' was changed from 'error' to 'logloss'. Explicitly set eval_metric if you'd like to restore the old behavior.\n",
      "[21:07:44] WARNING: C:/Users/Administrator/workspace/xgboost-win64_release_1.5.1/src/learner.cc:1115: Starting in XGBoost 1.3.0, the default evaluation metric used with the objective 'binary:logistic' was changed from 'error' to 'logloss'. Explicitly set eval_metric if you'd like to restore the old behavior.\n",
      "Avg accuracy : 0.7161314413741598\n",
      "Avg precission : 0.7107843137254902\n",
      "Avg recall : 0.7210695389266818\n",
      "Avg f1 : 0.7151461050866992\n",
      "LGBM_CLASSIFIER\n",
      "Avg accuracy : 0.7239171023151606\n",
      "Avg precission : 0.6914781297134238\n",
      "Avg recall : 0.7418237318237318\n",
      "Avg f1 : 0.7147374367064911\n",
      "MULTILAYER_PERCEPTRON\n",
      "Avg accuracy : 0.5424383868558624\n",
      "Avg precission : 0.5138009049773756\n",
      "Avg recall : 0.5439645839893242\n",
      "Avg f1 : 0.5265252935067943\n",
      "RIDGE_CLASSIFIER\n",
      "Avg accuracy : 0.6740650074799401\n",
      "Avg precission : 0.6705882352941177\n",
      "Avg recall : 0.6783429815345843\n",
      "Avg f1 : 0.671979382524153\n",
      "LOGISTIC_REGRESSION\n",
      "Avg accuracy : 0.6775805793553651\n",
      "Avg precission : 0.6706976744186047\n",
      "Avg recall : 0.6851555185223313\n",
      "Avg f1 : 0.675155865528175\n",
      "PERCEPTRON\n",
      "Avg accuracy : 0.6974704202366381\n",
      "Avg precission : 0.7059370725034201\n",
      "Avg recall : 0.6979639220190187\n",
      "Avg f1 : 0.6997002221292667\n",
      "PASSIVE_AGRESSIVE\n",
      "Avg accuracy : 0.6752481980144158\n",
      "Avg precission : 0.6730779753761971\n",
      "Avg recall : 0.679431928491812\n",
      "Avg f1 : 0.674304875393752\n",
      "LDA\n",
      "Avg accuracy : 0.6518767849857202\n",
      "Avg precission : 0.6518194254445964\n",
      "Avg recall : 0.6547394163042364\n",
      "Avg f1 : 0.651658168236261\n",
      "SUPPORT_VECTOR_MACHINE\n",
      "Avg accuracy : 0.6986332109343125\n",
      "Avg precission : 0.745280437756498\n",
      "Avg recall : 0.6833214783118825\n",
      "Avg f1 : 0.7118271142981474\n",
      "STOCHASTIC_GRADIENT_DESCENT\n",
      "Avg accuracy : 0.7021487828097375\n",
      "Avg precission : 0.733734610123119\n",
      "Avg recall : 0.6929731698632713\n",
      "Avg f1 : 0.7107870252498091\n",
      "NAIVE_BAYES\n",
      "Avg accuracy : 0.6063511491908065\n",
      "Avg precission : 0.37854993160054723\n",
      "Avg recall : 0.6949678332940842\n",
      "Avg f1 : 0.48967293080746704\n",
      "BAGGING\n",
      "Avg accuracy : 0.8305861553107574\n",
      "Avg precission : 0.8247058823529411\n",
      "Avg recall : 0.8357935668625418\n",
      "Avg f1 : 0.82972126946565\n",
      "RANDOM_FOREST\n",
      "Avg accuracy : 0.6787161702706379\n",
      "Avg precission : 0.6705335157318741\n",
      "Avg recall : 0.680524227297927\n",
      "Avg f1 : 0.6749521325159774\n",
      "ADA_BOOST\n",
      "Avg accuracy : 0.7966952264381885\n",
      "Avg precission : 0.7804924760601916\n",
      "Avg recall : 0.8093386096216435\n",
      "Avg f1 : 0.7939874268711478\n",
      "GRADIENT_BOOST\n",
      "Avg accuracy : 0.8469400244798042\n",
      "Avg precission : 0.87140902872777\n",
      "Avg recall : 0.8328650425644184\n",
      "Avg f1 : 0.8509864446272808\n",
      "XBOOST\n",
      "[21:19:14] WARNING: C:/Users/Administrator/workspace/xgboost-win64_release_1.5.1/src/learner.cc:1115: Starting in XGBoost 1.3.0, the default evaluation metric used with the objective 'binary:logistic' was changed from 'error' to 'logloss'. Explicitly set eval_metric if you'd like to restore the old behavior.\n",
      "[21:19:29] WARNING: C:/Users/Administrator/workspace/xgboost-win64_release_1.5.1/src/learner.cc:1115: Starting in XGBoost 1.3.0, the default evaluation metric used with the objective 'binary:logistic' was changed from 'error' to 'logloss'. Explicitly set eval_metric if you'd like to restore the old behavior.\n",
      "[21:19:44] WARNING: C:/Users/Administrator/workspace/xgboost-win64_release_1.5.1/src/learner.cc:1115: Starting in XGBoost 1.3.0, the default evaluation metric used with the objective 'binary:logistic' was changed from 'error' to 'logloss'. Explicitly set eval_metric if you'd like to restore the old behavior.\n",
      "[21:20:00] WARNING: C:/Users/Administrator/workspace/xgboost-win64_release_1.5.1/src/learner.cc:1115: Starting in XGBoost 1.3.0, the default evaluation metric used with the objective 'binary:logistic' was changed from 'error' to 'logloss'. Explicitly set eval_metric if you'd like to restore the old behavior.\n",
      "[21:20:15] WARNING: C:/Users/Administrator/workspace/xgboost-win64_release_1.5.1/src/learner.cc:1115: Starting in XGBoost 1.3.0, the default evaluation metric used with the objective 'binary:logistic' was changed from 'error' to 'logloss'. Explicitly set eval_metric if you'd like to restore the old behavior.\n",
      "Avg accuracy : 0.8492860057119543\n",
      "Avg precission : 0.8667578659370724\n",
      "Avg recall : 0.8406345826766044\n",
      "Avg f1 : 0.8525738124029306\n",
      "LGBM_CLASSIFIER\n",
      "Avg accuracy : 0.8492928056575547\n",
      "Avg precission : 0.8667578659370724\n",
      "Avg recall : 0.8392352014944622\n",
      "Avg f1 : 0.8522202818932436\n",
      "MULTILAYER_PERCEPTRON\n",
      "Avg accuracy : 0.6928056575547396\n",
      "Avg precission : 0.6940355677154584\n",
      "Avg recall : 0.6948888563830626\n",
      "Avg f1 : 0.6933733596015468\n"
     ]
    },
    {
     "data": {
      "text/plain": [
       "<Figure size 921.6x432 with 0 Axes>"
      ]
     },
     "metadata": {},
     "output_type": "display_data"
    },
    {
     "data": {
      "text/plain": [
       "<Figure size 921.6x432 with 0 Axes>"
      ]
     },
     "metadata": {},
     "output_type": "display_data"
    },
    {
     "data": {
      "text/plain": [
       "<Figure size 921.6x432 with 0 Axes>"
      ]
     },
     "metadata": {},
     "output_type": "display_data"
    },
    {
     "data": {
      "text/plain": [
       "<Figure size 921.6x432 with 0 Axes>"
      ]
     },
     "metadata": {},
     "output_type": "display_data"
    },
    {
     "data": {
      "text/plain": [
       "<Figure size 921.6x432 with 0 Axes>"
      ]
     },
     "metadata": {},
     "output_type": "display_data"
    },
    {
     "data": {
      "text/plain": [
       "<Figure size 921.6x432 with 0 Axes>"
      ]
     },
     "metadata": {},
     "output_type": "display_data"
    },
    {
     "data": {
      "text/plain": [
       "<Figure size 921.6x432 with 0 Axes>"
      ]
     },
     "metadata": {},
     "output_type": "display_data"
    },
    {
     "data": {
      "text/plain": [
       "<Figure size 921.6x432 with 0 Axes>"
      ]
     },
     "metadata": {},
     "output_type": "display_data"
    },
    {
     "data": {
      "text/plain": [
       "<Figure size 921.6x432 with 0 Axes>"
      ]
     },
     "metadata": {},
     "output_type": "display_data"
    },
    {
     "data": {
      "text/plain": [
       "<Figure size 921.6x432 with 0 Axes>"
      ]
     },
     "metadata": {},
     "output_type": "display_data"
    },
    {
     "data": {
      "text/plain": [
       "<Figure size 921.6x432 with 0 Axes>"
      ]
     },
     "metadata": {},
     "output_type": "display_data"
    },
    {
     "data": {
      "text/plain": [
       "<Figure size 921.6x432 with 0 Axes>"
      ]
     },
     "metadata": {},
     "output_type": "display_data"
    },
    {
     "data": {
      "text/plain": [
       "<Figure size 921.6x432 with 0 Axes>"
      ]
     },
     "metadata": {},
     "output_type": "display_data"
    },
    {
     "data": {
      "text/plain": [
       "<Figure size 921.6x432 with 0 Axes>"
      ]
     },
     "metadata": {},
     "output_type": "display_data"
    },
    {
     "data": {
      "text/plain": [
       "<Figure size 921.6x432 with 0 Axes>"
      ]
     },
     "metadata": {},
     "output_type": "display_data"
    },
    {
     "data": {
      "text/plain": [
       "<Figure size 921.6x432 with 0 Axes>"
      ]
     },
     "metadata": {},
     "output_type": "display_data"
    },
    {
     "data": {
      "text/plain": [
       "<Figure size 921.6x432 with 0 Axes>"
      ]
     },
     "metadata": {},
     "output_type": "display_data"
    },
    {
     "data": {
      "text/plain": [
       "<Figure size 921.6x432 with 0 Axes>"
      ]
     },
     "metadata": {},
     "output_type": "display_data"
    },
    {
     "data": {
      "text/plain": [
       "<Figure size 921.6x432 with 0 Axes>"
      ]
     },
     "metadata": {},
     "output_type": "display_data"
    },
    {
     "data": {
      "text/plain": [
       "<Figure size 921.6x432 with 0 Axes>"
      ]
     },
     "metadata": {},
     "output_type": "display_data"
    },
    {
     "data": {
      "text/plain": [
       "<Figure size 921.6x432 with 0 Axes>"
      ]
     },
     "metadata": {},
     "output_type": "display_data"
    },
    {
     "data": {
      "text/plain": [
       "<Figure size 921.6x432 with 0 Axes>"
      ]
     },
     "metadata": {},
     "output_type": "display_data"
    },
    {
     "data": {
      "text/plain": [
       "<Figure size 921.6x432 with 0 Axes>"
      ]
     },
     "metadata": {},
     "output_type": "display_data"
    },
    {
     "data": {
      "text/plain": [
       "<Figure size 921.6x432 with 0 Axes>"
      ]
     },
     "metadata": {},
     "output_type": "display_data"
    },
    {
     "data": {
      "text/plain": [
       "<Figure size 921.6x432 with 0 Axes>"
      ]
     },
     "metadata": {},
     "output_type": "display_data"
    },
    {
     "data": {
      "text/plain": [
       "<Figure size 921.6x432 with 0 Axes>"
      ]
     },
     "metadata": {},
     "output_type": "display_data"
    },
    {
     "data": {
      "text/plain": [
       "<Figure size 921.6x432 with 0 Axes>"
      ]
     },
     "metadata": {},
     "output_type": "display_data"
    },
    {
     "data": {
      "text/plain": [
       "<Figure size 921.6x432 with 0 Axes>"
      ]
     },
     "metadata": {},
     "output_type": "display_data"
    },
    {
     "data": {
      "text/plain": [
       "<Figure size 921.6x432 with 0 Axes>"
      ]
     },
     "metadata": {},
     "output_type": "display_data"
    },
    {
     "data": {
      "text/plain": [
       "<Figure size 921.6x432 with 0 Axes>"
      ]
     },
     "metadata": {},
     "output_type": "display_data"
    },
    {
     "data": {
      "text/plain": [
       "<Figure size 921.6x432 with 0 Axes>"
      ]
     },
     "metadata": {},
     "output_type": "display_data"
    },
    {
     "data": {
      "text/plain": [
       "<Figure size 921.6x432 with 0 Axes>"
      ]
     },
     "metadata": {},
     "output_type": "display_data"
    },
    {
     "data": {
      "text/plain": [
       "<Figure size 921.6x432 with 0 Axes>"
      ]
     },
     "metadata": {},
     "output_type": "display_data"
    },
    {
     "data": {
      "text/plain": [
       "<Figure size 921.6x432 with 0 Axes>"
      ]
     },
     "metadata": {},
     "output_type": "display_data"
    },
    {
     "data": {
      "text/plain": [
       "<Figure size 921.6x432 with 0 Axes>"
      ]
     },
     "metadata": {},
     "output_type": "display_data"
    },
    {
     "data": {
      "text/plain": [
       "<Figure size 921.6x432 with 0 Axes>"
      ]
     },
     "metadata": {},
     "output_type": "display_data"
    },
    {
     "data": {
      "text/plain": [
       "<Figure size 921.6x432 with 0 Axes>"
      ]
     },
     "metadata": {},
     "output_type": "display_data"
    },
    {
     "data": {
      "text/plain": [
       "<Figure size 921.6x432 with 0 Axes>"
      ]
     },
     "metadata": {},
     "output_type": "display_data"
    },
    {
     "data": {
      "text/plain": [
       "<Figure size 921.6x432 with 0 Axes>"
      ]
     },
     "metadata": {},
     "output_type": "display_data"
    },
    {
     "data": {
      "text/plain": [
       "<Figure size 921.6x432 with 0 Axes>"
      ]
     },
     "metadata": {},
     "output_type": "display_data"
    },
    {
     "data": {
      "text/plain": [
       "<Figure size 921.6x432 with 0 Axes>"
      ]
     },
     "metadata": {},
     "output_type": "display_data"
    },
    {
     "data": {
      "text/plain": [
       "<Figure size 921.6x432 with 0 Axes>"
      ]
     },
     "metadata": {},
     "output_type": "display_data"
    },
    {
     "data": {
      "text/plain": [
       "<Figure size 921.6x432 with 0 Axes>"
      ]
     },
     "metadata": {},
     "output_type": "display_data"
    },
    {
     "data": {
      "text/plain": [
       "<Figure size 921.6x432 with 0 Axes>"
      ]
     },
     "metadata": {},
     "output_type": "display_data"
    },
    {
     "data": {
      "text/plain": [
       "<Figure size 921.6x432 with 0 Axes>"
      ]
     },
     "metadata": {},
     "output_type": "display_data"
    },
    {
     "data": {
      "text/plain": [
       "<Figure size 921.6x432 with 0 Axes>"
      ]
     },
     "metadata": {},
     "output_type": "display_data"
    },
    {
     "data": {
      "text/plain": [
       "<Figure size 921.6x432 with 0 Axes>"
      ]
     },
     "metadata": {},
     "output_type": "display_data"
    },
    {
     "data": {
      "text/plain": [
       "<Figure size 921.6x432 with 0 Axes>"
      ]
     },
     "metadata": {},
     "output_type": "display_data"
    },
    {
     "data": {
      "text/plain": [
       "<Figure size 921.6x432 with 0 Axes>"
      ]
     },
     "metadata": {},
     "output_type": "display_data"
    },
    {
     "data": {
      "text/plain": [
       "<Figure size 921.6x432 with 0 Axes>"
      ]
     },
     "metadata": {},
     "output_type": "display_data"
    },
    {
     "data": {
      "text/plain": [
       "<Figure size 921.6x432 with 0 Axes>"
      ]
     },
     "metadata": {},
     "output_type": "display_data"
    },
    {
     "data": {
      "text/plain": [
       "<Figure size 921.6x432 with 0 Axes>"
      ]
     },
     "metadata": {},
     "output_type": "display_data"
    },
    {
     "data": {
      "text/plain": [
       "<Figure size 921.6x432 with 0 Axes>"
      ]
     },
     "metadata": {},
     "output_type": "display_data"
    },
    {
     "data": {
      "text/plain": [
       "<Figure size 921.6x432 with 0 Axes>"
      ]
     },
     "metadata": {},
     "output_type": "display_data"
    },
    {
     "data": {
      "text/plain": [
       "<Figure size 921.6x432 with 0 Axes>"
      ]
     },
     "metadata": {},
     "output_type": "display_data"
    },
    {
     "data": {
      "text/plain": [
       "<Figure size 921.6x432 with 0 Axes>"
      ]
     },
     "metadata": {},
     "output_type": "display_data"
    },
    {
     "data": {
      "text/plain": [
       "<Figure size 921.6x432 with 0 Axes>"
      ]
     },
     "metadata": {},
     "output_type": "display_data"
    },
    {
     "data": {
      "text/plain": [
       "<Figure size 921.6x432 with 0 Axes>"
      ]
     },
     "metadata": {},
     "output_type": "display_data"
    },
    {
     "data": {
      "text/plain": [
       "<Figure size 921.6x432 with 0 Axes>"
      ]
     },
     "metadata": {},
     "output_type": "display_data"
    },
    {
     "data": {
      "text/plain": [
       "<Figure size 921.6x432 with 0 Axes>"
      ]
     },
     "metadata": {},
     "output_type": "display_data"
    },
    {
     "data": {
      "text/plain": [
       "<Figure size 921.6x432 with 0 Axes>"
      ]
     },
     "metadata": {},
     "output_type": "display_data"
    },
    {
     "data": {
      "text/plain": [
       "<Figure size 921.6x432 with 0 Axes>"
      ]
     },
     "metadata": {},
     "output_type": "display_data"
    },
    {
     "data": {
      "text/plain": [
       "<Figure size 921.6x432 with 0 Axes>"
      ]
     },
     "metadata": {},
     "output_type": "display_data"
    },
    {
     "data": {
      "text/plain": [
       "<Figure size 921.6x432 with 0 Axes>"
      ]
     },
     "metadata": {},
     "output_type": "display_data"
    },
    {
     "data": {
      "text/plain": [
       "<Figure size 921.6x432 with 0 Axes>"
      ]
     },
     "metadata": {},
     "output_type": "display_data"
    },
    {
     "data": {
      "text/plain": [
       "<Figure size 921.6x432 with 0 Axes>"
      ]
     },
     "metadata": {},
     "output_type": "display_data"
    },
    {
     "data": {
      "text/plain": [
       "<Figure size 921.6x432 with 0 Axes>"
      ]
     },
     "metadata": {},
     "output_type": "display_data"
    },
    {
     "data": {
      "text/plain": [
       "<Figure size 921.6x432 with 0 Axes>"
      ]
     },
     "metadata": {},
     "output_type": "display_data"
    },
    {
     "data": {
      "text/plain": [
       "<Figure size 921.6x432 with 0 Axes>"
      ]
     },
     "metadata": {},
     "output_type": "display_data"
    },
    {
     "data": {
      "text/plain": [
       "<Figure size 921.6x432 with 0 Axes>"
      ]
     },
     "metadata": {},
     "output_type": "display_data"
    },
    {
     "data": {
      "text/plain": [
       "<Figure size 921.6x432 with 0 Axes>"
      ]
     },
     "metadata": {},
     "output_type": "display_data"
    },
    {
     "data": {
      "text/plain": [
       "<Figure size 921.6x432 with 0 Axes>"
      ]
     },
     "metadata": {},
     "output_type": "display_data"
    },
    {
     "data": {
      "text/plain": [
       "<Figure size 921.6x432 with 0 Axes>"
      ]
     },
     "metadata": {},
     "output_type": "display_data"
    },
    {
     "data": {
      "text/plain": [
       "<Figure size 921.6x432 with 0 Axes>"
      ]
     },
     "metadata": {},
     "output_type": "display_data"
    },
    {
     "data": {
      "text/plain": [
       "<Figure size 921.6x432 with 0 Axes>"
      ]
     },
     "metadata": {},
     "output_type": "display_data"
    },
    {
     "data": {
      "text/plain": [
       "<Figure size 921.6x432 with 0 Axes>"
      ]
     },
     "metadata": {},
     "output_type": "display_data"
    },
    {
     "data": {
      "text/plain": [
       "<Figure size 921.6x432 with 0 Axes>"
      ]
     },
     "metadata": {},
     "output_type": "display_data"
    },
    {
     "data": {
      "text/plain": [
       "<Figure size 921.6x432 with 0 Axes>"
      ]
     },
     "metadata": {},
     "output_type": "display_data"
    },
    {
     "data": {
      "text/plain": [
       "<Figure size 921.6x432 with 0 Axes>"
      ]
     },
     "metadata": {},
     "output_type": "display_data"
    },
    {
     "data": {
      "text/plain": [
       "<Figure size 921.6x432 with 0 Axes>"
      ]
     },
     "metadata": {},
     "output_type": "display_data"
    },
    {
     "data": {
      "text/plain": [
       "<Figure size 921.6x432 with 0 Axes>"
      ]
     },
     "metadata": {},
     "output_type": "display_data"
    },
    {
     "data": {
      "text/plain": [
       "<Figure size 921.6x432 with 0 Axes>"
      ]
     },
     "metadata": {},
     "output_type": "display_data"
    },
    {
     "data": {
      "text/plain": [
       "<Figure size 921.6x432 with 0 Axes>"
      ]
     },
     "metadata": {},
     "output_type": "display_data"
    },
    {
     "data": {
      "text/plain": [
       "<Figure size 921.6x432 with 0 Axes>"
      ]
     },
     "metadata": {},
     "output_type": "display_data"
    },
    {
     "data": {
      "text/plain": [
       "<Figure size 921.6x432 with 0 Axes>"
      ]
     },
     "metadata": {},
     "output_type": "display_data"
    },
    {
     "data": {
      "text/plain": [
       "<Figure size 921.6x432 with 0 Axes>"
      ]
     },
     "metadata": {},
     "output_type": "display_data"
    },
    {
     "data": {
      "text/plain": [
       "<Figure size 921.6x432 with 0 Axes>"
      ]
     },
     "metadata": {},
     "output_type": "display_data"
    },
    {
     "data": {
      "text/plain": [
       "<Figure size 921.6x432 with 0 Axes>"
      ]
     },
     "metadata": {},
     "output_type": "display_data"
    },
    {
     "data": {
      "text/plain": [
       "<Figure size 921.6x432 with 0 Axes>"
      ]
     },
     "metadata": {},
     "output_type": "display_data"
    },
    {
     "data": {
      "text/plain": [
       "<Figure size 921.6x432 with 0 Axes>"
      ]
     },
     "metadata": {},
     "output_type": "display_data"
    },
    {
     "data": {
      "text/plain": [
       "<Figure size 921.6x432 with 0 Axes>"
      ]
     },
     "metadata": {},
     "output_type": "display_data"
    },
    {
     "data": {
      "text/plain": [
       "<Figure size 921.6x432 with 0 Axes>"
      ]
     },
     "metadata": {},
     "output_type": "display_data"
    },
    {
     "data": {
      "text/plain": [
       "<Figure size 921.6x432 with 0 Axes>"
      ]
     },
     "metadata": {},
     "output_type": "display_data"
    },
    {
     "data": {
      "text/plain": [
       "<Figure size 921.6x432 with 0 Axes>"
      ]
     },
     "metadata": {},
     "output_type": "display_data"
    },
    {
     "data": {
      "text/plain": [
       "<Figure size 921.6x432 with 0 Axes>"
      ]
     },
     "metadata": {},
     "output_type": "display_data"
    },
    {
     "data": {
      "text/plain": [
       "<Figure size 921.6x432 with 0 Axes>"
      ]
     },
     "metadata": {},
     "output_type": "display_data"
    },
    {
     "data": {
      "text/plain": [
       "<Figure size 921.6x432 with 0 Axes>"
      ]
     },
     "metadata": {},
     "output_type": "display_data"
    },
    {
     "data": {
      "text/plain": [
       "<Figure size 921.6x432 with 0 Axes>"
      ]
     },
     "metadata": {},
     "output_type": "display_data"
    },
    {
     "data": {
      "text/plain": [
       "<Figure size 921.6x432 with 0 Axes>"
      ]
     },
     "metadata": {},
     "output_type": "display_data"
    },
    {
     "data": {
      "text/plain": [
       "<Figure size 921.6x432 with 0 Axes>"
      ]
     },
     "metadata": {},
     "output_type": "display_data"
    },
    {
     "data": {
      "text/plain": [
       "<Figure size 921.6x432 with 0 Axes>"
      ]
     },
     "metadata": {},
     "output_type": "display_data"
    },
    {
     "data": {
      "text/plain": [
       "<Figure size 921.6x432 with 0 Axes>"
      ]
     },
     "metadata": {},
     "output_type": "display_data"
    },
    {
     "data": {
      "text/plain": [
       "<Figure size 921.6x432 with 0 Axes>"
      ]
     },
     "metadata": {},
     "output_type": "display_data"
    },
    {
     "data": {
      "text/plain": [
       "<Figure size 921.6x432 with 0 Axes>"
      ]
     },
     "metadata": {},
     "output_type": "display_data"
    },
    {
     "data": {
      "text/plain": [
       "<Figure size 921.6x432 with 0 Axes>"
      ]
     },
     "metadata": {},
     "output_type": "display_data"
    },
    {
     "data": {
      "text/plain": [
       "<Figure size 921.6x432 with 0 Axes>"
      ]
     },
     "metadata": {},
     "output_type": "display_data"
    },
    {
     "data": {
      "text/plain": [
       "<Figure size 921.6x432 with 0 Axes>"
      ]
     },
     "metadata": {},
     "output_type": "display_data"
    },
    {
     "data": {
      "text/plain": [
       "<Figure size 921.6x432 with 0 Axes>"
      ]
     },
     "metadata": {},
     "output_type": "display_data"
    },
    {
     "data": {
      "text/plain": [
       "<Figure size 921.6x432 with 0 Axes>"
      ]
     },
     "metadata": {},
     "output_type": "display_data"
    },
    {
     "data": {
      "text/plain": [
       "<Figure size 921.6x432 with 0 Axes>"
      ]
     },
     "metadata": {},
     "output_type": "display_data"
    },
    {
     "data": {
      "text/plain": [
       "<Figure size 921.6x432 with 0 Axes>"
      ]
     },
     "metadata": {},
     "output_type": "display_data"
    },
    {
     "data": {
      "text/plain": [
       "<Figure size 921.6x432 with 0 Axes>"
      ]
     },
     "metadata": {},
     "output_type": "display_data"
    },
    {
     "data": {
      "text/plain": [
       "<Figure size 921.6x432 with 0 Axes>"
      ]
     },
     "metadata": {},
     "output_type": "display_data"
    },
    {
     "data": {
      "text/plain": [
       "<Figure size 921.6x432 with 0 Axes>"
      ]
     },
     "metadata": {},
     "output_type": "display_data"
    },
    {
     "data": {
      "text/plain": [
       "<Figure size 921.6x432 with 0 Axes>"
      ]
     },
     "metadata": {},
     "output_type": "display_data"
    },
    {
     "data": {
      "text/plain": [
       "<Figure size 921.6x432 with 0 Axes>"
      ]
     },
     "metadata": {},
     "output_type": "display_data"
    },
    {
     "data": {
      "text/plain": [
       "<Figure size 921.6x432 with 0 Axes>"
      ]
     },
     "metadata": {},
     "output_type": "display_data"
    },
    {
     "data": {
      "text/plain": [
       "<Figure size 921.6x432 with 0 Axes>"
      ]
     },
     "metadata": {},
     "output_type": "display_data"
    },
    {
     "data": {
      "text/plain": [
       "<Figure size 921.6x432 with 0 Axes>"
      ]
     },
     "metadata": {},
     "output_type": "display_data"
    },
    {
     "data": {
      "text/plain": [
       "<Figure size 921.6x432 with 0 Axes>"
      ]
     },
     "metadata": {},
     "output_type": "display_data"
    },
    {
     "data": {
      "text/plain": [
       "<Figure size 921.6x432 with 0 Axes>"
      ]
     },
     "metadata": {},
     "output_type": "display_data"
    },
    {
     "data": {
      "text/plain": [
       "<Figure size 921.6x432 with 0 Axes>"
      ]
     },
     "metadata": {},
     "output_type": "display_data"
    },
    {
     "data": {
      "text/plain": [
       "<Figure size 921.6x432 with 0 Axes>"
      ]
     },
     "metadata": {},
     "output_type": "display_data"
    },
    {
     "data": {
      "text/plain": [
       "<Figure size 921.6x432 with 0 Axes>"
      ]
     },
     "metadata": {},
     "output_type": "display_data"
    },
    {
     "data": {
      "text/plain": [
       "<Figure size 921.6x432 with 0 Axes>"
      ]
     },
     "metadata": {},
     "output_type": "display_data"
    },
    {
     "data": {
      "text/plain": [
       "<Figure size 921.6x432 with 0 Axes>"
      ]
     },
     "metadata": {},
     "output_type": "display_data"
    },
    {
     "data": {
      "text/plain": [
       "<Figure size 921.6x432 with 0 Axes>"
      ]
     },
     "metadata": {},
     "output_type": "display_data"
    },
    {
     "data": {
      "text/plain": [
       "<Figure size 921.6x432 with 0 Axes>"
      ]
     },
     "metadata": {},
     "output_type": "display_data"
    },
    {
     "data": {
      "text/plain": [
       "<Figure size 921.6x432 with 0 Axes>"
      ]
     },
     "metadata": {},
     "output_type": "display_data"
    },
    {
     "data": {
      "text/plain": [
       "<Figure size 921.6x432 with 0 Axes>"
      ]
     },
     "metadata": {},
     "output_type": "display_data"
    },
    {
     "data": {
      "text/plain": [
       "<Figure size 921.6x432 with 0 Axes>"
      ]
     },
     "metadata": {},
     "output_type": "display_data"
    },
    {
     "data": {
      "text/plain": [
       "<Figure size 921.6x432 with 0 Axes>"
      ]
     },
     "metadata": {},
     "output_type": "display_data"
    },
    {
     "data": {
      "text/plain": [
       "<Figure size 921.6x432 with 0 Axes>"
      ]
     },
     "metadata": {},
     "output_type": "display_data"
    },
    {
     "data": {
      "text/plain": [
       "<Figure size 921.6x432 with 0 Axes>"
      ]
     },
     "metadata": {},
     "output_type": "display_data"
    },
    {
     "data": {
      "text/plain": [
       "<Figure size 921.6x432 with 0 Axes>"
      ]
     },
     "metadata": {},
     "output_type": "display_data"
    },
    {
     "data": {
      "text/plain": [
       "<Figure size 921.6x432 with 0 Axes>"
      ]
     },
     "metadata": {},
     "output_type": "display_data"
    },
    {
     "data": {
      "text/plain": [
       "<Figure size 921.6x432 with 0 Axes>"
      ]
     },
     "metadata": {},
     "output_type": "display_data"
    },
    {
     "data": {
      "text/plain": [
       "<Figure size 921.6x432 with 0 Axes>"
      ]
     },
     "metadata": {},
     "output_type": "display_data"
    },
    {
     "data": {
      "text/plain": [
       "<Figure size 921.6x432 with 0 Axes>"
      ]
     },
     "metadata": {},
     "output_type": "display_data"
    },
    {
     "data": {
      "text/plain": [
       "<Figure size 921.6x432 with 0 Axes>"
      ]
     },
     "metadata": {},
     "output_type": "display_data"
    },
    {
     "data": {
      "text/plain": [
       "<Figure size 921.6x432 with 0 Axes>"
      ]
     },
     "metadata": {},
     "output_type": "display_data"
    },
    {
     "data": {
      "text/plain": [
       "<Figure size 921.6x432 with 0 Axes>"
      ]
     },
     "metadata": {},
     "output_type": "display_data"
    },
    {
     "data": {
      "text/plain": [
       "<Figure size 921.6x432 with 0 Axes>"
      ]
     },
     "metadata": {},
     "output_type": "display_data"
    },
    {
     "data": {
      "text/plain": [
       "<Figure size 921.6x432 with 0 Axes>"
      ]
     },
     "metadata": {},
     "output_type": "display_data"
    },
    {
     "data": {
      "text/plain": [
       "<Figure size 921.6x432 with 0 Axes>"
      ]
     },
     "metadata": {},
     "output_type": "display_data"
    },
    {
     "data": {
      "text/plain": [
       "<Figure size 921.6x432 with 0 Axes>"
      ]
     },
     "metadata": {},
     "output_type": "display_data"
    },
    {
     "data": {
      "text/plain": [
       "<Figure size 921.6x432 with 0 Axes>"
      ]
     },
     "metadata": {},
     "output_type": "display_data"
    },
    {
     "data": {
      "text/plain": [
       "<Figure size 921.6x432 with 0 Axes>"
      ]
     },
     "metadata": {},
     "output_type": "display_data"
    },
    {
     "data": {
      "text/plain": [
       "<Figure size 921.6x432 with 0 Axes>"
      ]
     },
     "metadata": {},
     "output_type": "display_data"
    },
    {
     "data": {
      "text/plain": [
       "<Figure size 921.6x432 with 0 Axes>"
      ]
     },
     "metadata": {},
     "output_type": "display_data"
    },
    {
     "data": {
      "text/plain": [
       "<Figure size 921.6x432 with 0 Axes>"
      ]
     },
     "metadata": {},
     "output_type": "display_data"
    },
    {
     "data": {
      "text/plain": [
       "<Figure size 921.6x432 with 0 Axes>"
      ]
     },
     "metadata": {},
     "output_type": "display_data"
    },
    {
     "data": {
      "text/plain": [
       "<Figure size 921.6x432 with 0 Axes>"
      ]
     },
     "metadata": {},
     "output_type": "display_data"
    },
    {
     "data": {
      "text/plain": [
       "<Figure size 921.6x432 with 0 Axes>"
      ]
     },
     "metadata": {},
     "output_type": "display_data"
    },
    {
     "data": {
      "text/plain": [
       "<Figure size 921.6x432 with 0 Axes>"
      ]
     },
     "metadata": {},
     "output_type": "display_data"
    },
    {
     "data": {
      "text/plain": [
       "<Figure size 921.6x432 with 0 Axes>"
      ]
     },
     "metadata": {},
     "output_type": "display_data"
    },
    {
     "data": {
      "text/plain": [
       "<Figure size 921.6x432 with 0 Axes>"
      ]
     },
     "metadata": {},
     "output_type": "display_data"
    },
    {
     "data": {
      "text/plain": [
       "<Figure size 921.6x432 with 0 Axes>"
      ]
     },
     "metadata": {},
     "output_type": "display_data"
    },
    {
     "data": {
      "text/plain": [
       "<Figure size 921.6x432 with 0 Axes>"
      ]
     },
     "metadata": {},
     "output_type": "display_data"
    },
    {
     "data": {
      "text/plain": [
       "<Figure size 921.6x432 with 0 Axes>"
      ]
     },
     "metadata": {},
     "output_type": "display_data"
    },
    {
     "data": {
      "text/plain": [
       "<Figure size 921.6x432 with 0 Axes>"
      ]
     },
     "metadata": {},
     "output_type": "display_data"
    },
    {
     "data": {
      "text/plain": [
       "<Figure size 921.6x432 with 0 Axes>"
      ]
     },
     "metadata": {},
     "output_type": "display_data"
    },
    {
     "data": {
      "text/plain": [
       "<Figure size 921.6x432 with 0 Axes>"
      ]
     },
     "metadata": {},
     "output_type": "display_data"
    },
    {
     "data": {
      "text/plain": [
       "<Figure size 921.6x432 with 0 Axes>"
      ]
     },
     "metadata": {},
     "output_type": "display_data"
    },
    {
     "data": {
      "text/plain": [
       "<Figure size 921.6x432 with 0 Axes>"
      ]
     },
     "metadata": {},
     "output_type": "display_data"
    },
    {
     "data": {
      "text/plain": [
       "<Figure size 921.6x432 with 0 Axes>"
      ]
     },
     "metadata": {},
     "output_type": "display_data"
    },
    {
     "data": {
      "text/plain": [
       "<Figure size 921.6x432 with 0 Axes>"
      ]
     },
     "metadata": {},
     "output_type": "display_data"
    },
    {
     "data": {
      "text/plain": [
       "<Figure size 921.6x432 with 0 Axes>"
      ]
     },
     "metadata": {},
     "output_type": "display_data"
    },
    {
     "data": {
      "text/plain": [
       "<Figure size 921.6x432 with 0 Axes>"
      ]
     },
     "metadata": {},
     "output_type": "display_data"
    },
    {
     "data": {
      "text/plain": [
       "<Figure size 921.6x432 with 0 Axes>"
      ]
     },
     "metadata": {},
     "output_type": "display_data"
    },
    {
     "data": {
      "text/plain": [
       "<Figure size 921.6x432 with 0 Axes>"
      ]
     },
     "metadata": {},
     "output_type": "display_data"
    },
    {
     "data": {
      "text/plain": [
       "<Figure size 921.6x432 with 0 Axes>"
      ]
     },
     "metadata": {},
     "output_type": "display_data"
    },
    {
     "data": {
      "text/plain": [
       "<Figure size 921.6x432 with 0 Axes>"
      ]
     },
     "metadata": {},
     "output_type": "display_data"
    },
    {
     "data": {
      "text/plain": [
       "<Figure size 921.6x432 with 0 Axes>"
      ]
     },
     "metadata": {},
     "output_type": "display_data"
    },
    {
     "data": {
      "text/plain": [
       "<Figure size 921.6x432 with 0 Axes>"
      ]
     },
     "metadata": {},
     "output_type": "display_data"
    },
    {
     "data": {
      "text/plain": [
       "<Figure size 921.6x432 with 0 Axes>"
      ]
     },
     "metadata": {},
     "output_type": "display_data"
    },
    {
     "data": {
      "text/plain": [
       "<Figure size 921.6x432 with 0 Axes>"
      ]
     },
     "metadata": {},
     "output_type": "display_data"
    },
    {
     "data": {
      "text/plain": [
       "<Figure size 921.6x432 with 0 Axes>"
      ]
     },
     "metadata": {},
     "output_type": "display_data"
    },
    {
     "data": {
      "text/plain": [
       "<Figure size 921.6x432 with 0 Axes>"
      ]
     },
     "metadata": {},
     "output_type": "display_data"
    },
    {
     "data": {
      "text/plain": [
       "<Figure size 921.6x432 with 0 Axes>"
      ]
     },
     "metadata": {},
     "output_type": "display_data"
    },
    {
     "data": {
      "text/plain": [
       "<Figure size 921.6x432 with 0 Axes>"
      ]
     },
     "metadata": {},
     "output_type": "display_data"
    },
    {
     "data": {
      "text/plain": [
       "<Figure size 921.6x432 with 0 Axes>"
      ]
     },
     "metadata": {},
     "output_type": "display_data"
    },
    {
     "data": {
      "text/plain": [
       "<Figure size 921.6x432 with 0 Axes>"
      ]
     },
     "metadata": {},
     "output_type": "display_data"
    },
    {
     "data": {
      "text/plain": [
       "<Figure size 921.6x432 with 0 Axes>"
      ]
     },
     "metadata": {},
     "output_type": "display_data"
    },
    {
     "data": {
      "text/plain": [
       "<Figure size 921.6x432 with 0 Axes>"
      ]
     },
     "metadata": {},
     "output_type": "display_data"
    },
    {
     "data": {
      "text/plain": [
       "<Figure size 921.6x432 with 0 Axes>"
      ]
     },
     "metadata": {},
     "output_type": "display_data"
    },
    {
     "data": {
      "text/plain": [
       "<Figure size 921.6x432 with 0 Axes>"
      ]
     },
     "metadata": {},
     "output_type": "display_data"
    },
    {
     "data": {
      "text/plain": [
       "<Figure size 921.6x432 with 0 Axes>"
      ]
     },
     "metadata": {},
     "output_type": "display_data"
    },
    {
     "data": {
      "text/plain": [
       "<Figure size 921.6x432 with 0 Axes>"
      ]
     },
     "metadata": {},
     "output_type": "display_data"
    },
    {
     "data": {
      "text/plain": [
       "<Figure size 921.6x432 with 0 Axes>"
      ]
     },
     "metadata": {},
     "output_type": "display_data"
    },
    {
     "data": {
      "text/plain": [
       "<Figure size 921.6x432 with 0 Axes>"
      ]
     },
     "metadata": {},
     "output_type": "display_data"
    },
    {
     "data": {
      "text/plain": [
       "<Figure size 921.6x432 with 0 Axes>"
      ]
     },
     "metadata": {},
     "output_type": "display_data"
    },
    {
     "data": {
      "text/plain": [
       "<Figure size 921.6x432 with 0 Axes>"
      ]
     },
     "metadata": {},
     "output_type": "display_data"
    },
    {
     "data": {
      "text/plain": [
       "<Figure size 921.6x432 with 0 Axes>"
      ]
     },
     "metadata": {},
     "output_type": "display_data"
    },
    {
     "data": {
      "text/plain": [
       "<Figure size 921.6x432 with 0 Axes>"
      ]
     },
     "metadata": {},
     "output_type": "display_data"
    },
    {
     "data": {
      "text/plain": [
       "<Figure size 921.6x432 with 0 Axes>"
      ]
     },
     "metadata": {},
     "output_type": "display_data"
    },
    {
     "data": {
      "text/plain": [
       "<Figure size 921.6x432 with 0 Axes>"
      ]
     },
     "metadata": {},
     "output_type": "display_data"
    },
    {
     "data": {
      "text/plain": [
       "<Figure size 921.6x432 with 0 Axes>"
      ]
     },
     "metadata": {},
     "output_type": "display_data"
    },
    {
     "data": {
      "text/plain": [
       "<Figure size 921.6x432 with 0 Axes>"
      ]
     },
     "metadata": {},
     "output_type": "display_data"
    },
    {
     "data": {
      "text/plain": [
       "<Figure size 921.6x432 with 0 Axes>"
      ]
     },
     "metadata": {},
     "output_type": "display_data"
    },
    {
     "data": {
      "text/plain": [
       "<Figure size 921.6x432 with 0 Axes>"
      ]
     },
     "metadata": {},
     "output_type": "display_data"
    },
    {
     "data": {
      "text/plain": [
       "<Figure size 921.6x432 with 0 Axes>"
      ]
     },
     "metadata": {},
     "output_type": "display_data"
    },
    {
     "data": {
      "text/plain": [
       "<Figure size 921.6x432 with 0 Axes>"
      ]
     },
     "metadata": {},
     "output_type": "display_data"
    },
    {
     "data": {
      "text/plain": [
       "<Figure size 921.6x432 with 0 Axes>"
      ]
     },
     "metadata": {},
     "output_type": "display_data"
    },
    {
     "data": {
      "text/plain": [
       "<Figure size 921.6x432 with 0 Axes>"
      ]
     },
     "metadata": {},
     "output_type": "display_data"
    },
    {
     "data": {
      "text/plain": [
       "<Figure size 921.6x432 with 0 Axes>"
      ]
     },
     "metadata": {},
     "output_type": "display_data"
    },
    {
     "data": {
      "text/plain": [
       "<Figure size 921.6x432 with 0 Axes>"
      ]
     },
     "metadata": {},
     "output_type": "display_data"
    },
    {
     "data": {
      "text/plain": [
       "<Figure size 921.6x432 with 0 Axes>"
      ]
     },
     "metadata": {},
     "output_type": "display_data"
    },
    {
     "data": {
      "text/plain": [
       "<Figure size 921.6x432 with 0 Axes>"
      ]
     },
     "metadata": {},
     "output_type": "display_data"
    },
    {
     "data": {
      "text/plain": [
       "<Figure size 921.6x432 with 0 Axes>"
      ]
     },
     "metadata": {},
     "output_type": "display_data"
    },
    {
     "data": {
      "text/plain": [
       "<Figure size 921.6x432 with 0 Axes>"
      ]
     },
     "metadata": {},
     "output_type": "display_data"
    },
    {
     "data": {
      "text/plain": [
       "<Figure size 921.6x432 with 0 Axes>"
      ]
     },
     "metadata": {},
     "output_type": "display_data"
    },
    {
     "data": {
      "text/plain": [
       "<Figure size 921.6x432 with 0 Axes>"
      ]
     },
     "metadata": {},
     "output_type": "display_data"
    },
    {
     "data": {
      "text/plain": [
       "<Figure size 921.6x432 with 0 Axes>"
      ]
     },
     "metadata": {},
     "output_type": "display_data"
    },
    {
     "data": {
      "text/plain": [
       "<Figure size 921.6x432 with 0 Axes>"
      ]
     },
     "metadata": {},
     "output_type": "display_data"
    },
    {
     "data": {
      "text/plain": [
       "<Figure size 921.6x432 with 0 Axes>"
      ]
     },
     "metadata": {},
     "output_type": "display_data"
    },
    {
     "data": {
      "text/plain": [
       "<Figure size 921.6x432 with 0 Axes>"
      ]
     },
     "metadata": {},
     "output_type": "display_data"
    },
    {
     "data": {
      "text/plain": [
       "<Figure size 921.6x432 with 0 Axes>"
      ]
     },
     "metadata": {},
     "output_type": "display_data"
    },
    {
     "data": {
      "text/plain": [
       "<Figure size 921.6x432 with 0 Axes>"
      ]
     },
     "metadata": {},
     "output_type": "display_data"
    },
    {
     "data": {
      "text/plain": [
       "<Figure size 921.6x432 with 0 Axes>"
      ]
     },
     "metadata": {},
     "output_type": "display_data"
    },
    {
     "data": {
      "text/plain": [
       "<Figure size 921.6x432 with 0 Axes>"
      ]
     },
     "metadata": {},
     "output_type": "display_data"
    },
    {
     "data": {
      "text/plain": [
       "<Figure size 921.6x432 with 0 Axes>"
      ]
     },
     "metadata": {},
     "output_type": "display_data"
    },
    {
     "data": {
      "text/plain": [
       "<Figure size 921.6x432 with 0 Axes>"
      ]
     },
     "metadata": {},
     "output_type": "display_data"
    },
    {
     "data": {
      "text/plain": [
       "<Figure size 921.6x432 with 0 Axes>"
      ]
     },
     "metadata": {},
     "output_type": "display_data"
    },
    {
     "data": {
      "text/plain": [
       "<Figure size 921.6x432 with 0 Axes>"
      ]
     },
     "metadata": {},
     "output_type": "display_data"
    },
    {
     "data": {
      "text/plain": [
       "<Figure size 921.6x432 with 0 Axes>"
      ]
     },
     "metadata": {},
     "output_type": "display_data"
    },
    {
     "data": {
      "text/plain": [
       "<Figure size 921.6x432 with 0 Axes>"
      ]
     },
     "metadata": {},
     "output_type": "display_data"
    },
    {
     "data": {
      "text/plain": [
       "<Figure size 921.6x432 with 0 Axes>"
      ]
     },
     "metadata": {},
     "output_type": "display_data"
    },
    {
     "data": {
      "text/plain": [
       "<Figure size 921.6x432 with 0 Axes>"
      ]
     },
     "metadata": {},
     "output_type": "display_data"
    },
    {
     "data": {
      "text/plain": [
       "<Figure size 921.6x432 with 0 Axes>"
      ]
     },
     "metadata": {},
     "output_type": "display_data"
    },
    {
     "data": {
      "text/plain": [
       "<Figure size 921.6x432 with 0 Axes>"
      ]
     },
     "metadata": {},
     "output_type": "display_data"
    },
    {
     "data": {
      "text/plain": [
       "<Figure size 921.6x432 with 0 Axes>"
      ]
     },
     "metadata": {},
     "output_type": "display_data"
    },
    {
     "data": {
      "text/plain": [
       "<Figure size 921.6x432 with 0 Axes>"
      ]
     },
     "metadata": {},
     "output_type": "display_data"
    },
    {
     "data": {
      "text/plain": [
       "<Figure size 921.6x432 with 0 Axes>"
      ]
     },
     "metadata": {},
     "output_type": "display_data"
    },
    {
     "data": {
      "text/plain": [
       "<Figure size 921.6x432 with 0 Axes>"
      ]
     },
     "metadata": {},
     "output_type": "display_data"
    },
    {
     "data": {
      "text/plain": [
       "<Figure size 921.6x432 with 0 Axes>"
      ]
     },
     "metadata": {},
     "output_type": "display_data"
    },
    {
     "data": {
      "text/plain": [
       "<Figure size 921.6x432 with 0 Axes>"
      ]
     },
     "metadata": {},
     "output_type": "display_data"
    },
    {
     "data": {
      "text/plain": [
       "<Figure size 921.6x432 with 0 Axes>"
      ]
     },
     "metadata": {},
     "output_type": "display_data"
    },
    {
     "data": {
      "text/plain": [
       "<Figure size 921.6x432 with 0 Axes>"
      ]
     },
     "metadata": {},
     "output_type": "display_data"
    },
    {
     "data": {
      "text/plain": [
       "<Figure size 921.6x432 with 0 Axes>"
      ]
     },
     "metadata": {},
     "output_type": "display_data"
    },
    {
     "data": {
      "text/plain": [
       "<Figure size 921.6x432 with 0 Axes>"
      ]
     },
     "metadata": {},
     "output_type": "display_data"
    },
    {
     "data": {
      "text/plain": [
       "<Figure size 921.6x432 with 0 Axes>"
      ]
     },
     "metadata": {},
     "output_type": "display_data"
    },
    {
     "data": {
      "text/plain": [
       "<Figure size 921.6x432 with 0 Axes>"
      ]
     },
     "metadata": {},
     "output_type": "display_data"
    },
    {
     "data": {
      "text/plain": [
       "<Figure size 921.6x432 with 0 Axes>"
      ]
     },
     "metadata": {},
     "output_type": "display_data"
    },
    {
     "data": {
      "text/plain": [
       "<Figure size 921.6x432 with 0 Axes>"
      ]
     },
     "metadata": {},
     "output_type": "display_data"
    },
    {
     "data": {
      "text/plain": [
       "<Figure size 921.6x432 with 0 Axes>"
      ]
     },
     "metadata": {},
     "output_type": "display_data"
    },
    {
     "data": {
      "text/plain": [
       "<Figure size 921.6x432 with 0 Axes>"
      ]
     },
     "metadata": {},
     "output_type": "display_data"
    },
    {
     "data": {
      "text/plain": [
       "<Figure size 921.6x432 with 0 Axes>"
      ]
     },
     "metadata": {},
     "output_type": "display_data"
    },
    {
     "data": {
      "text/plain": [
       "<Figure size 921.6x432 with 0 Axes>"
      ]
     },
     "metadata": {},
     "output_type": "display_data"
    },
    {
     "data": {
      "text/plain": [
       "<Figure size 921.6x432 with 0 Axes>"
      ]
     },
     "metadata": {},
     "output_type": "display_data"
    },
    {
     "data": {
      "text/plain": [
       "<Figure size 921.6x432 with 0 Axes>"
      ]
     },
     "metadata": {},
     "output_type": "display_data"
    },
    {
     "data": {
      "text/plain": [
       "<Figure size 921.6x432 with 0 Axes>"
      ]
     },
     "metadata": {},
     "output_type": "display_data"
    },
    {
     "data": {
      "text/plain": [
       "<Figure size 921.6x432 with 0 Axes>"
      ]
     },
     "metadata": {},
     "output_type": "display_data"
    },
    {
     "data": {
      "text/plain": [
       "<Figure size 921.6x432 with 0 Axes>"
      ]
     },
     "metadata": {},
     "output_type": "display_data"
    },
    {
     "data": {
      "text/plain": [
       "<Figure size 921.6x432 with 0 Axes>"
      ]
     },
     "metadata": {},
     "output_type": "display_data"
    },
    {
     "data": {
      "text/plain": [
       "<Figure size 921.6x432 with 0 Axes>"
      ]
     },
     "metadata": {},
     "output_type": "display_data"
    },
    {
     "data": {
      "text/plain": [
       "<Figure size 921.6x432 with 0 Axes>"
      ]
     },
     "metadata": {},
     "output_type": "display_data"
    },
    {
     "data": {
      "text/plain": [
       "<Figure size 921.6x432 with 0 Axes>"
      ]
     },
     "metadata": {},
     "output_type": "display_data"
    },
    {
     "data": {
      "text/plain": [
       "<Figure size 921.6x432 with 0 Axes>"
      ]
     },
     "metadata": {},
     "output_type": "display_data"
    },
    {
     "data": {
      "text/plain": [
       "<Figure size 921.6x432 with 0 Axes>"
      ]
     },
     "metadata": {},
     "output_type": "display_data"
    },
    {
     "data": {
      "text/plain": [
       "<Figure size 921.6x432 with 0 Axes>"
      ]
     },
     "metadata": {},
     "output_type": "display_data"
    },
    {
     "data": {
      "text/plain": [
       "<Figure size 921.6x432 with 0 Axes>"
      ]
     },
     "metadata": {},
     "output_type": "display_data"
    },
    {
     "data": {
      "text/plain": [
       "<Figure size 921.6x432 with 0 Axes>"
      ]
     },
     "metadata": {},
     "output_type": "display_data"
    },
    {
     "data": {
      "text/plain": [
       "<Figure size 921.6x432 with 0 Axes>"
      ]
     },
     "metadata": {},
     "output_type": "display_data"
    },
    {
     "data": {
      "text/plain": [
       "<Figure size 921.6x432 with 0 Axes>"
      ]
     },
     "metadata": {},
     "output_type": "display_data"
    },
    {
     "data": {
      "text/plain": [
       "<Figure size 921.6x432 with 0 Axes>"
      ]
     },
     "metadata": {},
     "output_type": "display_data"
    },
    {
     "data": {
      "text/plain": [
       "<Figure size 921.6x432 with 0 Axes>"
      ]
     },
     "metadata": {},
     "output_type": "display_data"
    },
    {
     "data": {
      "text/plain": [
       "<Figure size 921.6x432 with 0 Axes>"
      ]
     },
     "metadata": {},
     "output_type": "display_data"
    },
    {
     "data": {
      "text/plain": [
       "<Figure size 921.6x432 with 0 Axes>"
      ]
     },
     "metadata": {},
     "output_type": "display_data"
    },
    {
     "data": {
      "text/plain": [
       "<Figure size 921.6x432 with 0 Axes>"
      ]
     },
     "metadata": {},
     "output_type": "display_data"
    },
    {
     "data": {
      "text/plain": [
       "<Figure size 921.6x432 with 0 Axes>"
      ]
     },
     "metadata": {},
     "output_type": "display_data"
    },
    {
     "data": {
      "text/plain": [
       "<Figure size 921.6x432 with 0 Axes>"
      ]
     },
     "metadata": {},
     "output_type": "display_data"
    },
    {
     "data": {
      "text/plain": [
       "<Figure size 921.6x432 with 0 Axes>"
      ]
     },
     "metadata": {},
     "output_type": "display_data"
    },
    {
     "data": {
      "text/plain": [
       "<Figure size 921.6x432 with 0 Axes>"
      ]
     },
     "metadata": {},
     "output_type": "display_data"
    },
    {
     "data": {
      "text/plain": [
       "<Figure size 921.6x432 with 0 Axes>"
      ]
     },
     "metadata": {},
     "output_type": "display_data"
    },
    {
     "data": {
      "text/plain": [
       "<Figure size 921.6x432 with 0 Axes>"
      ]
     },
     "metadata": {},
     "output_type": "display_data"
    },
    {
     "data": {
      "text/plain": [
       "<Figure size 921.6x432 with 0 Axes>"
      ]
     },
     "metadata": {},
     "output_type": "display_data"
    },
    {
     "data": {
      "text/plain": [
       "<Figure size 921.6x432 with 0 Axes>"
      ]
     },
     "metadata": {},
     "output_type": "display_data"
    },
    {
     "data": {
      "text/plain": [
       "<Figure size 921.6x432 with 0 Axes>"
      ]
     },
     "metadata": {},
     "output_type": "display_data"
    },
    {
     "data": {
      "text/plain": [
       "<Figure size 921.6x432 with 0 Axes>"
      ]
     },
     "metadata": {},
     "output_type": "display_data"
    },
    {
     "data": {
      "text/plain": [
       "<Figure size 921.6x432 with 0 Axes>"
      ]
     },
     "metadata": {},
     "output_type": "display_data"
    },
    {
     "data": {
      "text/plain": [
       "<Figure size 921.6x432 with 0 Axes>"
      ]
     },
     "metadata": {},
     "output_type": "display_data"
    },
    {
     "data": {
      "text/plain": [
       "<Figure size 921.6x432 with 0 Axes>"
      ]
     },
     "metadata": {},
     "output_type": "display_data"
    },
    {
     "data": {
      "text/plain": [
       "<Figure size 921.6x432 with 0 Axes>"
      ]
     },
     "metadata": {},
     "output_type": "display_data"
    },
    {
     "data": {
      "text/plain": [
       "<Figure size 921.6x432 with 0 Axes>"
      ]
     },
     "metadata": {},
     "output_type": "display_data"
    },
    {
     "data": {
      "text/plain": [
       "<Figure size 921.6x432 with 0 Axes>"
      ]
     },
     "metadata": {},
     "output_type": "display_data"
    },
    {
     "data": {
      "text/plain": [
       "<Figure size 921.6x432 with 0 Axes>"
      ]
     },
     "metadata": {},
     "output_type": "display_data"
    },
    {
     "data": {
      "text/plain": [
       "<Figure size 921.6x432 with 0 Axes>"
      ]
     },
     "metadata": {},
     "output_type": "display_data"
    },
    {
     "data": {
      "text/plain": [
       "<Figure size 921.6x432 with 0 Axes>"
      ]
     },
     "metadata": {},
     "output_type": "display_data"
    },
    {
     "data": {
      "text/plain": [
       "<Figure size 921.6x432 with 0 Axes>"
      ]
     },
     "metadata": {},
     "output_type": "display_data"
    },
    {
     "data": {
      "text/plain": [
       "<Figure size 921.6x432 with 0 Axes>"
      ]
     },
     "metadata": {},
     "output_type": "display_data"
    },
    {
     "data": {
      "text/plain": [
       "<Figure size 921.6x432 with 0 Axes>"
      ]
     },
     "metadata": {},
     "output_type": "display_data"
    },
    {
     "data": {
      "text/plain": [
       "<Figure size 921.6x432 with 0 Axes>"
      ]
     },
     "metadata": {},
     "output_type": "display_data"
    },
    {
     "data": {
      "text/plain": [
       "<Figure size 921.6x432 with 0 Axes>"
      ]
     },
     "metadata": {},
     "output_type": "display_data"
    },
    {
     "data": {
      "text/plain": [
       "<Figure size 921.6x432 with 0 Axes>"
      ]
     },
     "metadata": {},
     "output_type": "display_data"
    },
    {
     "data": {
      "text/plain": [
       "<Figure size 921.6x432 with 0 Axes>"
      ]
     },
     "metadata": {},
     "output_type": "display_data"
    },
    {
     "data": {
      "text/plain": [
       "<Figure size 921.6x432 with 0 Axes>"
      ]
     },
     "metadata": {},
     "output_type": "display_data"
    },
    {
     "data": {
      "text/plain": [
       "<Figure size 921.6x432 with 0 Axes>"
      ]
     },
     "metadata": {},
     "output_type": "display_data"
    },
    {
     "data": {
      "text/plain": [
       "<Figure size 921.6x432 with 0 Axes>"
      ]
     },
     "metadata": {},
     "output_type": "display_data"
    },
    {
     "data": {
      "text/plain": [
       "<Figure size 921.6x432 with 0 Axes>"
      ]
     },
     "metadata": {},
     "output_type": "display_data"
    },
    {
     "data": {
      "text/plain": [
       "<Figure size 921.6x432 with 0 Axes>"
      ]
     },
     "metadata": {},
     "output_type": "display_data"
    },
    {
     "data": {
      "text/plain": [
       "<Figure size 921.6x432 with 0 Axes>"
      ]
     },
     "metadata": {},
     "output_type": "display_data"
    },
    {
     "data": {
      "text/plain": [
       "<Figure size 921.6x432 with 0 Axes>"
      ]
     },
     "metadata": {},
     "output_type": "display_data"
    },
    {
     "data": {
      "text/plain": [
       "<Figure size 921.6x432 with 0 Axes>"
      ]
     },
     "metadata": {},
     "output_type": "display_data"
    },
    {
     "data": {
      "text/plain": [
       "<Figure size 921.6x432 with 0 Axes>"
      ]
     },
     "metadata": {},
     "output_type": "display_data"
    },
    {
     "data": {
      "text/plain": [
       "<Figure size 921.6x432 with 0 Axes>"
      ]
     },
     "metadata": {},
     "output_type": "display_data"
    },
    {
     "data": {
      "text/plain": [
       "<Figure size 921.6x432 with 0 Axes>"
      ]
     },
     "metadata": {},
     "output_type": "display_data"
    },
    {
     "data": {
      "text/plain": [
       "<Figure size 921.6x432 with 0 Axes>"
      ]
     },
     "metadata": {},
     "output_type": "display_data"
    },
    {
     "data": {
      "text/plain": [
       "<Figure size 921.6x432 with 0 Axes>"
      ]
     },
     "metadata": {},
     "output_type": "display_data"
    },
    {
     "data": {
      "text/plain": [
       "<Figure size 921.6x432 with 0 Axes>"
      ]
     },
     "metadata": {},
     "output_type": "display_data"
    },
    {
     "data": {
      "text/plain": [
       "<Figure size 921.6x432 with 0 Axes>"
      ]
     },
     "metadata": {},
     "output_type": "display_data"
    },
    {
     "data": {
      "text/plain": [
       "<Figure size 921.6x432 with 0 Axes>"
      ]
     },
     "metadata": {},
     "output_type": "display_data"
    },
    {
     "data": {
      "text/plain": [
       "<Figure size 921.6x432 with 0 Axes>"
      ]
     },
     "metadata": {},
     "output_type": "display_data"
    },
    {
     "data": {
      "text/plain": [
       "<Figure size 921.6x432 with 0 Axes>"
      ]
     },
     "metadata": {},
     "output_type": "display_data"
    },
    {
     "data": {
      "text/plain": [
       "<Figure size 921.6x432 with 0 Axes>"
      ]
     },
     "metadata": {},
     "output_type": "display_data"
    },
    {
     "data": {
      "text/plain": [
       "<Figure size 921.6x432 with 0 Axes>"
      ]
     },
     "metadata": {},
     "output_type": "display_data"
    },
    {
     "data": {
      "text/plain": [
       "<Figure size 921.6x432 with 0 Axes>"
      ]
     },
     "metadata": {},
     "output_type": "display_data"
    },
    {
     "data": {
      "text/plain": [
       "<Figure size 921.6x432 with 0 Axes>"
      ]
     },
     "metadata": {},
     "output_type": "display_data"
    },
    {
     "data": {
      "text/plain": [
       "<Figure size 921.6x432 with 0 Axes>"
      ]
     },
     "metadata": {},
     "output_type": "display_data"
    },
    {
     "data": {
      "text/plain": [
       "<Figure size 921.6x432 with 0 Axes>"
      ]
     },
     "metadata": {},
     "output_type": "display_data"
    },
    {
     "data": {
      "text/plain": [
       "<Figure size 921.6x432 with 0 Axes>"
      ]
     },
     "metadata": {},
     "output_type": "display_data"
    },
    {
     "data": {
      "text/plain": [
       "<Figure size 921.6x432 with 0 Axes>"
      ]
     },
     "metadata": {},
     "output_type": "display_data"
    },
    {
     "data": {
      "text/plain": [
       "<Figure size 921.6x432 with 0 Axes>"
      ]
     },
     "metadata": {},
     "output_type": "display_data"
    },
    {
     "data": {
      "text/plain": [
       "<Figure size 921.6x432 with 0 Axes>"
      ]
     },
     "metadata": {},
     "output_type": "display_data"
    },
    {
     "data": {
      "text/plain": [
       "<Figure size 921.6x432 with 0 Axes>"
      ]
     },
     "metadata": {},
     "output_type": "display_data"
    },
    {
     "data": {
      "text/plain": [
       "<Figure size 921.6x432 with 0 Axes>"
      ]
     },
     "metadata": {},
     "output_type": "display_data"
    },
    {
     "data": {
      "text/plain": [
       "<Figure size 921.6x432 with 0 Axes>"
      ]
     },
     "metadata": {},
     "output_type": "display_data"
    },
    {
     "data": {
      "text/plain": [
       "<Figure size 921.6x432 with 0 Axes>"
      ]
     },
     "metadata": {},
     "output_type": "display_data"
    },
    {
     "data": {
      "text/plain": [
       "<Figure size 921.6x432 with 0 Axes>"
      ]
     },
     "metadata": {},
     "output_type": "display_data"
    },
    {
     "data": {
      "text/plain": [
       "<Figure size 921.6x432 with 0 Axes>"
      ]
     },
     "metadata": {},
     "output_type": "display_data"
    },
    {
     "data": {
      "text/plain": [
       "<Figure size 921.6x432 with 0 Axes>"
      ]
     },
     "metadata": {},
     "output_type": "display_data"
    },
    {
     "data": {
      "text/plain": [
       "<Figure size 921.6x432 with 0 Axes>"
      ]
     },
     "metadata": {},
     "output_type": "display_data"
    },
    {
     "data": {
      "text/plain": [
       "<Figure size 921.6x432 with 0 Axes>"
      ]
     },
     "metadata": {},
     "output_type": "display_data"
    },
    {
     "data": {
      "text/plain": [
       "<Figure size 921.6x432 with 0 Axes>"
      ]
     },
     "metadata": {},
     "output_type": "display_data"
    },
    {
     "data": {
      "text/plain": [
       "<Figure size 921.6x432 with 0 Axes>"
      ]
     },
     "metadata": {},
     "output_type": "display_data"
    },
    {
     "data": {
      "text/plain": [
       "<Figure size 921.6x432 with 0 Axes>"
      ]
     },
     "metadata": {},
     "output_type": "display_data"
    },
    {
     "data": {
      "text/plain": [
       "<Figure size 921.6x432 with 0 Axes>"
      ]
     },
     "metadata": {},
     "output_type": "display_data"
    },
    {
     "data": {
      "text/plain": [
       "<Figure size 921.6x432 with 0 Axes>"
      ]
     },
     "metadata": {},
     "output_type": "display_data"
    },
    {
     "data": {
      "text/plain": [
       "<Figure size 921.6x432 with 0 Axes>"
      ]
     },
     "metadata": {},
     "output_type": "display_data"
    },
    {
     "data": {
      "text/plain": [
       "<Figure size 921.6x432 with 0 Axes>"
      ]
     },
     "metadata": {},
     "output_type": "display_data"
    },
    {
     "data": {
      "text/plain": [
       "<Figure size 921.6x432 with 0 Axes>"
      ]
     },
     "metadata": {},
     "output_type": "display_data"
    },
    {
     "data": {
      "text/plain": [
       "<Figure size 921.6x432 with 0 Axes>"
      ]
     },
     "metadata": {},
     "output_type": "display_data"
    },
    {
     "data": {
      "text/plain": [
       "<Figure size 921.6x432 with 0 Axes>"
      ]
     },
     "metadata": {},
     "output_type": "display_data"
    },
    {
     "data": {
      "text/plain": [
       "<Figure size 921.6x432 with 0 Axes>"
      ]
     },
     "metadata": {},
     "output_type": "display_data"
    },
    {
     "data": {
      "text/plain": [
       "<Figure size 921.6x432 with 0 Axes>"
      ]
     },
     "metadata": {},
     "output_type": "display_data"
    },
    {
     "data": {
      "text/plain": [
       "<Figure size 921.6x432 with 0 Axes>"
      ]
     },
     "metadata": {},
     "output_type": "display_data"
    },
    {
     "data": {
      "text/plain": [
       "<Figure size 921.6x432 with 0 Axes>"
      ]
     },
     "metadata": {},
     "output_type": "display_data"
    },
    {
     "data": {
      "text/plain": [
       "<Figure size 921.6x432 with 0 Axes>"
      ]
     },
     "metadata": {},
     "output_type": "display_data"
    },
    {
     "data": {
      "text/plain": [
       "<Figure size 921.6x432 with 0 Axes>"
      ]
     },
     "metadata": {},
     "output_type": "display_data"
    },
    {
     "data": {
      "text/plain": [
       "<Figure size 921.6x432 with 0 Axes>"
      ]
     },
     "metadata": {},
     "output_type": "display_data"
    },
    {
     "data": {
      "text/plain": [
       "<Figure size 921.6x432 with 0 Axes>"
      ]
     },
     "metadata": {},
     "output_type": "display_data"
    },
    {
     "data": {
      "text/plain": [
       "<Figure size 921.6x432 with 0 Axes>"
      ]
     },
     "metadata": {},
     "output_type": "display_data"
    },
    {
     "data": {
      "text/plain": [
       "<Figure size 921.6x432 with 0 Axes>"
      ]
     },
     "metadata": {},
     "output_type": "display_data"
    },
    {
     "data": {
      "text/plain": [
       "<Figure size 921.6x432 with 0 Axes>"
      ]
     },
     "metadata": {},
     "output_type": "display_data"
    },
    {
     "data": {
      "text/plain": [
       "<Figure size 921.6x432 with 0 Axes>"
      ]
     },
     "metadata": {},
     "output_type": "display_data"
    },
    {
     "data": {
      "text/plain": [
       "<Figure size 921.6x432 with 0 Axes>"
      ]
     },
     "metadata": {},
     "output_type": "display_data"
    },
    {
     "data": {
      "text/plain": [
       "<Figure size 921.6x432 with 0 Axes>"
      ]
     },
     "metadata": {},
     "output_type": "display_data"
    },
    {
     "data": {
      "text/plain": [
       "<Figure size 921.6x432 with 0 Axes>"
      ]
     },
     "metadata": {},
     "output_type": "display_data"
    },
    {
     "data": {
      "text/plain": [
       "<Figure size 921.6x432 with 0 Axes>"
      ]
     },
     "metadata": {},
     "output_type": "display_data"
    },
    {
     "data": {
      "text/plain": [
       "<Figure size 921.6x432 with 0 Axes>"
      ]
     },
     "metadata": {},
     "output_type": "display_data"
    }
   ],
   "source": [
    "components = [-1]\n",
    "filesPath = \"./datasets/\"\n",
    "for file in glob.glob(filesPath+\"*.csv\"):\n",
    "    for com in components:\n",
    "        if com == -1:\n",
    "            trainModel(file,'no',2)\n",
    "        else:\n",
    "            trainModel(file,'pca',com)"
   ]
  },
  {
   "cell_type": "code",
   "execution_count": 2,
   "metadata": {},
   "outputs": [],
   "source": [
    "import glob\n",
    "import pandas as pd\n",
    "name_list = []\n",
    "total_list = []\n",
    "women_list = []\n",
    "men_list = []\n",
    "healthy_list = []\n",
    "pathological_list = []\n",
    "\n",
    "\n",
    "filePath = \"./datasets/\"\n",
    "for file in glob.glob(filePath+\"*.csv\"):\n",
    "        \n",
    "    target = \"healthy\"\n",
    "    dataframe = pd.read_csv(file)\n",
    "    y = dataframe[target]\n",
    "    X = dataframe.drop([target],axis=1)\n",
    "\n",
    "    overUnder = SMOTETomek()\n",
    "    X,y = overUnder.fit_resample(X,y)\n",
    "\n",
    "    \n",
    "    name_list.append(file.replace(\".csv\",\"\"))\n",
    "    total_list.append(X.shape[0])\n",
    "    if \"all\" in file:\n",
    "        a=X['sex'].values\n",
    "        women_list.append((a == 0).sum())\n",
    "        men_list.append((a == 1).sum())\n",
    "    else:\n",
    "        women_list.append(0)\n",
    "        men_list.append(0)\n",
    "        \n",
    "    healthy_list.append((y == 0).sum())\n",
    "    pathological_list.append((y == 1).sum())\n",
    "\n",
    "report = pd.DataFrame(np.column_stack([name_list, total_list,women_list,men_list, healthy_list, pathological_list]),\n",
    "                                            columns=['name', 'total', 'women','men','healthy', 'pathological'])\n",
    "report.to_csv(\"report.csv\")\n"
   ]
  }
 ],
 "metadata": {
  "kernelspec": {
   "display_name": "Python 3",
   "language": "python",
   "name": "python3"
  },
  "language_info": {
   "codemirror_mode": {
    "name": "ipython",
    "version": 3
   },
   "file_extension": ".py",
   "mimetype": "text/x-python",
   "name": "python",
   "nbconvert_exporter": "python",
   "pygments_lexer": "ipython3",
   "version": "3.6.13"
  }
 },
 "nbformat": 4,
 "nbformat_minor": 2
}
