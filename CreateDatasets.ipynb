{
 "cells": [
  {
   "attachments": {},
   "cell_type": "markdown",
   "id": "891aaea9",
   "metadata": {},
   "source": [
    "Creación de datasets de la base de datos SVD"
   ]
  },
  {
   "cell_type": "code",
   "execution_count": 3,
   "id": "9b54474a",
   "metadata": {},
   "outputs": [],
   "source": [
    "import featureExtractionFromSVD\n",
    "import glob\n",
    "import pandas as pd\n",
    "import numpy as np"
   ]
  },
  {
   "attachments": {},
   "cell_type": "markdown",
   "id": "c5305ffb",
   "metadata": {},
   "source": [
    "Creación de datasets de phrase y con todos, sólo hombres y sólo mujeres sin dicriminar edad"
   ]
  },
  {
   "cell_type": "code",
   "execution_count": 2,
   "id": "7021b437",
   "metadata": {},
   "outputs": [],
   "source": [
    "featureExtractionFromSVD._opensmileExtractionFeature(1,'./0-bd/SVD/BD/PHRASE/','./0-bd/SVD/META/SVD.xls','phrase','all',0,120)\n",
    "featureExtractionFromSVD._opensmileExtractionFeature(1,'./0-bd/SVD/BD/A_NEUTRAL/','./0-bd/SVD/META/SVD.xls','a_n','all',0,120)\n",
    "featureExtractionFromSVD._opensmileExtractionFeature(1,'./0-bd/SVD/BD/U_NEUTRAL/','./0-bd/SVD/META/SVD.xls','u_n','all',0,120)\n",
    "featureExtractionFromSVD._opensmileExtractionFeature(1,'./0-bd/SVD/BD/I_NEUTRAL/','./0-bd/SVD/META/SVD.xls','i_n','all',0,120)\n",
    "featureExtractionFromSVD._opensmileExtractionFeature(1,'./0-bd/SVD/BD/PHRASE/','./0-bd/SVD/META/SVD.xls','phrase','m',0,120)\n",
    "featureExtractionFromSVD._opensmileExtractionFeature(1,'./0-bd/SVD/BD/A_NEUTRAL/','./0-bd/SVD/META/SVD.xls','a_n','m',0,120)\n",
    "featureExtractionFromSVD._opensmileExtractionFeature(1,'./0-bd/SVD/BD/U_NEUTRAL/','./0-bd/SVD/META/SVD.xls','u_n','m',0,120)\n",
    "featureExtractionFromSVD._opensmileExtractionFeature(1,'./0-bd/SVD/BD/I_NEUTRAL/','./0-bd/SVD/META/SVD.xls','i_n','m',0,120)\n",
    "featureExtractionFromSVD._opensmileExtractionFeature(1,'./0-bd/SVD/BD/PHRASE/','./0-bd/SVD/META/SVD.xls','phrase','w',0,120)\n",
    "featureExtractionFromSVD._opensmileExtractionFeature(1,'./0-bd/SVD/BD/A_NEUTRAL/','./0-bd/SVD/META/SVD.xls','a_n','w',0,120)\n",
    "featureExtractionFromSVD._opensmileExtractionFeature(1,'./0-bd/SVD/BD/U_NEUTRAL/','./0-bd/SVD/META/SVD.xls','u_n','w',0,120)\n",
    "featureExtractionFromSVD._opensmileExtractionFeature(1,'./0-bd/SVD/BD/I_NEUTRAL/','./0-bd/SVD/META/SVD.xls','i_n','w',0,120)"
   ]
  },
  {
   "attachments": {},
   "cell_type": "markdown",
   "id": "0465952c",
   "metadata": {},
   "source": [
    "Creación de datasets de phrase y con todos, sólo hombres y sólo mujeres discriminando edad"
   ]
  },
  {
   "cell_type": "code",
   "execution_count": null,
   "id": "58ebf9bf",
   "metadata": {},
   "outputs": [],
   "source": [
    "featureExtractionFromSVD._opensmileExtractionFeature(1,'./0-bd/SVD/BD/PHRASE/','./0-bd/SVD/META/SVD.xls','phrase','all',0,18)\n",
    "featureExtractionFromSVD._opensmileExtractionFeature(1,'./0-bd/SVD/BD/A_NEUTRAL/','./0-bd/SVD/META/SVD.xls','a_n','all',0,18)\n",
    "featureExtractionFromSVD._opensmileExtractionFeature(1,'./0-bd/SVD/BD/U_NEUTRAL/','./0-bd/SVD/META/SVD.xls','u_n','all',0,18)\n",
    "featureExtractionFromSVD._opensmileExtractionFeature(1,'./0-bd/SVD/BD/I_NEUTRAL/','./0-bd/SVD/META/SVD.xls','i_n','all',0,18)\n",
    "featureExtractionFromSVD._opensmileExtractionFeature(1,'./0-bd/SVD/BD/PHRASE/','./0-bd/SVD/META/SVD.xls','phrase','all',19,59)\n",
    "featureExtractionFromSVD._opensmileExtractionFeature(1,'./0-bd/SVD/BD/A_NEUTRAL/','./0-bd/SVD/META/SVD.xls','a_n','all',19,59)\n",
    "featureExtractionFromSVD._opensmileExtractionFeature(1,'./0-bd/SVD/BD/U_NEUTRAL/','./0-bd/SVD/META/SVD.xls','u_n','all',19,59)\n",
    "featureExtractionFromSVD._opensmileExtractionFeature(1,'./0-bd/SVD/BD/I_NEUTRAL/','./0-bd/SVD/META/SVD.xls','i_n','all',19,59)\n",
    "featureExtractionFromSVD._opensmileExtractionFeature(1,'./0-bd/SVD/BD/PHRASE/','./0-bd/SVD/META/SVD.xls','phrase','all',19,59)\n",
    "featureExtractionFromSVD._opensmileExtractionFeature(1,'./0-bd/SVD/BD/A_NEUTRAL/','./0-bd/SVD/META/SVD.xls','a_n','all',19,59)\n",
    "featureExtractionFromSVD._opensmileExtractionFeature(1,'./0-bd/SVD/BD/U_NEUTRAL/','./0-bd/SVD/META/SVD.xls','u_n','all',19,59)\n",
    "featureExtractionFromSVD._opensmileExtractionFeature(1,'./0-bd/SVD/BD/I_NEUTRAL/','./0-bd/SVD/META/SVD.xls','i_n','all',19,59)\n",
    "featureExtractionFromSVD._opensmileExtractionFeature(1,'./0-bd/SVD/BD/PHRASE/','./0-bd/SVD/META/SVD.xls','phrase','all',60,120)\n",
    "featureExtractionFromSVD._opensmileExtractionFeature(1,'./0-bd/SVD/BD/A_NEUTRAL/','./0-bd/SVD/META/SVD.xls','a_n','all',60,120)\n",
    "featureExtractionFromSVD._opensmileExtractionFeature(1,'./0-bd/SVD/BD/U_NEUTRAL/','./0-bd/SVD/META/SVD.xls','u_n','all',60,120)\n",
    "featureExtractionFromSVD._opensmileExtractionFeature(1,'./0-bd/SVD/BD/I_NEUTRAL/','./0-bd/SVD/META/SVD.xls','i_n','all',60,120)"
   ]
  },
  {
   "attachments": {},
   "cell_type": "markdown",
   "id": "e10f09fa",
   "metadata": {},
   "source": [
    "Creación de informe con datos relevantes de todos los datasets creados número de individuos, mujeres/hombres, sanos/patológicos"
   ]
  },
  {
   "cell_type": "code",
   "execution_count": 15,
   "id": "389bf59d",
   "metadata": {},
   "outputs": [],
   "source": [
    "name_list = []\n",
    "total_list = []\n",
    "women_list = []\n",
    "men_list = []\n",
    "healthy_list = []\n",
    "pathological_list = []\n",
    "\n",
    "\n",
    "filePath = \"./datasets/\"\n",
    "for file in glob.glob(filePath+\"*.csv\"):\n",
    "        \n",
    "    dataframe = pd.read_csv(file)\n",
    "    name_list.append(file.replace(\".csv\",\"\"))\n",
    "    total_list.append(dataframe.shape[0])\n",
    "    if \"all\" in file:\n",
    "        y=dataframe['sex'].values\n",
    "        women_list.append((y == 0).sum())\n",
    "        men_list.append((y == 1).sum())\n",
    "    else:\n",
    "        women_list.append(0)\n",
    "        men_list.append(0)\n",
    "\n",
    "    y = dataframe['healthy'].values\n",
    "    healthy_list.append((y == 0).sum())\n",
    "    pathological_list.append((y == 1).sum())\n",
    "\n",
    "report = pd.DataFrame(np.column_stack([name_list, total_list,women_list,men_list, healthy_list, pathological_list]),\n",
    "                                            columns=['name', 'total', 'women','men','healthy', 'pathological'])\n",
    "report.to_csv(\"report.csv\")\n"
   ]
  }
 ],
 "metadata": {
  "kernelspec": {
   "display_name": "Python 3",
   "language": "python",
   "name": "python3"
  },
  "language_info": {
   "codemirror_mode": {
    "name": "ipython",
    "version": 3
   },
   "file_extension": ".py",
   "mimetype": "text/x-python",
   "name": "python",
   "nbconvert_exporter": "python",
   "pygments_lexer": "ipython3",
   "version": "3.6.13"
  }
 },
 "nbformat": 4,
 "nbformat_minor": 5
}
