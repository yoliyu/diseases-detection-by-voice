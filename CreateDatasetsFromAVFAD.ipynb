{
 "cells": [
  {
   "cell_type": "markdown",
   "id": "3b7fa917",
   "metadata": {},
   "source": [
    "1.Normalizar amplitud"
   ]
  },
  {
   "cell_type": "code",
   "execution_count": null,
   "id": "831a304b",
   "metadata": {},
   "outputs": [],
   "source": [
    "import SoundManipulation\n",
    "\n",
    "SoundManipulation._NormalizeAmplitudeAndResamplingAVFAD('./0-bd/AVFAD/BD/','./0-bd/AVFAD/BD/NORMALIZED/PHRASE/','./0-bd/AVFAD/META/AVFAD.xls','010',60,0)\n",
    "SoundManipulation._NormalizeAmplitudeAndResamplingAVFAD('./0-bd/AVFAD/BD/','./0-bd/AVFAD/BD/NORMALIZED/A_NEUTRAL/','./0-bd/AVFAD/META/AVFAD.xls','001',60,0)\n",
    "SoundManipulation._NormalizeAmplitudeAndResamplingAVFAD('./0-bd/AVFAD/BD/','./0-bd/AVFAD/BD/NORMALIZED/I_NEUTRAL/','./0-bd/AVFAD/META/AVFAD.xls','002',60,0)\n",
    "SoundManipulation._NormalizeAmplitudeAndResamplingAVFAD('./0-bd/AVFAD/BD/','./0-bd/AVFAD/BD/NORMALIZED/U_NEUTRAL/','./0-bd/AVFAD/META/AVFAD.xls','003',60,0)"
   ]
  },
  {
   "attachments": {},
   "cell_type": "markdown",
   "id": "891aaea9",
   "metadata": {},
   "source": [
    "2. Creación de datasets de la base de datos AVFAD"
   ]
  },
  {
   "cell_type": "markdown",
   "id": "57d26e01",
   "metadata": {},
   "source": [
    "Creación de datasets de phrase y con todos, sólo hombres y sólo mujeres sin discriminar edad"
   ]
  },
  {
   "cell_type": "code",
   "execution_count": null,
   "id": "9b54474a",
   "metadata": {},
   "outputs": [],
   "source": [
    "import featureExtractionFromAVFAD\n",
    "import featureExtraction\n",
    "\n",
    "featureExtractionFromAVFAD._opensmileExtractionFeature(1,'./0-bd/AVFAD_SVD/NORMALIZED/','./0-bd/AVFAD/META/AVFAD.xls','010','all',0,120)\n",
    "featureExtractionFromAVFAD._opensmileExtractionFeature(1,'./0-bd/AVFAD_SVD/NORMALIZED/','./0-bd/AVFAD/META/AVFAD.xls','001','all',0,120)\n",
    "featureExtractionFromAVFAD._opensmileExtractionFeature(1,'./0-bd/AVFAD_SVD/NORMALIZED/','./0-bd/AVFAD/META/AVFAD.xls','002','all',0,120)\n",
    "featureExtractionFromAVFAD._opensmileExtractionFeature(1,'./0-bd/AVFAD_SVD/NORMALIZED/','./0-bd/AVFAD/META/AVFAD.xls','003','all',0,120)\n",
    "featureExtractionFromAVFAD._opensmileExtractionFeature(1,'./0-bd/AVFAD_SVD/NORMALIZED/','./0-bd/AVFAD/META/AVFAD.xls','010','M',0,120)\n",
    "featureExtractionFromAVFAD._opensmileExtractionFeature(1,'./0-bd/AVFAD_SVD/NORMALIZED/','./0-bd/AVFAD/META/AVFAD.xls','001','M',0,120)\n",
    "featureExtractionFromAVFAD._opensmileExtractionFeature(1,'./0-bd/AVFAD_SVD/NORMALIZED/','./0-bd/AVFAD/META/AVFAD.xls','002','M',0,120)\n",
    "featureExtractionFromAVFAD._opensmileExtractionFeature(1,'./0-bd/AVFAD_SVD/NORMALIZED/','./0-bd/AVFAD/META/AVFAD.xls','003','M',0,120)\n",
    "featureExtractionFromAVFAD._opensmileExtractionFeature(1,'./0-bd/AVFAD_SVD/NORMALIZED/','./0-bd/AVFAD/META/AVFAD.xls','010','F',0,120)\n",
    "featureExtractionFromAVFAD._opensmileExtractionFeature(1,'./0-bd/AVFAD_SVD/NORMALIZED/','./0-bd/AVFAD/META/AVFAD.xls','001','F',0,120)\n",
    "featureExtractionFromAVFAD._opensmileExtractionFeature(1,'./0-bd/AVFAD_SVD/NORMALIZED/','./0-bd/AVFAD/META/AVFAD.xls','002','F',0,120)\n",
    "featureExtractionFromAVFAD._opensmileExtractionFeature(1,'./0-bd/AVFAD_SVD/NORMALIZED/','./0-bd/AVFAD/META/AVFAD.xls','003','F',0,120)"
   ]
  },
  {
   "attachments": {},
   "cell_type": "markdown",
   "id": "0465952c",
   "metadata": {},
   "source": [
    "Creación de datasets de phrase y con todos, sólo hombres y sólo mujeres discriminando edad"
   ]
  },
  {
   "cell_type": "code",
   "execution_count": null,
   "id": "58ebf9bf",
   "metadata": {},
   "outputs": [],
   "source": [
    "featureExtractionFromAVFAD._opensmileExtractionFeature(1,'./0-bd/AVFAD_SVD/NORMALIZED/','./0-bd/AVFAD/META/AVFAD.xls','010','all',0,18)\n",
    "featureExtractionFromAVFAD._opensmileExtractionFeature(1,'./0-bd/AVFAD_SVD/NORMALIZED/','./0-bd/AVFAD/META/AVFAD.xls','001','all',0,18)\n",
    "featureExtractionFromAVFAD._opensmileExtractionFeature(1,'./0-bd/AVFAD_SVD/NORMALIZED/','./0-bd/AVFAD/META/AVFAD.xls','002','all',0,18)\n",
    "featureExtractionFromAVFAD._opensmileExtractionFeature(1,'./0-bd/AVFAD_SVD/NORMALIZED/','./0-bd/AVFAD/META/AVFAD.xls','003','all',0,18)\n",
    "featureExtractionFromAVFAD._opensmileExtractionFeature(1,'./0-bd/AVFAD_SVD/NORMALIZED/','./0-bd/AVFAD/META/AVFAD.xls','010','all',19,59)\n",
    "featureExtractionFromAVFAD._opensmileExtractionFeature(1,'./0-bd/AVFAD_SVD/NORMALIZED/','./0-bd/AVFAD/META/AVFAD.xls','001','all',19,59)\n",
    "featureExtractionFromAVFAD._opensmileExtractionFeature(1,'./0-bd/AVFAD_SVD/NORMALIZED/','./0-bd/AVFAD/META/AVFAD.xls','002','all',19,59)\n",
    "featureExtractionFromAVFAD._opensmileExtractionFeature(1,'./0-bd/AVFAD_SVD/NORMALIZED/','./0-bd/AVFAD/META/AVFAD.xls','003','all',19,59)\n",
    "featureExtractionFromAVFAD._opensmileExtractionFeature(1,'./0-bd/AVFAD_SVD/NORMALIZED/','./0-bd/AVFAD/META/AVFAD.xls','010','all',19,59)\n",
    "featureExtractionFromAVFAD._opensmileExtractionFeature(1,'./0-bd/AVFAD_SVD/NORMALIZED/','./0-bd/AVFAD/META/AVFAD.xls','001','all',19,59)\n",
    "featureExtractionFromAVFAD._opensmileExtractionFeature(1,'./0-bd/AVFAD_SVD/NORMALIZED/','./0-bd/AVFAD/META/AVFAD.xls','002','all',19,59)\n",
    "featureExtractionFromAVFAD._opensmileExtractionFeature(1,'./0-bd/AVFAD_SVD/NORMALIZED/','./0-bd/AVFAD/META/AVFAD.xls','003','all',19,59)\n",
    "featureExtractionFromAVFAD._opensmileExtractionFeature(1,'./0-bd/AVFAD_SVD/NORMALIZED/','./0-bd/AVFAD/META/AVFAD.xls','010','all',60,120)\n",
    "featureExtractionFromAVFAD._opensmileExtractionFeature(1,'./0-bd/AVFAD_SVD/NORMALIZED/','./0-bd/AVFAD/META/AVFAD.xls','001','all',60,120)\n",
    "featureExtractionFromAVFAD._opensmileExtractionFeature(1,'./0-bd/AVFAD_SVD/NORMALIZED/','./0-bd/AVFAD/META/AVFAD.xls','002','all',60,120)\n",
    "featureExtractionFromAVFAD._opensmileExtractionFeature(1,'./0-bd/AVFAD_SVD/NORMALIZED/','./0-bd/AVFAD/META/AVFAD.xls','003','all',60,120)"
   ]
  },
  {
   "attachments": {},
   "cell_type": "markdown",
   "id": "e10f09fa",
   "metadata": {},
   "source": [
    "Creación de informe con datos relevantes de todos los datasets creados número de individuos, mujeres/hombres, sanos/patológicos"
   ]
  },
  {
   "cell_type": "code",
   "execution_count": null,
   "id": "389bf59d",
   "metadata": {},
   "outputs": [],
   "source": [
    "featureExtraction._printDatasetReport(\"./datasets/\")"
   ]
  }
 ],
 "metadata": {
  "kernelspec": {
   "display_name": "Python 3",
   "language": "python",
   "name": "python3"
  },
  "language_info": {
   "codemirror_mode": {
    "name": "ipython",
    "version": 3
   },
   "file_extension": ".py",
   "mimetype": "text/x-python",
   "name": "python",
   "nbconvert_exporter": "python",
   "pygments_lexer": "ipython3",
   "version": "3.6.13"
  }
 },
 "nbformat": 4,
 "nbformat_minor": 5
}
