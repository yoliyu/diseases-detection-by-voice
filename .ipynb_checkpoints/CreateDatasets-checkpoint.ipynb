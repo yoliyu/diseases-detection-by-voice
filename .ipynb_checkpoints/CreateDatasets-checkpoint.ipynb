{
 "cells": [
  {
   "cell_type": "code",
   "execution_count": null,
   "id": "ff5cfa38",
   "metadata": {},
   "outputs": [],
   "source": [
    "import featureExtractionFromSVD"
   ]
  },
  {
   "cell_type": "code",
   "execution_count": null,
   "id": "06cf7819",
   "metadata": {},
   "outputs": [],
   "source": [
    "opensmileExtractionFeature(1,'../0-bd/SVD/BD/PHRASE/','../0-bd/SVD/META/SVD.xls','phrase')\n",
    "opensmileExtractionFeature(1,'../0-bd/SVD/BD/A_NEUTRAL/','../0-bd/SVD/META/SVD.xls','a_n')"
   ]
  }
 ],
 "metadata": {
  "kernelspec": {
   "display_name": "Python 3",
   "language": "python",
   "name": "python3"
  },
  "language_info": {
   "codemirror_mode": {
    "name": "ipython",
    "version": 3
   },
   "file_extension": ".py",
   "mimetype": "text/x-python",
   "name": "python",
   "nbconvert_exporter": "python",
   "pygments_lexer": "ipython3",
   "version": "3.6.13"
  }
 },
 "nbformat": 4,
 "nbformat_minor": 5
}
